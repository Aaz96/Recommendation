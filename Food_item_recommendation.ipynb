{
  "nbformat": 4,
  "nbformat_minor": 0,
  "metadata": {
    "colab": {
      "name": "Dish_recommendation.ipynb",
      "provenance": [],
      "collapsed_sections": [],
      "toc_visible": true,
      "authorship_tag": "ABX9TyMO1/3wloL16sYuY2zgR90v",
      "include_colab_link": true
    },
    "kernelspec": {
      "name": "python3",
      "display_name": "Python 3"
    }
  },
  "cells": [
    {
      "cell_type": "markdown",
      "metadata": {
        "id": "view-in-github",
        "colab_type": "text"
      },
      "source": [
        "<a href=\"https://colab.research.google.com/github/Aaz96/Recommendation/blob/main/Food_item_recommendation.ipynb\" target=\"_parent\"><img src=\"https://colab.research.google.com/assets/colab-badge.svg\" alt=\"Open In Colab\"/></a>"
      ]
    },
    {
      "cell_type": "code",
      "metadata": {
        "id": "ozP1tLzDNubB"
      },
      "source": [
        "import sys\r\n",
        "nb_path = \"/content/drive/My Drive/Colab Notebooks\"\r\n",
        "if nb_path not in sys.path:\r\n",
        "  sys.path.insert(5, nb_path)"
      ],
      "execution_count": 1,
      "outputs": []
    },
    {
      "cell_type": "code",
      "metadata": {
        "id": "0tpUBXuS6l2M"
      },
      "source": [
        "!pip install scikit-surprise --target=\"{nb_path}\""
      ],
      "execution_count": null,
      "outputs": []
    },
    {
      "cell_type": "code",
      "metadata": {
        "colab": {
          "base_uri": "https://localhost:8080/"
        },
        "id": "llEIHhPcs2Af",
        "outputId": "39b300ac-722e-4723-ae9f-4d780f596f18"
      },
      "source": [
        "!pip install scikit-surprise"
      ],
      "execution_count": 3,
      "outputs": [
        {
          "output_type": "stream",
          "text": [
            "Processing /root/.cache/pip/wheels/78/9c/3d/41b419c9d2aff5b6e2b4c0fc8d25c538202834058f9ed110d0/scikit_surprise-1.1.1-cp36-cp36m-linux_x86_64.whl\n",
            "Requirement already satisfied: numpy>=1.11.2 in /usr/local/lib/python3.6/dist-packages (from scikit-surprise) (1.19.5)\n",
            "Requirement already satisfied: joblib>=0.11 in /usr/local/lib/python3.6/dist-packages (from scikit-surprise) (1.0.0)\n",
            "Requirement already satisfied: six>=1.10.0 in /usr/local/lib/python3.6/dist-packages (from scikit-surprise) (1.15.0)\n",
            "Requirement already satisfied: scipy>=1.0.0 in /usr/local/lib/python3.6/dist-packages (from scikit-surprise) (1.4.1)\n",
            "Installing collected packages: scikit-surprise\n",
            "Successfully installed scikit-surprise-1.1.1\n"
          ],
          "name": "stdout"
        }
      ]
    },
    {
      "cell_type": "markdown",
      "metadata": {
        "id": "3T3CxrO5bX40"
      },
      "source": [
        "# Importing the necessary libraries"
      ]
    },
    {
      "cell_type": "code",
      "metadata": {
        "id": "rTGXWMBDuLM1"
      },
      "source": [
        "from __future__ import (absolute_import, division, print_function,\n",
        "                        unicode_literals)\n",
        "import pandas as pd\n",
        "import numpy as np\n",
        "from surprise import Reader\n",
        "from surprise import Dataset\n",
        "from surprise.model_selection import cross_validate\n",
        "from surprise import NormalPredictor\n",
        "from surprise import KNNBasic\n",
        "from surprise import KNNWithMeans\n",
        "from surprise import KNNWithZScore\n",
        "from surprise import KNNBaseline\n",
        "from surprise import SVD\n",
        "from surprise import BaselineOnly\n",
        "from surprise import SVDpp\n",
        "from surprise import NMF\n",
        "from surprise import SlopeOne\n",
        "from surprise import CoClustering\n",
        "from surprise.accuracy import rmse\n",
        "from surprise import accuracy\n",
        "\n",
        "from collections import defaultdict\n",
        "\n",
        "import seaborn as sns\n",
        "import matplotlib.pyplot as plt\n",
        "\n",
        "from sklearn.model_selection import train_test_split\n",
        "\n",
        "sns.set_style('darkgrid')"
      ],
      "execution_count": 62,
      "outputs": []
    },
    {
      "cell_type": "markdown",
      "metadata": {
        "id": "0og0TDrnbeHu"
      },
      "source": [
        "# Loading the datasets"
      ]
    },
    {
      "cell_type": "code",
      "metadata": {
        "id": "24-HkXOAtDMc"
      },
      "source": [
        "df = pd.read_csv('/content/Food_data.csv')"
      ],
      "execution_count": 5,
      "outputs": []
    },
    {
      "cell_type": "code",
      "metadata": {
        "colab": {
          "base_uri": "https://localhost:8080/",
          "height": 197
        },
        "id": "3F8NAdxp5uol",
        "outputId": "11127886-1968-44b6-a3aa-a07c71e0c900"
      },
      "source": [
        "df.head()"
      ],
      "execution_count": 6,
      "outputs": [
        {
          "output_type": "execute_result",
          "data": {
            "text/html": [
              "<div>\n",
              "<style scoped>\n",
              "    .dataframe tbody tr th:only-of-type {\n",
              "        vertical-align: middle;\n",
              "    }\n",
              "\n",
              "    .dataframe tbody tr th {\n",
              "        vertical-align: top;\n",
              "    }\n",
              "\n",
              "    .dataframe thead th {\n",
              "        text-align: right;\n",
              "    }\n",
              "</style>\n",
              "<table border=\"1\" class=\"dataframe\">\n",
              "  <thead>\n",
              "    <tr style=\"text-align: right;\">\n",
              "      <th></th>\n",
              "      <th>UserID</th>\n",
              "      <th>Ratings</th>\n",
              "      <th>Food_item_ID</th>\n",
              "    </tr>\n",
              "  </thead>\n",
              "  <tbody>\n",
              "    <tr>\n",
              "      <th>0</th>\n",
              "      <td>469</td>\n",
              "      <td>3.0</td>\n",
              "      <td>57</td>\n",
              "    </tr>\n",
              "    <tr>\n",
              "      <th>1</th>\n",
              "      <td>330</td>\n",
              "      <td>4.0</td>\n",
              "      <td>49</td>\n",
              "    </tr>\n",
              "    <tr>\n",
              "      <th>2</th>\n",
              "      <td>585</td>\n",
              "      <td>1.0</td>\n",
              "      <td>100</td>\n",
              "    </tr>\n",
              "    <tr>\n",
              "      <th>3</th>\n",
              "      <td>771</td>\n",
              "      <td>3.0</td>\n",
              "      <td>70</td>\n",
              "    </tr>\n",
              "    <tr>\n",
              "      <th>4</th>\n",
              "      <td>926</td>\n",
              "      <td>4.0</td>\n",
              "      <td>12</td>\n",
              "    </tr>\n",
              "  </tbody>\n",
              "</table>\n",
              "</div>"
            ],
            "text/plain": [
              "   UserID  Ratings  Food_item_ID\n",
              "0     469      3.0            57\n",
              "1     330      4.0            49\n",
              "2     585      1.0           100\n",
              "3     771      3.0            70\n",
              "4     926      4.0            12"
            ]
          },
          "metadata": {
            "tags": []
          },
          "execution_count": 6
        }
      ]
    },
    {
      "cell_type": "code",
      "metadata": {
        "id": "PcjmNNqHvw52"
      },
      "source": [
        "users = df['UserID'].value_counts()>=50\r\n",
        "users = users[users].index.tolist()"
      ],
      "execution_count": 7,
      "outputs": []
    },
    {
      "cell_type": "code",
      "metadata": {
        "id": "G0T1kqvGv9Ef"
      },
      "source": [
        "items = df['Food_item_ID'].value_counts()>=50\r\n",
        "items = items[items].index.tolist()"
      ],
      "execution_count": 8,
      "outputs": []
    },
    {
      "cell_type": "code",
      "metadata": {
        "id": "IJ3nI9qmXiTU"
      },
      "source": [
        "ratings_w_titles = df[(df['Food_item_ID'].isin(items)) & (df['UserID'].isin(users))]"
      ],
      "execution_count": 9,
      "outputs": []
    },
    {
      "cell_type": "code",
      "metadata": {
        "id": "SI7Izx6t6iWg"
      },
      "source": [
        "ratings_w_titles.reset_index(drop= True, inplace= True)"
      ],
      "execution_count": 10,
      "outputs": []
    },
    {
      "cell_type": "code",
      "metadata": {
        "colab": {
          "base_uri": "https://localhost:8080/"
        },
        "id": "qcCYFToa7GtK",
        "outputId": "4bb02ed4-6d04-4d66-aa98-1c94ab7a89ec"
      },
      "source": [
        "ratings_w_titles['UserID'].value_counts().tail()"
      ],
      "execution_count": 11,
      "outputs": [
        {
          "output_type": "execute_result",
          "data": {
            "text/plain": [
              "397    71\n",
              "350    70\n",
              "950    70\n",
              "440    69\n",
              "820    67\n",
              "Name: UserID, dtype: int64"
            ]
          },
          "metadata": {
            "tags": []
          },
          "execution_count": 11
        }
      ]
    },
    {
      "cell_type": "code",
      "metadata": {
        "colab": {
          "base_uri": "https://localhost:8080/",
          "height": 287
        },
        "id": "0t9OpY79S8sU",
        "outputId": "df09b34d-7468-4928-db7a-02603ef40472"
      },
      "source": [
        "ratings_w_titles.describe()"
      ],
      "execution_count": 12,
      "outputs": [
        {
          "output_type": "execute_result",
          "data": {
            "text/html": [
              "<div>\n",
              "<style scoped>\n",
              "    .dataframe tbody tr th:only-of-type {\n",
              "        vertical-align: middle;\n",
              "    }\n",
              "\n",
              "    .dataframe tbody tr th {\n",
              "        vertical-align: top;\n",
              "    }\n",
              "\n",
              "    .dataframe thead th {\n",
              "        text-align: right;\n",
              "    }\n",
              "</style>\n",
              "<table border=\"1\" class=\"dataframe\">\n",
              "  <thead>\n",
              "    <tr style=\"text-align: right;\">\n",
              "      <th></th>\n",
              "      <th>UserID</th>\n",
              "      <th>Ratings</th>\n",
              "      <th>Food_item_ID</th>\n",
              "    </tr>\n",
              "  </thead>\n",
              "  <tbody>\n",
              "    <tr>\n",
              "      <th>count</th>\n",
              "      <td>100000.00000</td>\n",
              "      <td>100000.000000</td>\n",
              "      <td>100000.000000</td>\n",
              "    </tr>\n",
              "    <tr>\n",
              "      <th>mean</th>\n",
              "      <td>499.48608</td>\n",
              "      <td>2.994380</td>\n",
              "      <td>50.591190</td>\n",
              "    </tr>\n",
              "    <tr>\n",
              "      <th>std</th>\n",
              "      <td>288.64479</td>\n",
              "      <td>1.413184</td>\n",
              "      <td>28.831633</td>\n",
              "    </tr>\n",
              "    <tr>\n",
              "      <th>min</th>\n",
              "      <td>1.00000</td>\n",
              "      <td>1.000000</td>\n",
              "      <td>1.000000</td>\n",
              "    </tr>\n",
              "    <tr>\n",
              "      <th>25%</th>\n",
              "      <td>250.00000</td>\n",
              "      <td>2.000000</td>\n",
              "      <td>26.000000</td>\n",
              "    </tr>\n",
              "    <tr>\n",
              "      <th>50%</th>\n",
              "      <td>498.00000</td>\n",
              "      <td>3.000000</td>\n",
              "      <td>51.000000</td>\n",
              "    </tr>\n",
              "    <tr>\n",
              "      <th>75%</th>\n",
              "      <td>750.00000</td>\n",
              "      <td>4.000000</td>\n",
              "      <td>76.000000</td>\n",
              "    </tr>\n",
              "    <tr>\n",
              "      <th>max</th>\n",
              "      <td>1000.00000</td>\n",
              "      <td>5.000000</td>\n",
              "      <td>100.000000</td>\n",
              "    </tr>\n",
              "  </tbody>\n",
              "</table>\n",
              "</div>"
            ],
            "text/plain": [
              "             UserID        Ratings   Food_item_ID\n",
              "count  100000.00000  100000.000000  100000.000000\n",
              "mean      499.48608       2.994380      50.591190\n",
              "std       288.64479       1.413184      28.831633\n",
              "min         1.00000       1.000000       1.000000\n",
              "25%       250.00000       2.000000      26.000000\n",
              "50%       498.00000       3.000000      51.000000\n",
              "75%       750.00000       4.000000      76.000000\n",
              "max      1000.00000       5.000000     100.000000"
            ]
          },
          "metadata": {
            "tags": []
          },
          "execution_count": 12
        }
      ]
    },
    {
      "cell_type": "code",
      "metadata": {
        "colab": {
          "base_uri": "https://localhost:8080/"
        },
        "id": "WS57H0rK6JCq",
        "outputId": "f9161fa8-c62f-49d1-acf3-c4831923224d"
      },
      "source": [
        "ratings_w_titles['Food_item_ID'].nunique(), ratings_w_titles['UserID'].nunique()"
      ],
      "execution_count": 13,
      "outputs": [
        {
          "output_type": "execute_result",
          "data": {
            "text/plain": [
              "(100, 1000)"
            ]
          },
          "metadata": {
            "tags": []
          },
          "execution_count": 13
        }
      ]
    },
    {
      "cell_type": "code",
      "metadata": {
        "colab": {
          "base_uri": "https://localhost:8080/",
          "height": 292
        },
        "id": "gybL_Lz4a-Ux",
        "outputId": "acd86d2c-fbfa-4ed9-aa53-da9b380ef142"
      },
      "source": [
        "ratings_w_titles['UserID'].value_counts()[:10].plot(kind = 'bar')"
      ],
      "execution_count": 14,
      "outputs": [
        {
          "output_type": "execute_result",
          "data": {
            "text/plain": [
              "<matplotlib.axes._subplots.AxesSubplot at 0x7f36be6abda0>"
            ]
          },
          "metadata": {
            "tags": []
          },
          "execution_count": 14
        },
        {
          "output_type": "display_data",
          "data": {
            "image/png": "[encoded data removed]",
            "text/plain": [
              "<Figure size 432x288 with 1 Axes>"
            ]
          },
          "metadata": {
            "tags": []
          }
        }
      ]
    },
    {
      "cell_type": "code",
      "metadata": {
        "colab": {
          "base_uri": "https://localhost:8080/",
          "height": 292
        },
        "id": "X833rKjhLddr",
        "outputId": "32436fc4-d9bd-4737-db4d-cfdeff77f8d6"
      },
      "source": [
        "ratings_w_titles['UserID'].value_counts()[-10:].plot(kind = 'bar')"
      ],
      "execution_count": 15,
      "outputs": [
        {
          "output_type": "execute_result",
          "data": {
            "text/plain": [
              "<matplotlib.axes._subplots.AxesSubplot at 0x7f36be626a58>"
            ]
          },
          "metadata": {
            "tags": []
          },
          "execution_count": 15
        },
        {
          "output_type": "display_data",
          "data": {
            "image/png": "[encoded data removed]",
            "text/plain": [
              "<Figure size 432x288 with 1 Axes>"
            ]
          },
          "metadata": {
            "tags": []
          }
        }
      ]
    },
    {
      "cell_type": "code",
      "metadata": {
        "colab": {
          "base_uri": "https://localhost:8080/",
          "height": 285
        },
        "id": "Vs-Z3Vbwg5J9",
        "outputId": "21eb332a-969b-49bd-b027-289f12b6a28c"
      },
      "source": [
        "ratings_w_titles['Food_item_ID'].value_counts()[:10].plot(kind = 'bar')"
      ],
      "execution_count": 16,
      "outputs": [
        {
          "output_type": "execute_result",
          "data": {
            "text/plain": [
              "<matplotlib.axes._subplots.AxesSubplot at 0x7f36be115160>"
            ]
          },
          "metadata": {
            "tags": []
          },
          "execution_count": 16
        },
        {
          "output_type": "display_data",
          "data": {
            "image/png": "[encoded data removed]",
            "text/plain": [
              "<Figure size 432x288 with 1 Axes>"
            ]
          },
          "metadata": {
            "tags": []
          }
        }
      ]
    },
    {
      "cell_type": "code",
      "metadata": {
        "colab": {
          "base_uri": "https://localhost:8080/",
          "height": 285
        },
        "id": "viHKkFUVLn9y",
        "outputId": "67d3fecc-5a25-4ca4-c819-bf63feb065c6"
      },
      "source": [
        "ratings_w_titles['Food_item_ID'].value_counts()[-10:].plot(kind = 'bar')"
      ],
      "execution_count": 17,
      "outputs": [
        {
          "output_type": "execute_result",
          "data": {
            "text/plain": [
              "<matplotlib.axes._subplots.AxesSubplot at 0x7f36be047908>"
            ]
          },
          "metadata": {
            "tags": []
          },
          "execution_count": 17
        },
        {
          "output_type": "display_data",
          "data": {
            "image/png": "[encoded data removed]",
            "text/plain": [
              "<Figure size 432x288 with 1 Axes>"
            ]
          },
          "metadata": {
            "tags": []
          }
        }
      ]
    },
    {
      "cell_type": "code",
      "metadata": {
        "colab": {
          "base_uri": "https://localhost:8080/",
          "height": 388
        },
        "id": "6KPoUt1CSehu",
        "outputId": "1453484a-e592-4c51-c14c-0572bb0c5314"
      },
      "source": [
        "sns.distplot(ratings_w_titles['Food_item_ID'], rug = True)"
      ],
      "execution_count": 18,
      "outputs": [
        {
          "output_type": "stream",
          "text": [
            "/usr/local/lib/python3.6/dist-packages/seaborn/distributions.py:2557: FutureWarning: `distplot` is a deprecated function and will be removed in a future version. Please adapt your code to use either `displot` (a figure-level function with similar flexibility) or `histplot` (an axes-level function for histograms).\n",
            "  warnings.warn(msg, FutureWarning)\n",
            "/usr/local/lib/python3.6/dist-packages/seaborn/distributions.py:2056: FutureWarning: The `axis` variable is no longer used and will be removed. Instead, assign variables directly to `x` or `y`.\n",
            "  warnings.warn(msg, FutureWarning)\n"
          ],
          "name": "stderr"
        },
        {
          "output_type": "execute_result",
          "data": {
            "text/plain": [
              "<matplotlib.axes._subplots.AxesSubplot at 0x7f36bdfbfd30>"
            ]
          },
          "metadata": {
            "tags": []
          },
          "execution_count": 18
        },
        {
          "output_type": "display_data",
          "data": {
            "image/png": "[encoded data removed]",
            "text/plain": [
              "<Figure size 432x288 with 1 Axes>"
            ]
          },
          "metadata": {
            "tags": []
          }
        }
      ]
    },
    {
      "cell_type": "code",
      "metadata": {
        "colab": {
          "base_uri": "https://localhost:8080/",
          "height": 387
        },
        "id": "XVWRIwc55UeH",
        "outputId": "28eb401d-164c-4e86-9de1-25f32587d960"
      },
      "source": [
        "sns.distplot(ratings_w_titles['UserID'], rug = True)"
      ],
      "execution_count": 19,
      "outputs": [
        {
          "output_type": "stream",
          "text": [
            "/usr/local/lib/python3.6/dist-packages/seaborn/distributions.py:2557: FutureWarning: `distplot` is a deprecated function and will be removed in a future version. Please adapt your code to use either `displot` (a figure-level function with similar flexibility) or `histplot` (an axes-level function for histograms).\n",
            "  warnings.warn(msg, FutureWarning)\n",
            "/usr/local/lib/python3.6/dist-packages/seaborn/distributions.py:2056: FutureWarning: The `axis` variable is no longer used and will be removed. Instead, assign variables directly to `x` or `y`.\n",
            "  warnings.warn(msg, FutureWarning)\n"
          ],
          "name": "stderr"
        },
        {
          "output_type": "execute_result",
          "data": {
            "text/plain": [
              "<matplotlib.axes._subplots.AxesSubplot at 0x7f36b244d438>"
            ]
          },
          "metadata": {
            "tags": []
          },
          "execution_count": 19
        },
        {
          "output_type": "display_data",
          "data": {
            "image/png": "[encoded data removed]",
            "text/plain": [
              "<Figure size 432x288 with 1 Axes>"
            ]
          },
          "metadata": {
            "tags": []
          }
        }
      ]
    },
    {
      "cell_type": "markdown",
      "metadata": {
        "id": "2NSXhb-RL0Rk"
      },
      "source": [
        "# Popularity based Recommendation System"
      ]
    },
    {
      "cell_type": "code",
      "metadata": {
        "id": "wSpcBmUbLiqH"
      },
      "source": [
        ""
      ],
      "execution_count": null,
      "outputs": []
    },
    {
      "cell_type": "code",
      "metadata": {
        "id": "3Nm3MkABLk9d"
      },
      "source": [
        "class Popularity_Recommender():\n",
        "    def __init__(self):\n",
        "        self.df = None\n",
        "        self.user_id = None\n",
        "        self.product_id = None\n",
        "        self.popularity_recommendations = None\n",
        "        \n",
        "    #Create the popularity based recommender system model\n",
        "    def create(self, df, user_id, product_id):\n",
        "        self.df_train = df\n",
        "        self.user_id = user_id\n",
        "        self.product_id = product_id\n",
        "\n",
        "        #Get a count of user_ids for each unique product as recommendation score\n",
        "        train_data_grouped = df.groupby([self.product_id]).agg({self.user_id: 'count'}).reset_index()\n",
        "        train_data_grouped.rename(columns = {'UserID': 'Score'},inplace=True)\n",
        "        print(train_data_grouped.head())\n",
        "    \n",
        "        #Sort the products based upon recommendation score\n",
        "        train_data_sort = train_data_grouped.sort_values(['Score', self.product_id], ascending = [0,1])\n",
        "    \n",
        "        #Generate a recommendation rank based upon score\n",
        "        train_data_sort['Rank'] = train_data_sort['Score'].rank(ascending=0, method='first')\n",
        "        \n",
        "        #Get the top 10 recommendations\n",
        "        self.popularity_recommendations = train_data_sort.head(10)\n",
        "\n",
        "    #Use the popularity based recommender system model to\n",
        "    #make recommendations\n",
        "    def recommend(self, user_id):    \n",
        "        user_recommendations = self.popularity_recommendations\n",
        "        \n",
        "        #Add user_id column for which the recommendations are being generated\n",
        "        user_recommendations['UserID'] = user_id\n",
        "        \n",
        "        #Bring user_id column to the front\n",
        "        cols = user_recommendations.columns.tolist()\n",
        "        cols = cols[-1:] + cols[:-1]\n",
        "        user_recommendations = user_recommendations[cols]\n",
        "        \n",
        "        return user_recommendations"
      ],
      "execution_count": 20,
      "outputs": []
    },
    {
      "cell_type": "code",
      "metadata": {
        "colab": {
          "base_uri": "https://localhost:8080/",
          "height": 454
        },
        "id": "b2ad7M_aSmfD",
        "outputId": "647f7eac-5b58-4ae8-a63c-665dd06cc55f"
      },
      "source": [
        "pop_recommend = Popularity_Recommender()\r\n",
        "pop_recommend.create(df, 'UserID', 'Food_item_ID')\r\n",
        "pop_recommend.recommend(896)"
      ],
      "execution_count": 24,
      "outputs": [
        {
          "output_type": "stream",
          "text": [
            "   Food_item_ID  Score\n",
            "0             1    989\n",
            "1             2   1023\n",
            "2             3    957\n",
            "3             4    991\n",
            "4             5    996\n"
          ],
          "name": "stdout"
        },
        {
          "output_type": "execute_result",
          "data": {
            "text/html": [
              "<div>\n",
              "<style scoped>\n",
              "    .dataframe tbody tr th:only-of-type {\n",
              "        vertical-align: middle;\n",
              "    }\n",
              "\n",
              "    .dataframe tbody tr th {\n",
              "        vertical-align: top;\n",
              "    }\n",
              "\n",
              "    .dataframe thead th {\n",
              "        text-align: right;\n",
              "    }\n",
              "</style>\n",
              "<table border=\"1\" class=\"dataframe\">\n",
              "  <thead>\n",
              "    <tr style=\"text-align: right;\">\n",
              "      <th></th>\n",
              "      <th>UserID</th>\n",
              "      <th>Food_item_ID</th>\n",
              "      <th>Score</th>\n",
              "      <th>Rank</th>\n",
              "    </tr>\n",
              "  </thead>\n",
              "  <tbody>\n",
              "    <tr>\n",
              "      <th>60</th>\n",
              "      <td>896</td>\n",
              "      <td>61</td>\n",
              "      <td>1080</td>\n",
              "      <td>1.0</td>\n",
              "    </tr>\n",
              "    <tr>\n",
              "      <th>8</th>\n",
              "      <td>896</td>\n",
              "      <td>9</td>\n",
              "      <td>1073</td>\n",
              "      <td>2.0</td>\n",
              "    </tr>\n",
              "    <tr>\n",
              "      <th>34</th>\n",
              "      <td>896</td>\n",
              "      <td>35</td>\n",
              "      <td>1071</td>\n",
              "      <td>3.0</td>\n",
              "    </tr>\n",
              "    <tr>\n",
              "      <th>79</th>\n",
              "      <td>896</td>\n",
              "      <td>80</td>\n",
              "      <td>1061</td>\n",
              "      <td>4.0</td>\n",
              "    </tr>\n",
              "    <tr>\n",
              "      <th>58</th>\n",
              "      <td>896</td>\n",
              "      <td>59</td>\n",
              "      <td>1055</td>\n",
              "      <td>5.0</td>\n",
              "    </tr>\n",
              "    <tr>\n",
              "      <th>17</th>\n",
              "      <td>896</td>\n",
              "      <td>18</td>\n",
              "      <td>1053</td>\n",
              "      <td>6.0</td>\n",
              "    </tr>\n",
              "    <tr>\n",
              "      <th>53</th>\n",
              "      <td>896</td>\n",
              "      <td>54</td>\n",
              "      <td>1053</td>\n",
              "      <td>7.0</td>\n",
              "    </tr>\n",
              "    <tr>\n",
              "      <th>9</th>\n",
              "      <td>896</td>\n",
              "      <td>10</td>\n",
              "      <td>1048</td>\n",
              "      <td>8.0</td>\n",
              "    </tr>\n",
              "    <tr>\n",
              "      <th>30</th>\n",
              "      <td>896</td>\n",
              "      <td>31</td>\n",
              "      <td>1048</td>\n",
              "      <td>9.0</td>\n",
              "    </tr>\n",
              "    <tr>\n",
              "      <th>81</th>\n",
              "      <td>896</td>\n",
              "      <td>82</td>\n",
              "      <td>1042</td>\n",
              "      <td>10.0</td>\n",
              "    </tr>\n",
              "  </tbody>\n",
              "</table>\n",
              "</div>"
            ],
            "text/plain": [
              "    UserID  Food_item_ID  Score  Rank\n",
              "60     896            61   1080   1.0\n",
              "8      896             9   1073   2.0\n",
              "34     896            35   1071   3.0\n",
              "79     896            80   1061   4.0\n",
              "58     896            59   1055   5.0\n",
              "17     896            18   1053   6.0\n",
              "53     896            54   1053   7.0\n",
              "9      896            10   1048   8.0\n",
              "30     896            31   1048   9.0\n",
              "81     896            82   1042  10.0"
            ]
          },
          "metadata": {
            "tags": []
          },
          "execution_count": 24
        }
      ]
    },
    {
      "cell_type": "code",
      "metadata": {
        "colab": {
          "base_uri": "https://localhost:8080/",
          "height": 347
        },
        "id": "3UwduoJ3SpnQ",
        "outputId": "bdc74ee8-29e1-4ca5-d360-923712043e2d"
      },
      "source": [
        "pop_recommend.recommend(ratings_w_titles['UserID'].unique()[4])"
      ],
      "execution_count": 25,
      "outputs": [
        {
          "output_type": "execute_result",
          "data": {
            "text/html": [
              "<div>\n",
              "<style scoped>\n",
              "    .dataframe tbody tr th:only-of-type {\n",
              "        vertical-align: middle;\n",
              "    }\n",
              "\n",
              "    .dataframe tbody tr th {\n",
              "        vertical-align: top;\n",
              "    }\n",
              "\n",
              "    .dataframe thead th {\n",
              "        text-align: right;\n",
              "    }\n",
              "</style>\n",
              "<table border=\"1\" class=\"dataframe\">\n",
              "  <thead>\n",
              "    <tr style=\"text-align: right;\">\n",
              "      <th></th>\n",
              "      <th>UserID</th>\n",
              "      <th>Food_item_ID</th>\n",
              "      <th>Score</th>\n",
              "      <th>Rank</th>\n",
              "    </tr>\n",
              "  </thead>\n",
              "  <tbody>\n",
              "    <tr>\n",
              "      <th>60</th>\n",
              "      <td>926</td>\n",
              "      <td>61</td>\n",
              "      <td>1080</td>\n",
              "      <td>1.0</td>\n",
              "    </tr>\n",
              "    <tr>\n",
              "      <th>8</th>\n",
              "      <td>926</td>\n",
              "      <td>9</td>\n",
              "      <td>1073</td>\n",
              "      <td>2.0</td>\n",
              "    </tr>\n",
              "    <tr>\n",
              "      <th>34</th>\n",
              "      <td>926</td>\n",
              "      <td>35</td>\n",
              "      <td>1071</td>\n",
              "      <td>3.0</td>\n",
              "    </tr>\n",
              "    <tr>\n",
              "      <th>79</th>\n",
              "      <td>926</td>\n",
              "      <td>80</td>\n",
              "      <td>1061</td>\n",
              "      <td>4.0</td>\n",
              "    </tr>\n",
              "    <tr>\n",
              "      <th>58</th>\n",
              "      <td>926</td>\n",
              "      <td>59</td>\n",
              "      <td>1055</td>\n",
              "      <td>5.0</td>\n",
              "    </tr>\n",
              "    <tr>\n",
              "      <th>17</th>\n",
              "      <td>926</td>\n",
              "      <td>18</td>\n",
              "      <td>1053</td>\n",
              "      <td>6.0</td>\n",
              "    </tr>\n",
              "    <tr>\n",
              "      <th>53</th>\n",
              "      <td>926</td>\n",
              "      <td>54</td>\n",
              "      <td>1053</td>\n",
              "      <td>7.0</td>\n",
              "    </tr>\n",
              "    <tr>\n",
              "      <th>9</th>\n",
              "      <td>926</td>\n",
              "      <td>10</td>\n",
              "      <td>1048</td>\n",
              "      <td>8.0</td>\n",
              "    </tr>\n",
              "    <tr>\n",
              "      <th>30</th>\n",
              "      <td>926</td>\n",
              "      <td>31</td>\n",
              "      <td>1048</td>\n",
              "      <td>9.0</td>\n",
              "    </tr>\n",
              "    <tr>\n",
              "      <th>81</th>\n",
              "      <td>926</td>\n",
              "      <td>82</td>\n",
              "      <td>1042</td>\n",
              "      <td>10.0</td>\n",
              "    </tr>\n",
              "  </tbody>\n",
              "</table>\n",
              "</div>"
            ],
            "text/plain": [
              "    UserID  Food_item_ID  Score  Rank\n",
              "60     926            61   1080   1.0\n",
              "8      926             9   1073   2.0\n",
              "34     926            35   1071   3.0\n",
              "79     926            80   1061   4.0\n",
              "58     926            59   1055   5.0\n",
              "17     926            18   1053   6.0\n",
              "53     926            54   1053   7.0\n",
              "9      926            10   1048   8.0\n",
              "30     926            31   1048   9.0\n",
              "81     926            82   1042  10.0"
            ]
          },
          "metadata": {
            "tags": []
          },
          "execution_count": 25
        }
      ]
    },
    {
      "cell_type": "code",
      "metadata": {
        "colab": {
          "base_uri": "https://localhost:8080/",
          "height": 347
        },
        "id": "D_Ii27mWOpl8",
        "outputId": "ed32f2ad-40c4-468e-d8e5-2dfedd399e07"
      },
      "source": [
        "pop_recommend.recommend(ratings_w_titles['UserID'].unique()[9])"
      ],
      "execution_count": 26,
      "outputs": [
        {
          "output_type": "execute_result",
          "data": {
            "text/html": [
              "<div>\n",
              "<style scoped>\n",
              "    .dataframe tbody tr th:only-of-type {\n",
              "        vertical-align: middle;\n",
              "    }\n",
              "\n",
              "    .dataframe tbody tr th {\n",
              "        vertical-align: top;\n",
              "    }\n",
              "\n",
              "    .dataframe thead th {\n",
              "        text-align: right;\n",
              "    }\n",
              "</style>\n",
              "<table border=\"1\" class=\"dataframe\">\n",
              "  <thead>\n",
              "    <tr style=\"text-align: right;\">\n",
              "      <th></th>\n",
              "      <th>UserID</th>\n",
              "      <th>Food_item_ID</th>\n",
              "      <th>Score</th>\n",
              "      <th>Rank</th>\n",
              "    </tr>\n",
              "  </thead>\n",
              "  <tbody>\n",
              "    <tr>\n",
              "      <th>60</th>\n",
              "      <td>815</td>\n",
              "      <td>61</td>\n",
              "      <td>1080</td>\n",
              "      <td>1.0</td>\n",
              "    </tr>\n",
              "    <tr>\n",
              "      <th>8</th>\n",
              "      <td>815</td>\n",
              "      <td>9</td>\n",
              "      <td>1073</td>\n",
              "      <td>2.0</td>\n",
              "    </tr>\n",
              "    <tr>\n",
              "      <th>34</th>\n",
              "      <td>815</td>\n",
              "      <td>35</td>\n",
              "      <td>1071</td>\n",
              "      <td>3.0</td>\n",
              "    </tr>\n",
              "    <tr>\n",
              "      <th>79</th>\n",
              "      <td>815</td>\n",
              "      <td>80</td>\n",
              "      <td>1061</td>\n",
              "      <td>4.0</td>\n",
              "    </tr>\n",
              "    <tr>\n",
              "      <th>58</th>\n",
              "      <td>815</td>\n",
              "      <td>59</td>\n",
              "      <td>1055</td>\n",
              "      <td>5.0</td>\n",
              "    </tr>\n",
              "    <tr>\n",
              "      <th>17</th>\n",
              "      <td>815</td>\n",
              "      <td>18</td>\n",
              "      <td>1053</td>\n",
              "      <td>6.0</td>\n",
              "    </tr>\n",
              "    <tr>\n",
              "      <th>53</th>\n",
              "      <td>815</td>\n",
              "      <td>54</td>\n",
              "      <td>1053</td>\n",
              "      <td>7.0</td>\n",
              "    </tr>\n",
              "    <tr>\n",
              "      <th>9</th>\n",
              "      <td>815</td>\n",
              "      <td>10</td>\n",
              "      <td>1048</td>\n",
              "      <td>8.0</td>\n",
              "    </tr>\n",
              "    <tr>\n",
              "      <th>30</th>\n",
              "      <td>815</td>\n",
              "      <td>31</td>\n",
              "      <td>1048</td>\n",
              "      <td>9.0</td>\n",
              "    </tr>\n",
              "    <tr>\n",
              "      <th>81</th>\n",
              "      <td>815</td>\n",
              "      <td>82</td>\n",
              "      <td>1042</td>\n",
              "      <td>10.0</td>\n",
              "    </tr>\n",
              "  </tbody>\n",
              "</table>\n",
              "</div>"
            ],
            "text/plain": [
              "    UserID  Food_item_ID  Score  Rank\n",
              "60     815            61   1080   1.0\n",
              "8      815             9   1073   2.0\n",
              "34     815            35   1071   3.0\n",
              "79     815            80   1061   4.0\n",
              "58     815            59   1055   5.0\n",
              "17     815            18   1053   6.0\n",
              "53     815            54   1053   7.0\n",
              "9      815            10   1048   8.0\n",
              "30     815            31   1048   9.0\n",
              "81     815            82   1042  10.0"
            ]
          },
          "metadata": {
            "tags": []
          },
          "execution_count": 26
        }
      ]
    },
    {
      "cell_type": "code",
      "metadata": {
        "colab": {
          "base_uri": "https://localhost:8080/",
          "height": 347
        },
        "id": "zCUqhVIKfdM_",
        "outputId": "ffb27c81-57d0-43aa-980b-f3a74233c2d3"
      },
      "source": [
        "pop_recommend.recommend(ratings_w_titles['UserID'].unique()[50])"
      ],
      "execution_count": 27,
      "outputs": [
        {
          "output_type": "execute_result",
          "data": {
            "text/html": [
              "<div>\n",
              "<style scoped>\n",
              "    .dataframe tbody tr th:only-of-type {\n",
              "        vertical-align: middle;\n",
              "    }\n",
              "\n",
              "    .dataframe tbody tr th {\n",
              "        vertical-align: top;\n",
              "    }\n",
              "\n",
              "    .dataframe thead th {\n",
              "        text-align: right;\n",
              "    }\n",
              "</style>\n",
              "<table border=\"1\" class=\"dataframe\">\n",
              "  <thead>\n",
              "    <tr style=\"text-align: right;\">\n",
              "      <th></th>\n",
              "      <th>UserID</th>\n",
              "      <th>Food_item_ID</th>\n",
              "      <th>Score</th>\n",
              "      <th>Rank</th>\n",
              "    </tr>\n",
              "  </thead>\n",
              "  <tbody>\n",
              "    <tr>\n",
              "      <th>60</th>\n",
              "      <td>694</td>\n",
              "      <td>61</td>\n",
              "      <td>1080</td>\n",
              "      <td>1.0</td>\n",
              "    </tr>\n",
              "    <tr>\n",
              "      <th>8</th>\n",
              "      <td>694</td>\n",
              "      <td>9</td>\n",
              "      <td>1073</td>\n",
              "      <td>2.0</td>\n",
              "    </tr>\n",
              "    <tr>\n",
              "      <th>34</th>\n",
              "      <td>694</td>\n",
              "      <td>35</td>\n",
              "      <td>1071</td>\n",
              "      <td>3.0</td>\n",
              "    </tr>\n",
              "    <tr>\n",
              "      <th>79</th>\n",
              "      <td>694</td>\n",
              "      <td>80</td>\n",
              "      <td>1061</td>\n",
              "      <td>4.0</td>\n",
              "    </tr>\n",
              "    <tr>\n",
              "      <th>58</th>\n",
              "      <td>694</td>\n",
              "      <td>59</td>\n",
              "      <td>1055</td>\n",
              "      <td>5.0</td>\n",
              "    </tr>\n",
              "    <tr>\n",
              "      <th>17</th>\n",
              "      <td>694</td>\n",
              "      <td>18</td>\n",
              "      <td>1053</td>\n",
              "      <td>6.0</td>\n",
              "    </tr>\n",
              "    <tr>\n",
              "      <th>53</th>\n",
              "      <td>694</td>\n",
              "      <td>54</td>\n",
              "      <td>1053</td>\n",
              "      <td>7.0</td>\n",
              "    </tr>\n",
              "    <tr>\n",
              "      <th>9</th>\n",
              "      <td>694</td>\n",
              "      <td>10</td>\n",
              "      <td>1048</td>\n",
              "      <td>8.0</td>\n",
              "    </tr>\n",
              "    <tr>\n",
              "      <th>30</th>\n",
              "      <td>694</td>\n",
              "      <td>31</td>\n",
              "      <td>1048</td>\n",
              "      <td>9.0</td>\n",
              "    </tr>\n",
              "    <tr>\n",
              "      <th>81</th>\n",
              "      <td>694</td>\n",
              "      <td>82</td>\n",
              "      <td>1042</td>\n",
              "      <td>10.0</td>\n",
              "    </tr>\n",
              "  </tbody>\n",
              "</table>\n",
              "</div>"
            ],
            "text/plain": [
              "    UserID  Food_item_ID  Score  Rank\n",
              "60     694            61   1080   1.0\n",
              "8      694             9   1073   2.0\n",
              "34     694            35   1071   3.0\n",
              "79     694            80   1061   4.0\n",
              "58     694            59   1055   5.0\n",
              "17     694            18   1053   6.0\n",
              "53     694            54   1053   7.0\n",
              "9      694            10   1048   8.0\n",
              "30     694            31   1048   9.0\n",
              "81     694            82   1042  10.0"
            ]
          },
          "metadata": {
            "tags": []
          },
          "execution_count": 27
        }
      ]
    },
    {
      "cell_type": "markdown",
      "metadata": {
        "id": "9nExbeQV2mGK"
      },
      "source": [
        "# Collaborative Recommendation System"
      ]
    },
    {
      "cell_type": "code",
      "metadata": {
        "colab": {
          "base_uri": "https://localhost:8080/",
          "height": 197
        },
        "id": "CW2WQbrDMeGR",
        "outputId": "e8478f78-35ae-4c53-84ad-b323b8b23854"
      },
      "source": [
        "df.head()"
      ],
      "execution_count": null,
      "outputs": [
        {
          "output_type": "execute_result",
          "data": {
            "text/html": [
              "<div>\n",
              "<style scoped>\n",
              "    .dataframe tbody tr th:only-of-type {\n",
              "        vertical-align: middle;\n",
              "    }\n",
              "\n",
              "    .dataframe tbody tr th {\n",
              "        vertical-align: top;\n",
              "    }\n",
              "\n",
              "    .dataframe thead th {\n",
              "        text-align: right;\n",
              "    }\n",
              "</style>\n",
              "<table border=\"1\" class=\"dataframe\">\n",
              "  <thead>\n",
              "    <tr style=\"text-align: right;\">\n",
              "      <th></th>\n",
              "      <th>UserID</th>\n",
              "      <th>Ratings</th>\n",
              "      <th>Food_item_ID</th>\n",
              "    </tr>\n",
              "  </thead>\n",
              "  <tbody>\n",
              "    <tr>\n",
              "      <th>0</th>\n",
              "      <td>469</td>\n",
              "      <td>3.0</td>\n",
              "      <td>57</td>\n",
              "    </tr>\n",
              "    <tr>\n",
              "      <th>1</th>\n",
              "      <td>330</td>\n",
              "      <td>4.0</td>\n",
              "      <td>49</td>\n",
              "    </tr>\n",
              "    <tr>\n",
              "      <th>2</th>\n",
              "      <td>585</td>\n",
              "      <td>1.0</td>\n",
              "      <td>100</td>\n",
              "    </tr>\n",
              "    <tr>\n",
              "      <th>3</th>\n",
              "      <td>771</td>\n",
              "      <td>3.0</td>\n",
              "      <td>70</td>\n",
              "    </tr>\n",
              "    <tr>\n",
              "      <th>4</th>\n",
              "      <td>926</td>\n",
              "      <td>4.0</td>\n",
              "      <td>12</td>\n",
              "    </tr>\n",
              "  </tbody>\n",
              "</table>\n",
              "</div>"
            ],
            "text/plain": [
              "   UserID  Ratings  Food_item_ID\n",
              "0     469      3.0            57\n",
              "1     330      4.0            49\n",
              "2     585      1.0           100\n",
              "3     771      3.0            70\n",
              "4     926      4.0            12"
            ]
          },
          "metadata": {
            "tags": []
          },
          "execution_count": 28
        }
      ]
    },
    {
      "cell_type": "code",
      "metadata": {
        "colab": {
          "base_uri": "https://localhost:8080/"
        },
        "id": "pcRekWVpfsbY",
        "outputId": "f9387b76-5ba8-4418-e75c-ad42a3e738f1"
      },
      "source": [
        "minimum = df['Ratings'].min()\n",
        "maximum = df['Ratings'].max()\n",
        "print('The range is between {:.1f} and {:.1f}'.format(minimum, maximum))"
      ],
      "execution_count": 28,
      "outputs": [
        {
          "output_type": "stream",
          "text": [
            "The range is between 1.0 and 5.0\n"
          ],
          "name": "stdout"
        }
      ]
    },
    {
      "cell_type": "code",
      "metadata": {
        "id": "6S2YUP3V3_-9"
      },
      "source": [
        "reader = Reader(rating_scale=(minimum, maximum))\n",
        "data = Dataset.load_from_df(df, reader)"
      ],
      "execution_count": 29,
      "outputs": []
    },
    {
      "cell_type": "code",
      "metadata": {
        "id": "LTZMLPUf_diI"
      },
      "source": [
        "from surprise.model_selection import train_test_split\n",
        "train_df, test_df = train_test_split(data, test_size=.95)"
      ],
      "execution_count": 30,
      "outputs": []
    },
    {
      "cell_type": "markdown",
      "metadata": {
        "id": "BCfKeUl6JLzn"
      },
      "source": [
        "# Normal Predictor"
      ]
    },
    {
      "cell_type": "code",
      "metadata": {
        "colab": {
          "base_uri": "https://localhost:8080/"
        },
        "id": "FMhVe8SYIhRX",
        "outputId": "a0ba988a-fbc2-441c-8b1e-a01a401f433f"
      },
      "source": [
        "npred = NormalPredictor()\n",
        "\n",
        "#Training the model on the training data\n",
        "npred.fit(train_df)\n",
        "\n",
        "# we can now query for specific predicions\n",
        "uid = '520'  #  user id\n",
        "pid = '50'  # product id\n",
        "\n",
        "print(\"Predicting the rating for a test user and product: \")\n",
        "# get a prediction for specific users and items.\n",
        "pred = npred.predict(uid, pid, r_ui=3, verbose=True)\n",
        "\n",
        "print('\\n')\n",
        "# run the trained model against the testset\n",
        "test_pred = npred.test(test_df)\n",
        "\n",
        "print('Computing the Accuracy on the test data: ')\n",
        "# get RMSE ( Root Mean Squared Error)\n",
        "accuracy.rmse(test_pred, verbose=True)\n",
        "\n",
        "# get MAE (Mean Absolute Error)\n",
        "accuracy.mae(test_pred, verbose=True)\n",
        "\n",
        "# get FCP - Fraction of Concordant Pairs\n",
        "accuracy.fcp(test_pred, verbose=True)"
      ],
      "execution_count": 31,
      "outputs": [
        {
          "output_type": "stream",
          "text": [
            "Predicting the rating for a test user and product: \n",
            "user: 520        item: 50         r_ui = 3.00   est = 5.00   {'was_impossible': False}\n",
            "\n",
            "\n",
            "Computing the Accuracy on the test data: \n",
            "RMSE: 54.1382\n",
            "MAE:  45.9967\n",
            "FCP:  0.0558\n"
          ],
          "name": "stdout"
        },
        {
          "output_type": "execute_result",
          "data": {
            "text/plain": [
              "0.05582303143244517"
            ]
          },
          "metadata": {
            "tags": []
          },
          "execution_count": 31
        }
      ]
    },
    {
      "cell_type": "markdown",
      "metadata": {
        "id": "XcbfoPANTg8X"
      },
      "source": [
        "## BaseLineOnly Model"
      ]
    },
    {
      "cell_type": "code",
      "metadata": {
        "colab": {
          "base_uri": "https://localhost:8080/"
        },
        "id": "oaVpbcHaPnbf",
        "outputId": "4bfd79f4-1393-49cf-ecc7-aa191361bc16"
      },
      "source": [
        "blo = BaselineOnly(bsl_options={'method':'sgd', 'reg':0.01, 'learning_rate':0.001})\n",
        "\n",
        "#Training the model on the training data\n",
        "blo.fit(train_df)\n",
        "\n",
        "# we can now query for specific predicions\n",
        "uid = '520'  #  user id\n",
        "pid = '50'  # product id\n",
        "\n",
        "print(\"Predicting the rating for a test user and product: \")\n",
        "# get a prediction for specific users and items.\n",
        "pred = blo.predict(uid, pid, r_ui=3, verbose=True)\n",
        "\n",
        "print('\\n')\n",
        "# run the trained model against the testset\n",
        "test_pred = blo.test(test_df)\n",
        "\n",
        "print('Computing the Accuracy on the test data: ')\n",
        "# get RMSE ( Root Mean Squared Error)\n",
        "accuracy.rmse(test_pred, verbose=True)\n",
        "\n",
        "# get MAE (Mean Absolute Error)\n",
        "accuracy.mae(test_pred, verbose=True)\n",
        "\n",
        "\n",
        "# get FCP - Fraction of Concordant Pairs\n",
        "accuracy.fcp(test_pred, verbose=True)\n",
        "\n",
        "\n"
      ],
      "execution_count": 48,
      "outputs": [
        {
          "output_type": "stream",
          "text": [
            "Estimating biases using sgd...\n",
            "Predicting the rating for a test user and product: \n",
            "user: 520        item: 50         r_ui = 3.00   est = 5.00   {'was_impossible': False}\n",
            "\n",
            "\n",
            "Computing the Accuracy on the test data: \n",
            "RMSE: 53.9586\n",
            "MAE:  45.8046\n",
            "FCP:  0.0000\n"
          ],
          "name": "stdout"
        },
        {
          "output_type": "execute_result",
          "data": {
            "text/plain": [
              "0.0"
            ]
          },
          "metadata": {
            "tags": []
          },
          "execution_count": 48
        }
      ]
    },
    {
      "cell_type": "markdown",
      "metadata": {
        "id": "8bwKRLKpTmAB"
      },
      "source": [
        "# Basic KNN"
      ]
    },
    {
      "cell_type": "code",
      "metadata": {
        "colab": {
          "base_uri": "https://localhost:8080/"
        },
        "id": "JIVgJKU-TXvo",
        "outputId": "24800567-b9e8-4aee-b02e-da300b47f76f"
      },
      "source": [
        "knn = KNNBaseline(sim_options={'user_based': True})\n",
        "\n",
        "#Training the model on the training data\n",
        "knn.fit(train_df)\n",
        "\n",
        "# we can now query for specific predicions\n",
        "uid = '520'  #  user id\n",
        "pid = '50'  # product id\n",
        "\n",
        "print(\"Predicting the rating for a test user and product: \")\n",
        "# get a prediction for specific users and items.\n",
        "pred = knn.predict(uid, pid, r_ui=3, verbose=True)\n",
        "\n",
        "print('\\n')\n",
        "# run the trained model against the testset\n",
        "test_pred = knn.test(test_df)\n",
        "\n",
        "print('Computing the Accuracy on the test data: ')\n",
        "# get RMSE ( Root Mean Squared Error)\n",
        "accuracy.rmse(test_pred, verbose=True)\n",
        "\n",
        "# get MAE (Mean Absolute Error)\n",
        "accuracy.mae(test_pred, verbose=True)\n",
        "\n",
        "\n",
        "# get FCP - Fraction of Concordant Pairs\n",
        "accuracy.fcp(test_pred, verbose=True)\n",
        "\n"
      ],
      "execution_count": 33,
      "outputs": [
        {
          "output_type": "stream",
          "text": [
            "Estimating biases using als...\n",
            "Computing the msd similarity matrix...\n",
            "Done computing similarity matrix.\n",
            "Predicting the rating for a test user and product: \n",
            "user: 520        item: 50         r_ui = 3.00   est = 5.00   {'was_impossible': False}\n",
            "\n",
            "\n",
            "Computing the Accuracy on the test data: \n",
            "RMSE: 53.9809\n",
            "MAE:  45.8285\n",
            "FCP:  0.1399\n"
          ],
          "name": "stdout"
        },
        {
          "output_type": "execute_result",
          "data": {
            "text/plain": [
              "0.13993067289872393"
            ]
          },
          "metadata": {
            "tags": []
          },
          "execution_count": 33
        }
      ]
    },
    {
      "cell_type": "markdown",
      "metadata": {
        "id": "ZHvIwZRqV4ry"
      },
      "source": [
        "# KNN with means"
      ]
    },
    {
      "cell_type": "code",
      "metadata": {
        "colab": {
          "base_uri": "https://localhost:8080/"
        },
        "id": "LupnB0zAVmWo",
        "outputId": "61219590-c8c5-407a-f949-ad4e9371c18c"
      },
      "source": [
        "knn_m = KNNWithMeans(sim_options={'user_based': True})\n",
        "\n",
        "#Training the model on the training data\n",
        "knn_m.fit(train_df)\n",
        "\n",
        "# we can now query for specific predicions\n",
        "uid = '520'  #  user id\n",
        "pid = '50'  # product id\n",
        "\n",
        "print(\"Predicting the rating for a test user and product: \")\n",
        "# get a prediction for specific users and items.\n",
        "pred = knn_m.predict(uid, pid, r_ui=3, verbose=True)\n",
        "\n",
        "print('\\n')\n",
        "# run the trained model against the testset\n",
        "test_pred = knn_m.test(test_df)\n",
        "\n",
        "print('Computing the Accuracy on the test data: ')\n",
        "# get RMSE ( Root Mean Squared Error)\n",
        "accuracy.rmse(test_pred, verbose=True)\n",
        "\n",
        "# get MAE (Mean Absolute Error)\n",
        "accuracy.mae(test_pred, verbose=True)\n",
        "\n",
        "\n",
        "# get FCP - Fraction of Concordant Pairs\n",
        "accuracy.fcp(test_pred, verbose=True)"
      ],
      "execution_count": 34,
      "outputs": [
        {
          "output_type": "stream",
          "text": [
            "Computing the msd similarity matrix...\n",
            "Done computing similarity matrix.\n",
            "Predicting the rating for a test user and product: \n",
            "user: 520        item: 50         r_ui = 3.00   est = 5.00   {'was_impossible': True, 'reason': 'User and/or item is unknown.'}\n",
            "\n",
            "\n",
            "Computing the Accuracy on the test data: \n",
            "RMSE: 53.9921\n",
            "MAE:  45.8398\n",
            "FCP:  0.1586\n"
          ],
          "name": "stdout"
        },
        {
          "output_type": "execute_result",
          "data": {
            "text/plain": [
              "0.15857893286462266"
            ]
          },
          "metadata": {
            "tags": []
          },
          "execution_count": 34
        }
      ]
    },
    {
      "cell_type": "markdown",
      "metadata": {
        "id": "7SdRw1KDamEU"
      },
      "source": [
        "# KNN with ZScore"
      ]
    },
    {
      "cell_type": "code",
      "metadata": {
        "colab": {
          "base_uri": "https://localhost:8080/"
        },
        "id": "MCEXOZiaWRT1",
        "outputId": "3301c5cd-0f64-45a5-f89a-608b5adfe353"
      },
      "source": [
        "knn_z = KNNWithZScore(sim_options={'user_based': True})\n",
        "\n",
        "#Training the model on the training data\n",
        "knn_z.fit(train_df)\n",
        "\n",
        "# we can now query for specific predicions\n",
        "uid = '520'  #  user id\n",
        "pid = '50'  # product id\n",
        "\n",
        "print(\"Predicting the rating for a test user and product: \")\n",
        "# get a prediction for specific users and items.\n",
        "pred = knn_z.predict(uid, pid, r_ui=3, verbose=True)\n",
        "\n",
        "print('\\n')\n",
        "# run the trained model against the testset\n",
        "test_pred = knn_z.test(test_df)\n",
        "\n",
        "print('Computing the Accuracy on the test data: ')\n",
        "# get RMSE ( Root Mean Squared Error)\n",
        "accuracy.rmse(test_pred, verbose=True)\n",
        "\n",
        "# get MAE (Mean Absolute Error)\n",
        "accuracy.mae(test_pred, verbose=True)\n",
        "\n",
        "\n",
        "# get FCP - Fraction of Concordant Pairs\n",
        "accuracy.fcp(test_pred, verbose=True)"
      ],
      "execution_count": 35,
      "outputs": [
        {
          "output_type": "stream",
          "text": [
            "Computing the msd similarity matrix...\n",
            "Done computing similarity matrix.\n",
            "Predicting the rating for a test user and product: \n",
            "user: 520        item: 50         r_ui = 3.00   est = 5.00   {'was_impossible': True, 'reason': 'User and/or item is unknown.'}\n",
            "\n",
            "\n",
            "Computing the Accuracy on the test data: \n",
            "RMSE: 53.9845\n",
            "MAE:  45.8323\n",
            "FCP:  0.1442\n"
          ],
          "name": "stdout"
        },
        {
          "output_type": "execute_result",
          "data": {
            "text/plain": [
              "0.1441761885657695"
            ]
          },
          "metadata": {
            "tags": []
          },
          "execution_count": 35
        }
      ]
    },
    {
      "cell_type": "markdown",
      "metadata": {
        "id": "d51XdPL69D5s"
      },
      "source": [
        "# KNN Basic Similarity Based"
      ]
    },
    {
      "cell_type": "code",
      "metadata": {
        "colab": {
          "base_uri": "https://localhost:8080/"
        },
        "id": "fkX_DmCucVUb",
        "outputId": "6556bbc1-0a9e-4248-dbd5-0b41ba0b54c5"
      },
      "source": [
        "knn_bs = KNNBaseline(sim_options={'user_based': False})\n",
        "\n",
        "#Training the model on the training data\n",
        "knn_bs.fit(train_df)\n",
        "\n",
        "# we can now query for specific predicions\n",
        "uid = '520'  #  user id\n",
        "pid = '50'  # product id\n",
        "\n",
        "print(\"Predicting the rating for a test user and product: \")\n",
        "# get a prediction for specific users and items.\n",
        "pred = knn_bs.predict(uid, pid, r_ui=4, verbose=True)\n",
        "\n",
        "print('\\n')\n",
        "# run the trained model against the testset\n",
        "test_pred = knn_bs.test(test_df)\n",
        "\n",
        "print('Computing the Accuracy on the test data: ')\n",
        "# get RMSE ( Root Mean Squared Error)\n",
        "accuracy.rmse(test_pred, verbose=True)\n",
        "\n",
        "# get MAE (Mean Absolute Error)\n",
        "accuracy.mae(test_pred, verbose=True)\n",
        "\n",
        "\n",
        "# get FCP - Fraction of Concordant Pairs\n",
        "accuracy.fcp(test_pred, verbose=True)\n",
        "\n"
      ],
      "execution_count": 36,
      "outputs": [
        {
          "output_type": "stream",
          "text": [
            "Estimating biases using als...\n",
            "Computing the msd similarity matrix...\n",
            "Done computing similarity matrix.\n",
            "Predicting the rating for a test user and product: \n",
            "user: 520        item: 50         r_ui = 4.00   est = 5.00   {'was_impossible': False}\n",
            "\n",
            "\n",
            "Computing the Accuracy on the test data: \n",
            "RMSE: 53.9960\n",
            "MAE:  45.8447\n",
            "FCP:  0.1423\n"
          ],
          "name": "stdout"
        },
        {
          "output_type": "execute_result",
          "data": {
            "text/plain": [
              "0.14234549843682204"
            ]
          },
          "metadata": {
            "tags": []
          },
          "execution_count": 36
        }
      ]
    },
    {
      "cell_type": "markdown",
      "metadata": {
        "id": "bsgZFOiofD8v"
      },
      "source": [
        "# KNN with Means Similarity Based"
      ]
    },
    {
      "cell_type": "code",
      "metadata": {
        "colab": {
          "base_uri": "https://localhost:8080/"
        },
        "id": "jnOJ_nv99WGN",
        "outputId": "85d3c720-b569-49cc-e60b-ae55a9fe0407"
      },
      "source": [
        "knn_bm = KNNWithMeans(sim_options={'user_based': False})\n",
        "\n",
        "#Training the model on the training data\n",
        "knn_bm.fit(train_df)\n",
        "\n",
        "# we can now query for specific predicions\n",
        "uid = '520'  #  user id\n",
        "pid = '50'  # product id\n",
        "\n",
        "print(\"Predicting the rating for a test user and product: \")\n",
        "# get a prediction for specific users and items.\n",
        "pred = knn_bm.predict(uid, pid, r_ui=3, verbose=True)\n",
        "\n",
        "print('\\n')\n",
        "# run the trained model against the testset\n",
        "test_pred = knn_bm.test(test_df)\n",
        "\n",
        "print('Computing the Accuracy on the test data: ')\n",
        "# get RMSE ( Root Mean Squared Error)\n",
        "accuracy.rmse(test_pred, verbose=True)\n",
        "\n",
        "# get MAE (Mean Absolute Error)\n",
        "accuracy.mae(test_pred, verbose=True)\n",
        "\n",
        "\n",
        "# get FCP - Fraction of Concordant Pairs\n",
        "accuracy.fcp(test_pred, verbose=True)"
      ],
      "execution_count": 37,
      "outputs": [
        {
          "output_type": "stream",
          "text": [
            "Computing the msd similarity matrix...\n",
            "Done computing similarity matrix.\n",
            "Predicting the rating for a test user and product: \n",
            "user: 520        item: 50         r_ui = 3.00   est = 5.00   {'was_impossible': True, 'reason': 'User and/or item is unknown.'}\n",
            "\n",
            "\n",
            "Computing the Accuracy on the test data: \n",
            "RMSE: 53.9960\n",
            "MAE:  45.8447\n",
            "FCP:  0.1423\n"
          ],
          "name": "stdout"
        },
        {
          "output_type": "execute_result",
          "data": {
            "text/plain": [
              "0.14234549843682204"
            ]
          },
          "metadata": {
            "tags": []
          },
          "execution_count": 37
        }
      ]
    },
    {
      "cell_type": "markdown",
      "metadata": {
        "id": "nVtiDq_zfKYM"
      },
      "source": [
        "# KNN with ZScore Similarity Based"
      ]
    },
    {
      "cell_type": "code",
      "metadata": {
        "colab": {
          "base_uri": "https://localhost:8080/"
        },
        "id": "6YfBHeeIe2yL",
        "outputId": "7b50f421-50d2-4453-8e02-8ce9abea2d88"
      },
      "source": [
        "knn_bz = KNNWithZScore(sim_options={'user_based': False})\n",
        "\n",
        "#Training the model on the training data\n",
        "knn_bz.fit(train_df)\n",
        "\n",
        "# we can now query for specific predicions\n",
        "uid = '520'  #  user id\n",
        "pid = '50'  # product id\n",
        "\n",
        "print(\"Predicting the rating for a test user and product: \")\n",
        "# get a prediction for specific users and items.\n",
        "pred = knn_bz.predict(uid, pid, r_ui=3, verbose=True)\n",
        "\n",
        "print('\\n')\n",
        "# run the trained model against the testset\n",
        "test_pred = knn_bz.test(test_df)\n",
        "\n",
        "print('Computing the Accuracy on the test data: ')\n",
        "# get RMSE ( Root Mean Squared Error)\n",
        "accuracy.rmse(test_pred, verbose=True)\n",
        "\n",
        "# get MAE (Mean Absolute Error)\n",
        "accuracy.mae(test_pred, verbose=True)\n",
        "\n",
        "\n",
        "# get FCP - Fraction of Concordant Pairs\n",
        "accuracy.fcp(test_pred, verbose=True)"
      ],
      "execution_count": 38,
      "outputs": [
        {
          "output_type": "stream",
          "text": [
            "Computing the msd similarity matrix...\n",
            "Done computing similarity matrix.\n",
            "Predicting the rating for a test user and product: \n",
            "user: 520        item: 50         r_ui = 3.00   est = 5.00   {'was_impossible': True, 'reason': 'User and/or item is unknown.'}\n",
            "\n",
            "\n",
            "Computing the Accuracy on the test data: \n",
            "RMSE: 53.9959\n",
            "MAE:  45.8446\n",
            "FCP:  0.1416\n"
          ],
          "name": "stdout"
        },
        {
          "output_type": "execute_result",
          "data": {
            "text/plain": [
              "0.14160032882209078"
            ]
          },
          "metadata": {
            "tags": []
          },
          "execution_count": 38
        }
      ]
    },
    {
      "cell_type": "markdown",
      "metadata": {
        "id": "mz4JFSaRmn1Q"
      },
      "source": [
        "# Matrix Factorization Method"
      ]
    },
    {
      "cell_type": "markdown",
      "metadata": {
        "id": "DPJac6cUmuhI"
      },
      "source": [
        "# Singular Value Decomposition"
      ]
    },
    {
      "cell_type": "code",
      "metadata": {
        "colab": {
          "base_uri": "https://localhost:8080/"
        },
        "id": "Pxf5dCrbjaSl",
        "outputId": "cfa1b3a7-46b7-425a-f99e-edd8f9c929c9"
      },
      "source": [
        "svd = SVD()\n",
        "\n",
        "#Training the model on the training data\n",
        "svd.fit(train_df)\n",
        "\n",
        "# we can now query for specific predicions\n",
        "uid = '520'  #  user id\n",
        "pid = '50'  # product id\n",
        "\n",
        "print(\"Predicting the rating for a test user and product: \")\n",
        "# get a prediction for specific users and items.\n",
        "pred = svd.predict(uid, pid, r_ui=3, verbose=True)\n",
        "\n",
        "print('\\n')\n",
        "# run the trained model against the testset\n",
        "test_pred = svd.test(test_df)\n",
        "\n",
        "print('Computing the Accuracy on the test data: ')\n",
        "# get RMSE ( Root Mean Squared Error)\n",
        "accuracy.rmse(test_pred, verbose=True)\n",
        "\n",
        "# get MAE (Mean Absolute Error)\n",
        "accuracy.mae(test_pred, verbose=True)\n",
        "\n",
        "\n",
        "# get FCP - Fraction of Concordant Pairs\n",
        "accuracy.fcp(test_pred, verbose=True)"
      ],
      "execution_count": 39,
      "outputs": [
        {
          "output_type": "stream",
          "text": [
            "Predicting the rating for a test user and product: \n",
            "user: 520        item: 50         r_ui = 3.00   est = 5.00   {'was_impossible': False}\n",
            "\n",
            "\n",
            "Computing the Accuracy on the test data: \n",
            "RMSE: 53.9963\n",
            "MAE:  45.8449\n",
            "FCP:  0.1426\n"
          ],
          "name": "stdout"
        },
        {
          "output_type": "execute_result",
          "data": {
            "text/plain": [
              "0.142620614076593"
            ]
          },
          "metadata": {
            "tags": []
          },
          "execution_count": 39
        }
      ]
    },
    {
      "cell_type": "markdown",
      "metadata": {
        "id": "11fkFfQMnQ9C"
      },
      "source": [
        "# Singular Value Decomposition ++"
      ]
    },
    {
      "cell_type": "code",
      "metadata": {
        "colab": {
          "base_uri": "https://localhost:8080/"
        },
        "id": "07L_anSfnJod",
        "outputId": "7d6edf88-0b90-47c5-c464-0a880ac21a8b"
      },
      "source": [
        "# Takes a very long time to run\n",
        "\n",
        "svdpp = SVDpp()\n",
        "\n",
        "#Training the model on the training data\n",
        "svdpp.fit(train_df)\n",
        "\n",
        "# we can now query for specific predicions\n",
        "uid = '520'  #  user id\n",
        "pid = '50'  # product id\n",
        "\n",
        "print(\"Predicting the rating for a test user and product: \")\n",
        "# get a prediction for specific users and items.\n",
        "pred = svdpp.predict(uid, pid, r_ui=3, verbose=True)\n",
        "\n",
        "print('\\n')\n",
        "# run the trained model against the testset\n",
        "test_pred = svdpp.test(test_df)\n",
        "\n",
        "print('Computing the Accuracy on the test data: ')\n",
        "# get RMSE ( Root Mean Squared Error)\n",
        "accuracy.rmse(test_pred, verbose=True)\n",
        "\n",
        "# get MAE (Mean Absolute Error)\n",
        "accuracy.mae(test_pred, verbose=True)\n",
        "\n",
        "\n",
        "# get FCP - Fraction of Concordant Pairs\n",
        "accuracy.fcp(test_pred, verbose=True)"
      ],
      "execution_count": 40,
      "outputs": [
        {
          "output_type": "stream",
          "text": [
            "Predicting the rating for a test user and product: \n",
            "user: 520        item: 50         r_ui = 3.00   est = 5.00   {'was_impossible': False}\n",
            "\n",
            "\n",
            "Computing the Accuracy on the test data: \n",
            "RMSE: 53.9786\n",
            "MAE:  45.8265\n",
            "FCP:  0.1522\n"
          ],
          "name": "stdout"
        },
        {
          "output_type": "execute_result",
          "data": {
            "text/plain": [
              "0.15221868390756724"
            ]
          },
          "metadata": {
            "tags": []
          },
          "execution_count": 40
        }
      ]
    },
    {
      "cell_type": "markdown",
      "metadata": {
        "id": "CO6E82kJnk_x"
      },
      "source": [
        "# Negative Matrix Factorization"
      ]
    },
    {
      "cell_type": "code",
      "metadata": {
        "colab": {
          "base_uri": "https://localhost:8080/"
        },
        "id": "N1_DOp48niJH",
        "outputId": "5f32b7af-f28e-4571-9025-765e23f36b03"
      },
      "source": [
        "nmf = NMF()\n",
        "\n",
        "#Training the model on the training data\n",
        "nmf.fit(train_df)\n",
        "\n",
        "# we can now query for specific predicions\n",
        "uid = '520'  #  user id\n",
        "pid = '50'  # product id\n",
        "\n",
        "print(\"Predicting the rating for a test user and product: \")\n",
        "# get a prediction for specific users and items.\n",
        "pred = nmf.predict(uid, pid, r_ui=3, verbose=True)\n",
        "\n",
        "print('\\n')\n",
        "# run the trained model against the testset\n",
        "test_pred = nmf.test(test_df)\n",
        "\n",
        "print('Computing the Accuracy on the test data: ')\n",
        "# get RMSE ( Root Mean Squared Error)\n",
        "accuracy.rmse(test_pred, verbose=True)\n",
        "\n",
        "# get MAE (Mean Absolute Error)\n",
        "accuracy.mae(test_pred, verbose=True)\n",
        "\n",
        "\n",
        "# get FCP - Fraction of Concordant Pairs\n",
        "accuracy.fcp(test_pred, verbose=True)"
      ],
      "execution_count": 41,
      "outputs": [
        {
          "output_type": "stream",
          "text": [
            "Predicting the rating for a test user and product: \n",
            "user: 520        item: 50         r_ui = 3.00   est = 5.00   {'was_impossible': True, 'reason': 'User and item are unknown.'}\n",
            "\n",
            "\n",
            "Computing the Accuracy on the test data: \n",
            "RMSE: 54.2636\n",
            "MAE:  46.1343\n",
            "FCP:  0.2121\n"
          ],
          "name": "stdout"
        },
        {
          "output_type": "execute_result",
          "data": {
            "text/plain": [
              "0.21213454329536527"
            ]
          },
          "metadata": {
            "tags": []
          },
          "execution_count": 41
        }
      ]
    },
    {
      "cell_type": "markdown",
      "metadata": {
        "id": "ML0sKFdUn5id"
      },
      "source": [
        "# CoClustering"
      ]
    },
    {
      "cell_type": "code",
      "metadata": {
        "colab": {
          "base_uri": "https://localhost:8080/"
        },
        "id": "CffVz_Axn6JJ",
        "outputId": "6eadf2a7-5672-4913-ab01-f4b1a6a71965"
      },
      "source": [
        "cocl = CoClustering()\n",
        "\n",
        "#Training the model on the training data\n",
        "cocl.fit(train_df)\n",
        "\n",
        "# we can now query for specific predicions\n",
        "uid = '520'  #  user id\n",
        "pid = '50'  # product id\n",
        "\n",
        "print(\"Predicting the rating for a test user and product: \")\n",
        "# get a prediction for specific users and items.\n",
        "pred = cocl.predict(uid, pid, r_ui=3, verbose=True)\n",
        "\n",
        "print('\\n')\n",
        "# run the trained model against the testset\n",
        "test_pred = cocl.test(test_df)\n",
        "\n",
        "print('Computing the Accuracy on the test data: ')\n",
        "# get RMSE ( Root Mean Squared Error)\n",
        "accuracy.rmse(test_pred, verbose=True)\n",
        "\n",
        "# get MAE (Mean Absolute Error)\n",
        "accuracy.mae(test_pred, verbose=True)\n",
        "\n",
        "\n",
        "# get FCP - Fraction of Concordant Pairs\n",
        "accuracy.fcp(test_pred, verbose=True)"
      ],
      "execution_count": 42,
      "outputs": [
        {
          "output_type": "stream",
          "text": [
            "Predicting the rating for a test user and product: \n",
            "user: 520        item: 50         r_ui = 3.00   est = 5.00   {'was_impossible': False}\n",
            "\n",
            "\n",
            "Computing the Accuracy on the test data: \n",
            "RMSE: 53.9754\n",
            "MAE:  45.8224\n",
            "FCP:  0.1564\n"
          ],
          "name": "stdout"
        },
        {
          "output_type": "execute_result",
          "data": {
            "text/plain": [
              "0.15636248681704312"
            ]
          },
          "metadata": {
            "tags": []
          },
          "execution_count": 42
        }
      ]
    },
    {
      "cell_type": "markdown",
      "metadata": {
        "id": "e6T9yy0I7INh"
      },
      "source": [
        "# Lets check the best model using cross validation"
      ]
    },
    {
      "cell_type": "code",
      "metadata": {
        "colab": {
          "base_uri": "https://localhost:8080/",
          "height": 744
        },
        "id": "r05zNzgW62UB",
        "outputId": "65ff1ab8-e638-474b-ed7b-1add5c02c6c6"
      },
      "source": [
        "benchmark = []\n",
        "# Iterate over all algorithms\n",
        "for algorithm in [SVD(),NormalPredictor(),NMF(),KNNBaseline(),KNNWithMeans(),KNNWithZScore(), BaselineOnly(), CoClustering()]:\n",
        "    # Perform cross validation\n",
        "    results = cross_validate(algorithm, data, measures=['RMSE'], cv=3, verbose=False)\n",
        "    \n",
        "    # Get results & append algorithm name\n",
        "    tmp = pd.DataFrame.from_dict(results).mean(axis=0)\n",
        "    tmp = tmp.append(pd.Series([str(algorithm).split(' ')[0].split('.')[-1]], index=['Algorithm']))\n",
        "    benchmark.append(tmp)\n",
        "    \n",
        "pd.DataFrame(benchmark).set_index('Algorithm').sort_values('test_rmse')  "
      ],
      "execution_count": 43,
      "outputs": [
        {
          "output_type": "stream",
          "text": [
            "Estimating biases using als...\n",
            "Computing the msd similarity matrix...\n",
            "Done computing similarity matrix.\n",
            "Estimating biases using als...\n",
            "Computing the msd similarity matrix...\n",
            "Done computing similarity matrix.\n",
            "Estimating biases using als...\n",
            "Computing the msd similarity matrix...\n",
            "Done computing similarity matrix.\n",
            "Computing the msd similarity matrix...\n",
            "Done computing similarity matrix.\n",
            "Computing the msd similarity matrix...\n",
            "Done computing similarity matrix.\n",
            "Computing the msd similarity matrix...\n",
            "Done computing similarity matrix.\n",
            "Computing the msd similarity matrix...\n",
            "Done computing similarity matrix.\n",
            "Computing the msd similarity matrix...\n",
            "Done computing similarity matrix.\n",
            "Computing the msd similarity matrix...\n",
            "Done computing similarity matrix.\n",
            "Estimating biases using als...\n",
            "Estimating biases using als...\n",
            "Estimating biases using als...\n"
          ],
          "name": "stdout"
        },
        {
          "output_type": "execute_result",
          "data": {
            "text/html": [
              "<div>\n",
              "<style scoped>\n",
              "    .dataframe tbody tr th:only-of-type {\n",
              "        vertical-align: middle;\n",
              "    }\n",
              "\n",
              "    .dataframe tbody tr th {\n",
              "        vertical-align: top;\n",
              "    }\n",
              "\n",
              "    .dataframe thead th {\n",
              "        text-align: right;\n",
              "    }\n",
              "</style>\n",
              "<table border=\"1\" class=\"dataframe\">\n",
              "  <thead>\n",
              "    <tr style=\"text-align: right;\">\n",
              "      <th></th>\n",
              "      <th>test_rmse</th>\n",
              "      <th>fit_time</th>\n",
              "      <th>test_time</th>\n",
              "    </tr>\n",
              "    <tr>\n",
              "      <th>Algorithm</th>\n",
              "      <th></th>\n",
              "      <th></th>\n",
              "      <th></th>\n",
              "    </tr>\n",
              "  </thead>\n",
              "  <tbody>\n",
              "    <tr>\n",
              "      <th>KNNWithZScore</th>\n",
              "      <td>53.942554</td>\n",
              "      <td>33.809077</td>\n",
              "      <td>397.331452</td>\n",
              "    </tr>\n",
              "    <tr>\n",
              "      <th>BaselineOnly</th>\n",
              "      <td>53.942563</td>\n",
              "      <td>0.202333</td>\n",
              "      <td>0.210421</td>\n",
              "    </tr>\n",
              "    <tr>\n",
              "      <th>KNNBaseline</th>\n",
              "      <td>53.942601</td>\n",
              "      <td>34.128607</td>\n",
              "      <td>408.659852</td>\n",
              "    </tr>\n",
              "    <tr>\n",
              "      <th>SVD</th>\n",
              "      <td>53.942615</td>\n",
              "      <td>4.044939</td>\n",
              "      <td>0.276323</td>\n",
              "    </tr>\n",
              "    <tr>\n",
              "      <th>KNNWithMeans</th>\n",
              "      <td>53.942621</td>\n",
              "      <td>34.001161</td>\n",
              "      <td>404.422225</td>\n",
              "    </tr>\n",
              "    <tr>\n",
              "      <th>CoClustering</th>\n",
              "      <td>53.942629</td>\n",
              "      <td>1.885838</td>\n",
              "      <td>0.237569</td>\n",
              "    </tr>\n",
              "    <tr>\n",
              "      <th>NMF</th>\n",
              "      <td>53.944828</td>\n",
              "      <td>4.362884</td>\n",
              "      <td>0.244924</td>\n",
              "    </tr>\n",
              "    <tr>\n",
              "      <th>NormalPredictor</th>\n",
              "      <td>54.118512</td>\n",
              "      <td>0.132011</td>\n",
              "      <td>0.299771</td>\n",
              "    </tr>\n",
              "  </tbody>\n",
              "</table>\n",
              "</div>"
            ],
            "text/plain": [
              "                 test_rmse   fit_time   test_time\n",
              "Algorithm                                        \n",
              "KNNWithZScore    53.942554  33.809077  397.331452\n",
              "BaselineOnly     53.942563   0.202333    0.210421\n",
              "KNNBaseline      53.942601  34.128607  408.659852\n",
              "SVD              53.942615   4.044939    0.276323\n",
              "KNNWithMeans     53.942621  34.001161  404.422225\n",
              "CoClustering     53.942629   1.885838    0.237569\n",
              "NMF              53.944828   4.362884    0.244924\n",
              "NormalPredictor  54.118512   0.132011    0.299771"
            ]
          },
          "metadata": {
            "tags": []
          },
          "execution_count": 43
        }
      ]
    },
    {
      "cell_type": "code",
      "metadata": {
        "colab": {
          "base_uri": "https://localhost:8080/"
        },
        "id": "0GU7Ww1KqGAy",
        "outputId": "621d0d04-70a9-4f56-d4ac-825d5d200a05"
      },
      "source": [
        "# Use the new parameters with the train test data\n",
        "algo = BaselineOnly()\n",
        "algo.fit(train_df)\n",
        "test_pred = algo.test(test_df)\n",
        "print(\"SVD : Test Set\")\n",
        "accuracy.rmse(test_pred, verbose=True)"
      ],
      "execution_count": 59,
      "outputs": [
        {
          "output_type": "stream",
          "text": [
            "Estimating biases using als...\n",
            "SVD : Test Set\n",
            "RMSE: 53.9586\n"
          ],
          "name": "stdout"
        },
        {
          "output_type": "execute_result",
          "data": {
            "text/plain": [
              "53.95863708239371"
            ]
          },
          "metadata": {
            "tags": []
          },
          "execution_count": 59
        }
      ]
    },
    {
      "cell_type": "markdown",
      "metadata": {
        "id": "nDW3I-YlwNhZ"
      },
      "source": [
        "# Collborative Top 5 Recommendations for each user"
      ]
    },
    {
      "cell_type": "code",
      "metadata": {
        "id": "mwN58sPVwEjd"
      },
      "source": [
        "def get_top_n(predictions, n=5):\n",
        "    '''Return the top-N recommendation for each user from a set of predictions.\n",
        "    Args:\n",
        "        predictions(list of Prediction objects): The list of predictions, as\n",
        "            returned by the test method of an algorithm.\n",
        "        n(int): The number of recommendation to output for each user. Default\n",
        "            is 10.\n",
        "    Returns:\n",
        "    A dict where keys are user (raw) ids and values are lists of tuples:\n",
        "        [(raw item id, rating estimation), ...] of size n.\n",
        "    '''\n",
        "\n",
        "    # First map the predictions to each user.\n",
        "    top_n = defaultdict(list)\n",
        "    for uid, iid, true_r, est, _ in predictions:\n",
        "        top_n[uid].append((iid, est))\n",
        "\n",
        "    # Then sort the predictions for each user and retrieve the k highest ones.\n",
        "    for uid, user_ratings in top_n.items():\n",
        "        user_ratings.sort(key=lambda x: x[1], reverse=True)\n",
        "        top_n[uid] = user_ratings[:n]\n",
        "\n",
        "    return top_n\n",
        "\n"
      ],
      "execution_count": 60,
      "outputs": []
    },
    {
      "cell_type": "code",
      "metadata": {
        "colab": {
          "base_uri": "https://localhost:8080/"
        },
        "id": "ZQyBb_LCwE2W",
        "outputId": "7dcd079f-376e-4fd6-a4a2-c82c7f971255"
      },
      "source": [
        "top_n = get_top_n(test_pred, n=10)\n",
        "\n",
        "# Print the recommended items for each user\n",
        "for uid, user_ratings in top_n.items():\n",
        "    print(uid, [iid for (iid, _) in user_ratings])"
      ],
      "execution_count": 63,
      "outputs": [
        {
          "output_type": "stream",
          "text": [
            "389 [2.0, 1.0, 3.0, 2.0, 3.0, 1.0, 2.0, 5.0, 5.0, 5.0]\n",
            "340 [1.0, 1.0, 4.0, 3.0, 2.0, 1.0, 3.0, 5.0, 2.0, 2.0]\n",
            "682 [5.0, 5.0, 5.0, 1.0, 4.0, 5.0, 5.0, 5.0, 2.0, 3.0]\n",
            "695 [2.0, 5.0, 1.0, 2.0, 1.0, 1.0, 3.0, 1.0, 4.0, 1.0]\n",
            "373 [5.0, 1.0, 4.0, 4.0, 1.0, 2.0, 2.0, 1.0, 1.0, 2.0]\n",
            "932 [2.0, 3.0, 3.0, 1.0, 4.0, 3.0, 2.0, 3.0, 5.0, 1.0]\n",
            "987 [3.0, 2.0, 3.0, 5.0, 4.0, 3.0, 2.0, 2.0, 5.0, 3.0]\n",
            "89 [5.0, 3.0, 4.0, 3.0, 3.0, 4.0, 5.0, 4.0, 2.0, 2.0]\n",
            "229 [3.0, 1.0, 2.0, 5.0, 3.0, 4.0, 4.0, 4.0, 3.0, 3.0]\n",
            "586 [1.0, 2.0, 1.0, 2.0, 3.0, 5.0, 4.0, 3.0, 3.0, 3.0]\n",
            "676 [5.0, 4.0, 2.0, 4.0, 1.0, 3.0, 2.0, 4.0, 5.0, 1.0]\n",
            "391 [4.0, 2.0, 5.0, 3.0, 4.0, 2.0, 4.0, 4.0, 1.0, 2.0]\n",
            "984 [2.0, 2.0, 3.0, 3.0, 4.0, 2.0, 2.0, 1.0, 2.0, 3.0]\n",
            "407 [2.0, 4.0, 3.0, 5.0, 2.0, 5.0, 2.0, 4.0, 3.0, 5.0]\n",
            "375 [3.0, 1.0, 4.0, 2.0, 1.0, 4.0, 5.0, 5.0, 3.0, 1.0]\n",
            "696 [1.0, 1.0, 5.0, 1.0, 4.0, 2.0, 2.0, 4.0, 5.0, 5.0]\n",
            "198 [4.0, 5.0, 3.0, 1.0, 3.0, 3.0, 4.0, 3.0, 4.0, 5.0]\n",
            "837 [5.0, 5.0, 5.0, 4.0, 2.0, 2.0, 3.0, 5.0, 2.0, 5.0]\n",
            "143 [4.0, 4.0, 4.0, 2.0, 2.0, 4.0, 4.0, 4.0, 3.0, 2.0]\n",
            "8 [3.0, 2.0, 5.0, 4.0, 1.0, 2.0, 3.0, 1.0, 5.0, 1.0]\n",
            "458 [2.0, 1.0, 4.0, 2.0, 5.0, 5.0, 3.0, 3.0, 5.0, 2.0]\n",
            "915 [3.0, 3.0, 2.0, 5.0, 5.0, 2.0, 4.0, 4.0, 2.0, 5.0]\n",
            "635 [5.0, 5.0, 2.0, 2.0, 4.0, 2.0, 1.0, 1.0, 5.0, 1.0]\n",
            "422 [3.0, 4.0, 5.0, 1.0, 1.0, 3.0, 4.0, 1.0, 3.0, 1.0]\n",
            "537 [2.0, 1.0, 5.0, 2.0, 3.0, 5.0, 2.0, 2.0, 2.0, 2.0]\n",
            "874 [4.0, 5.0, 4.0, 5.0, 2.0, 5.0, 5.0, 5.0, 2.0, 3.0]\n",
            "934 [2.0, 4.0, 5.0, 3.0, 5.0, 5.0, 1.0, 4.0, 2.0, 1.0]\n",
            "752 [2.0, 2.0, 5.0, 1.0, 2.0, 1.0, 4.0, 5.0, 4.0, 3.0]\n",
            "179 [1.0, 2.0, 3.0, 3.0, 3.0, 4.0, 1.0, 4.0, 1.0, 4.0]\n",
            "701 [3.0, 2.0, 3.0, 2.0, 4.0, 1.0, 2.0, 3.0, 4.0, 1.0]\n",
            "327 [5.0, 5.0, 4.0, 5.0, 4.0, 5.0, 5.0, 5.0, 4.0, 2.0]\n",
            "697 [1.0, 1.0, 2.0, 2.0, 4.0, 5.0, 1.0, 2.0, 5.0, 3.0]\n",
            "687 [1.0, 4.0, 3.0, 1.0, 4.0, 3.0, 5.0, 1.0, 5.0, 2.0]\n",
            "37 [3.0, 2.0, 1.0, 2.0, 4.0, 1.0, 5.0, 3.0, 2.0, 1.0]\n",
            "492 [5.0, 2.0, 5.0, 1.0, 3.0, 1.0, 4.0, 4.0, 3.0, 3.0]\n",
            "80 [4.0, 3.0, 5.0, 4.0, 5.0, 2.0, 4.0, 3.0, 5.0, 1.0]\n",
            "91 [3.0, 5.0, 2.0, 2.0, 3.0, 5.0, 1.0, 1.0, 3.0, 5.0]\n",
            "640 [5.0, 4.0, 1.0, 2.0, 1.0, 5.0, 1.0, 2.0, 4.0, 3.0]\n",
            "387 [2.0, 3.0, 1.0, 4.0, 5.0, 5.0, 3.0, 5.0, 1.0, 4.0]\n",
            "2 [2.0, 3.0, 3.0, 5.0, 5.0, 2.0, 5.0, 2.0, 3.0, 3.0]\n",
            "112 [2.0, 4.0, 2.0, 3.0, 1.0, 4.0, 4.0, 1.0, 1.0, 3.0]\n",
            "203 [5.0, 5.0, 1.0, 1.0, 4.0, 2.0, 1.0, 1.0, 5.0, 2.0]\n",
            "77 [1.0, 4.0, 2.0, 4.0, 2.0, 5.0, 3.0, 2.0, 5.0, 2.0]\n",
            "342 [2.0, 4.0, 5.0, 2.0, 3.0, 2.0, 5.0, 2.0, 2.0, 1.0]\n",
            "23 [2.0, 4.0, 2.0, 1.0, 1.0, 4.0, 1.0, 5.0, 2.0, 4.0]\n",
            "320 [1.0, 3.0, 2.0, 5.0, 5.0, 2.0, 5.0, 1.0, 4.0, 2.0]\n",
            "671 [1.0, 1.0, 1.0, 2.0, 5.0, 4.0, 4.0, 1.0, 3.0, 1.0]\n",
            "931 [1.0, 5.0, 3.0, 1.0, 4.0, 3.0, 2.0, 4.0, 2.0, 4.0]\n",
            "883 [3.0, 5.0, 3.0, 1.0, 4.0, 3.0, 3.0, 4.0, 2.0, 3.0]\n",
            "596 [3.0, 4.0, 4.0, 1.0, 3.0, 2.0, 3.0, 5.0, 4.0, 5.0]\n",
            "219 [5.0, 2.0, 2.0, 3.0, 3.0, 4.0, 4.0, 4.0, 4.0, 4.0]\n",
            "333 [3.0, 2.0, 4.0, 1.0, 4.0, 5.0, 1.0, 3.0, 2.0, 5.0]\n",
            "207 [4.0, 4.0, 1.0, 3.0, 3.0, 1.0, 4.0, 3.0, 1.0, 3.0]\n",
            "780 [1.0, 5.0, 3.0, 5.0, 1.0, 1.0, 3.0, 4.0, 1.0, 4.0]\n",
            "969 [4.0, 1.0, 3.0, 1.0, 3.0, 1.0, 1.0, 4.0, 2.0, 1.0]\n",
            "243 [5.0, 1.0, 4.0, 1.0, 4.0, 4.0, 3.0, 4.0, 5.0, 5.0]\n",
            "454 [1.0, 4.0, 5.0, 4.0, 2.0, 4.0, 5.0, 3.0, 2.0, 1.0]\n",
            "234 [4.0, 1.0, 5.0, 2.0, 2.0, 3.0, 3.0, 3.0, 2.0, 2.0]\n",
            "332 [3.0, 2.0, 2.0, 3.0, 4.0, 4.0, 3.0, 2.0, 3.0, 1.0]\n",
            "670 [4.0, 3.0, 2.0, 1.0, 2.0, 3.0, 3.0, 2.0, 5.0, 2.0]\n",
            "817 [3.0, 1.0, 3.0, 1.0, 4.0, 4.0, 2.0, 3.0, 2.0, 4.0]\n",
            "42 [5.0, 5.0, 3.0, 1.0, 5.0, 3.0, 1.0, 1.0, 2.0, 5.0]\n",
            "834 [5.0, 2.0, 5.0, 4.0, 5.0, 4.0, 5.0, 1.0, 3.0, 2.0]\n",
            "733 [2.0, 2.0, 2.0, 3.0, 3.0, 3.0, 2.0, 5.0, 4.0, 5.0]\n",
            "713 [2.0, 5.0, 4.0, 2.0, 2.0, 5.0, 1.0, 4.0, 4.0, 1.0]\n",
            "751 [5.0, 2.0, 3.0, 3.0, 4.0, 3.0, 3.0, 5.0, 2.0, 5.0]\n",
            "19 [2.0, 5.0, 3.0, 5.0, 3.0, 5.0, 1.0, 3.0, 1.0, 5.0]\n",
            "908 [5.0, 1.0, 1.0, 3.0, 5.0, 1.0, 2.0, 4.0, 5.0, 1.0]\n",
            "317 [1.0, 3.0, 4.0, 5.0, 2.0, 1.0, 4.0, 5.0, 1.0, 3.0]\n",
            "499 [5.0, 1.0, 3.0, 2.0, 3.0, 4.0, 4.0, 3.0, 4.0, 2.0]\n",
            "930 [2.0, 3.0, 4.0, 4.0, 5.0, 2.0, 4.0, 2.0, 2.0, 2.0]\n",
            "323 [3.0, 5.0, 4.0, 4.0, 3.0, 4.0, 1.0, 3.0, 2.0, 3.0]\n",
            "490 [2.0, 5.0, 4.0, 2.0, 5.0, 1.0, 4.0, 1.0, 3.0, 1.0]\n",
            "279 [1.0, 1.0, 1.0, 4.0, 2.0, 2.0, 3.0, 3.0, 3.0, 4.0]\n",
            "350 [5.0, 2.0, 1.0, 4.0, 2.0, 4.0, 2.0, 4.0, 5.0, 5.0]\n",
            "593 [4.0, 4.0, 3.0, 3.0, 2.0, 1.0, 2.0, 1.0, 5.0, 3.0]\n",
            "673 [5.0, 4.0, 2.0, 1.0, 4.0, 5.0, 2.0, 1.0, 3.0, 5.0]\n",
            "181 [5.0, 2.0, 3.0, 2.0, 1.0, 4.0, 3.0, 3.0, 1.0, 2.0]\n",
            "854 [4.0, 3.0, 4.0, 4.0, 3.0, 2.0, 3.0, 4.0, 1.0, 1.0]\n",
            "158 [3.0, 1.0, 4.0, 3.0, 1.0, 1.0, 3.0, 4.0, 1.0, 2.0]\n",
            "523 [1.0, 2.0, 4.0, 1.0, 1.0, 5.0, 2.0, 2.0, 3.0, 5.0]\n",
            "956 [4.0, 1.0, 4.0, 1.0, 1.0, 3.0, 4.0, 1.0, 3.0, 2.0]\n",
            "237 [3.0, 1.0, 2.0, 2.0, 2.0, 2.0, 2.0, 4.0, 3.0, 2.0]\n",
            "290 [2.0, 3.0, 1.0, 4.0, 1.0, 4.0, 5.0, 4.0, 1.0, 2.0]\n",
            "26 [3.0, 1.0, 2.0, 2.0, 4.0, 3.0, 5.0, 5.0, 1.0, 3.0]\n",
            "43 [3.0, 1.0, 3.0, 1.0, 5.0, 4.0, 4.0, 5.0, 5.0, 3.0]\n",
            "527 [5.0, 2.0, 5.0, 2.0, 4.0, 3.0, 4.0, 2.0, 2.0, 3.0]\n",
            "343 [5.0, 1.0, 5.0, 4.0, 5.0, 1.0, 4.0, 3.0, 4.0, 4.0]\n",
            "1 [2.0, 1.0, 3.0, 1.0, 4.0, 5.0, 4.0, 4.0, 4.0, 4.0]\n",
            "483 [2.0, 1.0, 5.0, 1.0, 3.0, 5.0, 1.0, 3.0, 2.0, 3.0]\n",
            "771 [1.0, 3.0, 5.0, 5.0, 4.0, 1.0, 2.0, 3.0, 2.0, 1.0]\n",
            "35 [3.0, 4.0, 4.0, 5.0, 1.0, 3.0, 5.0, 5.0, 2.0, 3.0]\n",
            "708 [5.0, 2.0, 2.0, 4.0, 5.0, 4.0, 5.0, 4.0, 4.0, 2.0]\n",
            "692 [3.0, 3.0, 3.0, 3.0, 4.0, 3.0, 4.0, 2.0, 1.0, 1.0]\n",
            "521 [5.0, 4.0, 5.0, 4.0, 4.0, 2.0, 5.0, 5.0, 5.0, 5.0]\n",
            "212 [5.0, 1.0, 4.0, 1.0, 4.0, 3.0, 5.0, 1.0, 5.0, 4.0]\n",
            "853 [5.0, 4.0, 2.0, 3.0, 3.0, 2.0, 1.0, 3.0, 3.0, 1.0]\n",
            "519 [5.0, 5.0, 5.0, 3.0, 2.0, 5.0, 3.0, 5.0, 5.0, 2.0]\n",
            "669 [3.0, 5.0, 3.0, 5.0, 2.0, 5.0, 2.0, 5.0, 1.0, 2.0]\n",
            "409 [3.0, 5.0, 4.0, 5.0, 3.0, 1.0, 4.0, 1.0, 5.0, 3.0]\n",
            "898 [2.0, 3.0, 1.0, 5.0, 2.0, 2.0, 3.0, 4.0, 4.0, 5.0]\n",
            "627 [1.0, 3.0, 1.0, 4.0, 5.0, 2.0, 1.0, 2.0, 3.0, 5.0]\n",
            "450 [4.0, 2.0, 4.0, 1.0, 3.0, 4.0, 4.0, 2.0, 2.0, 4.0]\n",
            "478 [1.0, 3.0, 3.0, 1.0, 3.0, 5.0, 4.0, 4.0, 5.0, 2.0]\n",
            "716 [2.0, 5.0, 1.0, 2.0, 1.0, 4.0, 3.0, 5.0, 5.0, 5.0]\n",
            "626 [4.0, 4.0, 2.0, 4.0, 1.0, 5.0, 5.0, 1.0, 3.0, 3.0]\n",
            "632 [5.0, 1.0, 3.0, 2.0, 1.0, 3.0, 5.0, 2.0, 1.0, 2.0]\n",
            "451 [2.0, 2.0, 5.0, 5.0, 5.0, 1.0, 4.0, 5.0, 5.0, 3.0]\n",
            "272 [2.0, 1.0, 5.0, 5.0, 2.0, 5.0, 3.0, 4.0, 2.0, 2.0]\n",
            "197 [3.0, 4.0, 3.0, 5.0, 5.0, 4.0, 3.0, 5.0, 1.0, 2.0]\n",
            "275 [1.0, 5.0, 3.0, 1.0, 1.0, 1.0, 4.0, 3.0, 2.0, 4.0]\n",
            "110 [3.0, 4.0, 4.0, 5.0, 2.0, 1.0, 1.0, 1.0, 3.0, 5.0]\n",
            "9 [2.0, 4.0, 3.0, 4.0, 4.0, 3.0, 3.0, 4.0, 3.0, 2.0]\n",
            "966 [3.0, 4.0, 5.0, 3.0, 5.0, 5.0, 5.0, 1.0, 3.0, 5.0]\n",
            "904 [1.0, 4.0, 4.0, 1.0, 4.0, 3.0, 4.0, 5.0, 3.0, 3.0]\n",
            "852 [2.0, 4.0, 4.0, 1.0, 3.0, 1.0, 2.0, 1.0, 4.0, 3.0]\n",
            "935 [2.0, 5.0, 5.0, 5.0, 5.0, 4.0, 2.0, 1.0, 4.0, 2.0]\n",
            "388 [2.0, 4.0, 1.0, 1.0, 4.0, 3.0, 4.0, 4.0, 1.0, 1.0]\n",
            "289 [1.0, 2.0, 3.0, 4.0, 5.0, 4.0, 3.0, 1.0, 2.0, 3.0]\n",
            "688 [4.0, 4.0, 5.0, 5.0, 3.0, 2.0, 5.0, 5.0, 1.0, 4.0]\n",
            "710 [2.0, 4.0, 1.0, 5.0, 3.0, 5.0, 2.0, 2.0, 4.0, 2.0]\n",
            "758 [5.0, 5.0, 1.0, 2.0, 3.0, 1.0, 3.0, 4.0, 1.0, 2.0]\n",
            "441 [2.0, 2.0, 2.0, 4.0, 5.0, 2.0, 2.0, 1.0, 3.0, 3.0]\n",
            "429 [2.0, 5.0, 4.0, 2.0, 2.0, 4.0, 5.0, 5.0, 2.0, 5.0]\n",
            "994 [2.0, 3.0, 5.0, 1.0, 5.0, 4.0, 4.0, 4.0, 1.0, 3.0]\n",
            "28 [3.0, 4.0, 4.0, 2.0, 3.0, 1.0, 3.0, 5.0, 1.0, 4.0]\n",
            "25 [1.0, 5.0, 4.0, 4.0, 2.0, 1.0, 2.0, 1.0, 1.0, 5.0]\n",
            "772 [5.0, 2.0, 1.0, 2.0, 3.0, 2.0, 3.0, 1.0, 1.0, 5.0]\n",
            "399 [2.0, 4.0, 2.0, 5.0, 1.0, 5.0, 4.0, 2.0, 4.0, 5.0]\n",
            "230 [5.0, 5.0, 1.0, 5.0, 2.0, 4.0, 4.0, 4.0, 5.0, 1.0]\n",
            "3 [2.0, 1.0, 4.0, 3.0, 4.0, 5.0, 4.0, 2.0, 5.0, 2.0]\n",
            "258 [2.0, 5.0, 2.0, 1.0, 4.0, 5.0, 1.0, 2.0, 3.0, 3.0]\n",
            "765 [5.0, 2.0, 2.0, 2.0, 3.0, 1.0, 3.0, 3.0, 2.0, 2.0]\n",
            "363 [2.0, 4.0, 3.0, 2.0, 3.0, 5.0, 5.0, 1.0, 5.0, 1.0]\n",
            "67 [4.0, 5.0, 5.0, 1.0, 3.0, 5.0, 5.0, 2.0, 5.0, 4.0]\n",
            "318 [1.0, 1.0, 3.0, 5.0, 2.0, 3.0, 4.0, 5.0, 2.0, 2.0]\n",
            "306 [2.0, 3.0, 4.0, 1.0, 5.0, 4.0, 5.0, 4.0, 4.0, 4.0]\n",
            "685 [2.0, 2.0, 5.0, 1.0, 4.0, 1.0, 4.0, 2.0, 5.0, 3.0]\n",
            "120 [1.0, 3.0, 1.0, 1.0, 5.0, 4.0, 1.0, 2.0, 1.0, 1.0]\n",
            "875 [3.0, 3.0, 1.0, 5.0, 3.0, 2.0, 3.0, 4.0, 4.0, 2.0]\n",
            "998 [5.0, 3.0, 3.0, 1.0, 3.0, 1.0, 3.0, 2.0, 4.0, 5.0]\n",
            "864 [2.0, 5.0, 2.0, 1.0, 3.0, 1.0, 3.0, 1.0, 4.0, 5.0]\n",
            "280 [1.0, 1.0, 4.0, 1.0, 1.0, 1.0, 3.0, 3.0, 5.0, 2.0]\n",
            "235 [3.0, 5.0, 1.0, 5.0, 2.0, 5.0, 3.0, 2.0, 3.0, 5.0]\n",
            "468 [4.0, 5.0, 2.0, 2.0, 4.0, 1.0, 4.0, 2.0, 5.0, 5.0]\n",
            "982 [4.0, 1.0, 4.0, 5.0, 3.0, 2.0, 1.0, 3.0, 3.0, 3.0]\n",
            "683 [2.0, 5.0, 1.0, 2.0, 4.0, 1.0, 5.0, 5.0, 4.0, 1.0]\n",
            "664 [3.0, 1.0, 1.0, 4.0, 3.0, 2.0, 5.0, 2.0, 2.0, 5.0]\n",
            "562 [2.0, 3.0, 4.0, 3.0, 5.0, 1.0, 1.0, 5.0, 5.0, 4.0]\n",
            "819 [2.0, 1.0, 5.0, 4.0, 2.0, 3.0, 3.0, 2.0, 4.0, 3.0]\n",
            "118 [4.0, 4.0, 3.0, 5.0, 4.0, 4.0, 4.0, 5.0, 2.0, 2.0]\n",
            "760 [4.0, 5.0, 1.0, 2.0, 3.0, 4.0, 2.0, 1.0, 5.0, 3.0]\n",
            "116 [2.0, 3.0, 3.0, 1.0, 4.0, 4.0, 2.0, 2.0, 4.0, 2.0]\n",
            "313 [1.0, 1.0, 4.0, 4.0, 4.0, 1.0, 5.0, 2.0, 4.0, 4.0]\n",
            "613 [1.0, 2.0, 2.0, 1.0, 2.0, 3.0, 1.0, 2.0, 3.0, 5.0]\n",
            "192 [3.0, 1.0, 5.0, 3.0, 1.0, 3.0, 4.0, 3.0, 4.0, 4.0]\n",
            "557 [4.0, 2.0, 5.0, 5.0, 4.0, 4.0, 4.0, 1.0, 2.0, 2.0]\n",
            "659 [2.0, 4.0, 5.0, 1.0, 1.0, 3.0, 4.0, 1.0, 3.0, 2.0]\n",
            "526 [5.0, 5.0, 3.0, 3.0, 5.0, 5.0, 4.0, 5.0, 2.0, 3.0]\n",
            "850 [1.0, 1.0, 1.0, 3.0, 3.0, 1.0, 1.0, 3.0, 4.0, 1.0]\n",
            "884 [3.0, 1.0, 5.0, 4.0, 3.0, 5.0, 5.0, 4.0, 5.0, 4.0]\n",
            "693 [1.0, 3.0, 4.0, 5.0, 5.0, 4.0, 4.0, 4.0, 4.0, 3.0]\n",
            "486 [3.0, 2.0, 3.0, 4.0, 5.0, 5.0, 3.0, 2.0, 2.0, 2.0]\n",
            "34 [2.0, 4.0, 2.0, 5.0, 4.0, 2.0, 2.0, 2.0, 4.0, 3.0]\n",
            "993 [5.0, 5.0, 5.0, 4.0, 5.0, 5.0, 2.0, 3.0, 5.0, 4.0]\n",
            "581 [1.0, 5.0, 1.0, 1.0, 1.0, 3.0, 3.0, 2.0, 2.0, 4.0]\n",
            "201 [3.0, 4.0, 1.0, 3.0, 5.0, 2.0, 3.0, 1.0, 5.0, 2.0]\n",
            "793 [1.0, 5.0, 1.0, 2.0, 2.0, 3.0, 2.0, 4.0, 1.0, 1.0]\n",
            "860 [5.0, 2.0, 4.0, 4.0, 4.0, 4.0, 5.0, 1.0, 1.0, 1.0]\n",
            "315 [5.0, 3.0, 4.0, 3.0, 5.0, 3.0, 4.0, 1.0, 5.0, 1.0]\n",
            "144 [3.0, 5.0, 5.0, 1.0, 2.0, 3.0, 2.0, 3.0, 2.0, 5.0]\n",
            "888 [3.0, 1.0, 3.0, 2.0, 5.0, 1.0, 3.0, 2.0, 1.0, 4.0]\n",
            "981 [1.0, 1.0, 3.0, 3.0, 2.0, 5.0, 2.0, 2.0, 3.0, 2.0]\n",
            "397 [5.0, 1.0, 4.0, 2.0, 1.0, 1.0, 4.0, 2.0, 3.0, 2.0]\n",
            "210 [2.0, 1.0, 3.0, 2.0, 1.0, 5.0, 5.0, 2.0, 2.0, 5.0]\n",
            "652 [5.0, 2.0, 4.0, 4.0, 4.0, 4.0, 4.0, 4.0, 2.0, 1.0]\n",
            "271 [2.0, 5.0, 4.0, 3.0, 1.0, 2.0, 4.0, 1.0, 4.0, 4.0]\n",
            "175 [2.0, 1.0, 4.0, 1.0, 3.0, 1.0, 3.0, 2.0, 2.0, 4.0]\n",
            "227 [5.0, 2.0, 4.0, 3.0, 5.0, 5.0, 4.0, 3.0, 5.0, 2.0]\n",
            "553 [5.0, 4.0, 5.0, 1.0, 1.0, 2.0, 5.0, 3.0, 4.0, 1.0]\n",
            "638 [3.0, 5.0, 4.0, 3.0, 2.0, 1.0, 3.0, 1.0, 5.0, 1.0]\n",
            "170 [2.0, 3.0, 5.0, 1.0, 5.0, 2.0, 3.0, 3.0, 4.0, 3.0]\n",
            "985 [2.0, 3.0, 1.0, 1.0, 4.0, 4.0, 2.0, 1.0, 4.0, 3.0]\n",
            "545 [2.0, 2.0, 5.0, 4.0, 4.0, 5.0, 3.0, 2.0, 3.0, 3.0]\n",
            "308 [5.0, 2.0, 1.0, 3.0, 1.0, 5.0, 3.0, 4.0, 2.0, 5.0]\n",
            "777 [5.0, 5.0, 3.0, 4.0, 4.0, 3.0, 2.0, 3.0, 2.0, 4.0]\n",
            "101 [3.0, 4.0, 2.0, 2.0, 5.0, 4.0, 4.0, 1.0, 3.0, 1.0]\n",
            "755 [1.0, 3.0, 5.0, 3.0, 1.0, 2.0, 3.0, 5.0, 4.0, 5.0]\n",
            "703 [1.0, 5.0, 3.0, 5.0, 3.0, 1.0, 2.0, 3.0, 3.0, 5.0]\n",
            "17 [1.0, 1.0, 5.0, 3.0, 1.0, 3.0, 5.0, 2.0, 1.0, 4.0]\n",
            "830 [2.0, 4.0, 2.0, 1.0, 1.0, 3.0, 2.0, 4.0, 3.0, 5.0]\n",
            "352 [5.0, 4.0, 4.0, 4.0, 2.0, 4.0, 5.0, 1.0, 5.0, 4.0]\n",
            "628 [2.0, 4.0, 4.0, 4.0, 5.0, 3.0, 2.0, 4.0, 2.0, 5.0]\n",
            "191 [3.0, 5.0, 4.0, 4.0, 1.0, 4.0, 4.0, 4.0, 1.0, 4.0]\n",
            "467 [5.0, 2.0, 4.0, 4.0, 5.0, 2.0, 2.0, 2.0, 4.0, 1.0]\n",
            "763 [5.0, 5.0, 2.0, 3.0, 5.0, 5.0, 5.0, 1.0, 1.0, 4.0]\n",
            "975 [4.0, 3.0, 2.0, 1.0, 5.0, 4.0, 2.0, 1.0, 3.0, 2.0]\n",
            "740 [2.0, 1.0, 4.0, 4.0, 3.0, 1.0, 2.0, 1.0, 2.0, 2.0]\n",
            "942 [1.0, 1.0, 5.0, 4.0, 1.0, 3.0, 3.0, 4.0, 5.0, 1.0]\n",
            "304 [2.0, 4.0, 4.0, 3.0, 4.0, 2.0, 5.0, 5.0, 1.0, 5.0]\n",
            "85 [3.0, 1.0, 4.0, 1.0, 5.0, 4.0, 3.0, 5.0, 2.0, 2.0]\n",
            "522 [4.0, 1.0, 1.0, 3.0, 4.0, 5.0, 2.0, 2.0, 3.0, 2.0]\n",
            "955 [4.0, 1.0, 2.0, 4.0, 1.0, 4.0, 1.0, 2.0, 5.0, 2.0]\n",
            "168 [1.0, 3.0, 1.0, 5.0, 3.0, 5.0, 3.0, 3.0, 4.0, 3.0]\n",
            "438 [4.0, 4.0, 5.0, 4.0, 3.0, 3.0, 2.0, 4.0, 3.0, 2.0]\n",
            "862 [4.0, 3.0, 1.0, 1.0, 1.0, 3.0, 5.0, 3.0, 3.0, 3.0]\n",
            "81 [3.0, 1.0, 1.0, 1.0, 3.0, 2.0, 1.0, 5.0, 3.0, 1.0]\n",
            "590 [5.0, 5.0, 3.0, 5.0, 5.0, 4.0, 4.0, 5.0, 2.0, 3.0]\n",
            "511 [1.0, 5.0, 5.0, 3.0, 4.0, 1.0, 2.0, 5.0, 3.0, 1.0]\n",
            "544 [2.0, 2.0, 3.0, 2.0, 1.0, 3.0, 5.0, 2.0, 2.0, 5.0]\n",
            "558 [1.0, 4.0, 5.0, 5.0, 2.0, 2.0, 2.0, 2.0, 2.0, 2.0]\n",
            "437 [3.0, 4.0, 3.0, 2.0, 4.0, 4.0, 3.0, 2.0, 4.0, 4.0]\n",
            "655 [5.0, 3.0, 2.0, 2.0, 5.0, 1.0, 2.0, 4.0, 5.0, 4.0]\n",
            "559 [3.0, 5.0, 4.0, 1.0, 3.0, 3.0, 5.0, 2.0, 4.0, 2.0]\n",
            "715 [1.0, 5.0, 3.0, 5.0, 1.0, 5.0, 2.0, 2.0, 3.0, 3.0]\n",
            "576 [5.0, 3.0, 5.0, 1.0, 2.0, 4.0, 4.0, 5.0, 4.0, 5.0]\n",
            "520 [2.0, 1.0, 1.0, 1.0, 3.0, 5.0, 5.0, 5.0, 1.0, 2.0]\n",
            "821 [4.0, 5.0, 5.0, 4.0, 4.0, 1.0, 2.0, 4.0, 1.0, 4.0]\n",
            "495 [5.0, 5.0, 3.0, 1.0, 4.0, 5.0, 2.0, 4.0, 2.0, 2.0]\n",
            "833 [5.0, 5.0, 4.0, 4.0, 3.0, 2.0, 1.0, 4.0, 2.0, 1.0]\n",
            "382 [2.0, 1.0, 3.0, 1.0, 4.0, 2.0, 2.0, 4.0, 5.0, 1.0]\n",
            "494 [3.0, 5.0, 4.0, 5.0, 2.0, 3.0, 3.0, 5.0, 3.0, 1.0]\n",
            "555 [5.0, 2.0, 5.0, 1.0, 1.0, 5.0, 2.0, 1.0, 5.0, 1.0]\n",
            "184 [3.0, 2.0, 1.0, 1.0, 1.0, 3.0, 3.0, 2.0, 2.0, 2.0]\n",
            "261 [1.0, 1.0, 3.0, 2.0, 1.0, 2.0, 4.0, 1.0, 2.0, 1.0]\n",
            "620 [2.0, 5.0, 2.0, 2.0, 5.0, 1.0, 4.0, 3.0, 5.0, 3.0]\n",
            "714 [4.0, 5.0, 2.0, 3.0, 4.0, 1.0, 2.0, 4.0, 2.0, 5.0]\n",
            "938 [5.0, 3.0, 3.0, 2.0, 1.0, 4.0, 4.0, 1.0, 2.0, 5.0]\n",
            "379 [4.0, 4.0, 2.0, 3.0, 1.0, 4.0, 2.0, 4.0, 3.0, 2.0]\n",
            "976 [3.0, 3.0, 3.0, 3.0, 5.0, 5.0, 2.0, 5.0, 5.0, 5.0]\n",
            "383 [3.0, 5.0, 5.0, 4.0, 5.0, 3.0, 1.0, 5.0, 3.0, 4.0]\n",
            "602 [1.0, 4.0, 1.0, 4.0, 4.0, 5.0, 2.0, 3.0, 2.0, 1.0]\n",
            "256 [5.0, 2.0, 1.0, 3.0, 4.0, 2.0, 2.0, 3.0, 1.0, 4.0]\n",
            "270 [5.0, 3.0, 5.0, 1.0, 1.0, 5.0, 2.0, 4.0, 3.0, 2.0]\n",
            "742 [4.0, 4.0, 4.0, 2.0, 2.0, 3.0, 5.0, 1.0, 1.0, 2.0]\n",
            "173 [4.0, 2.0, 3.0, 2.0, 3.0, 5.0, 3.0, 4.0, 3.0, 2.0]\n",
            "61 [3.0, 5.0, 1.0, 2.0, 2.0, 2.0, 1.0, 5.0, 1.0, 4.0]\n",
            "649 [3.0, 5.0, 4.0, 5.0, 5.0, 5.0, 4.0, 1.0, 1.0, 3.0]\n",
            "991 [3.0, 4.0, 5.0, 1.0, 2.0, 3.0, 2.0, 2.0, 5.0, 2.0]\n",
            "322 [3.0, 2.0, 4.0, 1.0, 4.0, 2.0, 1.0, 3.0, 1.0, 2.0]\n",
            "702 [1.0, 2.0, 4.0, 4.0, 3.0, 5.0, 2.0, 2.0, 3.0, 1.0]\n",
            "246 [1.0, 4.0, 5.0, 4.0, 5.0, 4.0, 1.0, 5.0, 5.0, 3.0]\n",
            "863 [4.0, 3.0, 4.0, 1.0, 5.0, 5.0, 4.0, 2.0, 4.0, 3.0]\n",
            "13 [4.0, 5.0, 1.0, 3.0, 4.0, 2.0, 1.0, 4.0, 4.0, 3.0]\n",
            "809 [1.0, 1.0, 2.0, 1.0, 2.0, 1.0, 5.0, 3.0, 2.0, 5.0]\n",
            "666 [4.0, 3.0, 3.0, 1.0, 5.0, 4.0, 4.0, 2.0, 4.0, 5.0]\n",
            "254 [4.0, 4.0, 1.0, 2.0, 5.0, 1.0, 5.0, 1.0, 3.0, 2.0]\n",
            "371 [2.0, 1.0, 5.0, 5.0, 5.0, 5.0, 3.0, 2.0, 3.0, 4.0]\n",
            "825 [5.0, 3.0, 4.0, 1.0, 4.0, 4.0, 5.0, 1.0, 2.0, 1.0]\n",
            "543 [1.0, 3.0, 2.0, 1.0, 3.0, 5.0, 5.0, 3.0, 2.0, 2.0]\n",
            "474 [5.0, 1.0, 3.0, 2.0, 4.0, 4.0, 5.0, 1.0, 3.0, 4.0]\n",
            "54 [2.0, 1.0, 1.0, 3.0, 5.0, 2.0, 4.0, 5.0, 3.0, 1.0]\n",
            "238 [5.0, 5.0, 4.0, 5.0, 5.0, 5.0, 5.0, 5.0, 2.0, 2.0]\n",
            "644 [1.0, 4.0, 1.0, 5.0, 5.0, 1.0, 5.0, 3.0, 1.0, 3.0]\n",
            "723 [5.0, 2.0, 1.0, 3.0, 1.0, 5.0, 4.0, 5.0, 3.0, 5.0]\n",
            "71 [2.0, 1.0, 1.0, 5.0, 2.0, 5.0, 2.0, 2.0, 4.0, 1.0]\n",
            "95 [3.0, 3.0, 4.0, 4.0, 5.0, 3.0, 5.0, 4.0, 1.0, 1.0]\n",
            "398 [2.0, 3.0, 5.0, 2.0, 3.0, 3.0, 1.0, 5.0, 3.0, 1.0]\n",
            "204 [4.0, 4.0, 3.0, 4.0, 3.0, 5.0, 1.0, 3.0, 5.0, 4.0]\n",
            "481 [2.0, 1.0, 1.0, 2.0, 4.0, 3.0, 2.0, 5.0, 5.0, 5.0]\n",
            "287 [2.0, 2.0, 1.0, 4.0, 2.0, 5.0, 2.0, 1.0, 1.0, 4.0]\n",
            "361 [1.0, 3.0, 4.0, 5.0, 5.0, 5.0, 4.0, 3.0, 5.0, 2.0]\n",
            "782 [4.0, 3.0, 5.0, 5.0, 4.0, 2.0, 1.0, 5.0, 5.0, 4.0]\n",
            "922 [4.0, 3.0, 3.0, 3.0, 3.0, 2.0, 3.0, 5.0, 3.0, 1.0]\n",
            "848 [4.0, 1.0, 4.0, 3.0, 4.0, 1.0, 2.0, 1.0, 5.0, 1.0]\n",
            "174 [2.0, 2.0, 2.0, 5.0, 2.0, 1.0, 5.0, 2.0, 4.0, 4.0]\n",
            "127 [5.0, 2.0, 4.0, 2.0, 4.0, 1.0, 4.0, 1.0, 2.0, 2.0]\n",
            "726 [5.0, 5.0, 3.0, 2.0, 2.0, 4.0, 2.0, 4.0, 4.0, 2.0]\n",
            "182 [1.0, 4.0, 4.0, 2.0, 5.0, 1.0, 2.0, 2.0, 4.0, 5.0]\n",
            "978 [3.0, 5.0, 5.0, 1.0, 3.0, 3.0, 3.0, 3.0, 2.0, 1.0]\n",
            "759 [4.0, 4.0, 4.0, 4.0, 5.0, 1.0, 5.0, 1.0, 4.0, 1.0]\n",
            "561 [3.0, 5.0, 4.0, 5.0, 1.0, 2.0, 4.0, 1.0, 4.0, 5.0]\n",
            "599 [3.0, 5.0, 5.0, 2.0, 1.0, 1.0, 1.0, 3.0, 4.0, 3.0]\n",
            "856 [4.0, 3.0, 4.0, 3.0, 5.0, 4.0, 5.0, 3.0, 1.0, 4.0]\n",
            "896 [4.0, 2.0, 4.0, 3.0, 5.0, 5.0, 1.0, 4.0, 3.0, 3.0]\n",
            "611 [4.0, 4.0, 1.0, 3.0, 3.0, 4.0, 5.0, 2.0, 5.0, 2.0]\n",
            "125 [5.0, 5.0, 1.0, 4.0, 5.0, 5.0, 3.0, 4.0, 1.0, 4.0]\n",
            "731 [4.0, 4.0, 1.0, 2.0, 3.0, 2.0, 3.0, 2.0, 5.0, 5.0]\n",
            "193 [5.0, 3.0, 4.0, 2.0, 2.0, 1.0, 4.0, 3.0, 5.0, 3.0]\n",
            "816 [1.0, 5.0, 4.0, 1.0, 2.0, 5.0, 3.0, 2.0, 3.0, 5.0]\n",
            "335 [2.0, 1.0, 5.0, 4.0, 1.0, 3.0, 4.0, 5.0, 1.0, 2.0]\n",
            "489 [5.0, 4.0, 5.0, 5.0, 2.0, 4.0, 4.0, 2.0, 4.0, 3.0]\n",
            "826 [3.0, 1.0, 4.0, 5.0, 4.0, 4.0, 3.0, 1.0, 2.0, 3.0]\n",
            "22 [3.0, 3.0, 1.0, 5.0, 4.0, 4.0, 3.0, 3.0, 3.0, 5.0]\n",
            "353 [3.0, 3.0, 1.0, 5.0, 5.0, 2.0, 4.0, 4.0, 2.0, 5.0]\n",
            "293 [2.0, 4.0, 2.0, 3.0, 1.0, 5.0, 4.0, 1.0, 3.0, 4.0]\n",
            "392 [3.0, 2.0, 5.0, 4.0, 3.0, 4.0, 2.0, 1.0, 5.0, 5.0]\n",
            "249 [5.0, 4.0, 2.0, 5.0, 2.0, 1.0, 2.0, 4.0, 2.0, 3.0]\n",
            "591 [5.0, 4.0, 1.0, 2.0, 1.0, 3.0, 2.0, 5.0, 3.0, 2.0]\n",
            "259 [4.0, 1.0, 3.0, 5.0, 1.0, 2.0, 5.0, 3.0, 3.0, 5.0]\n",
            "415 [5.0, 4.0, 2.0, 5.0, 2.0, 5.0, 4.0, 2.0, 2.0, 1.0]\n",
            "926 [5.0, 2.0, 4.0, 5.0, 1.0, 4.0, 1.0, 1.0, 1.0, 4.0]\n",
            "609 [5.0, 5.0, 4.0, 3.0, 4.0, 3.0, 5.0, 1.0, 5.0, 3.0]\n",
            "779 [2.0, 5.0, 3.0, 2.0, 3.0, 5.0, 5.0, 3.0, 4.0, 1.0]\n",
            "929 [4.0, 5.0, 3.0, 4.0, 3.0, 3.0, 5.0, 2.0, 1.0, 2.0]\n",
            "939 [3.0, 2.0, 3.0, 2.0, 2.0, 4.0, 4.0, 3.0, 1.0, 3.0]\n",
            "103 [1.0, 1.0, 5.0, 3.0, 2.0, 2.0, 5.0, 5.0, 1.0, 1.0]\n",
            "139 [5.0, 1.0, 5.0, 2.0, 2.0, 4.0, 1.0, 5.0, 4.0, 1.0]\n",
            "829 [4.0, 3.0, 2.0, 2.0, 5.0, 4.0, 1.0, 5.0, 2.0, 2.0]\n",
            "986 [1.0, 5.0, 2.0, 2.0, 3.0, 2.0, 3.0, 3.0, 5.0, 5.0]\n",
            "228 [5.0, 2.0, 2.0, 2.0, 1.0, 5.0, 5.0, 2.0, 3.0, 3.0]\n",
            "359 [4.0, 2.0, 4.0, 1.0, 5.0, 3.0, 4.0, 3.0, 3.0, 4.0]\n",
            "951 [5.0, 2.0, 1.0, 2.0, 3.0, 2.0, 3.0, 2.0, 3.0, 5.0]\n",
            "70 [2.0, 2.0, 5.0, 1.0, 2.0, 5.0, 5.0, 5.0, 5.0, 4.0]\n",
            "223 [1.0, 5.0, 2.0, 3.0, 4.0, 3.0, 4.0, 5.0, 4.0, 2.0]\n",
            "444 [4.0, 1.0, 3.0, 1.0, 2.0, 2.0, 5.0, 4.0, 3.0, 1.0]\n",
            "325 [3.0, 1.0, 5.0, 1.0, 2.0, 1.0, 1.0, 5.0, 4.0, 2.0]\n",
            "633 [4.0, 2.0, 3.0, 2.0, 5.0, 4.0, 4.0, 2.0, 4.0, 3.0]\n",
            "4 [5.0, 4.0, 4.0, 3.0, 2.0, 1.0, 2.0, 1.0, 4.0, 1.0]\n",
            "404 [3.0, 3.0, 2.0, 1.0, 2.0, 2.0, 4.0, 2.0, 3.0, 2.0]\n",
            "128 [5.0, 3.0, 5.0, 5.0, 5.0, 1.0, 4.0, 2.0, 5.0, 3.0]\n",
            "803 [5.0, 3.0, 4.0, 1.0, 2.0, 4.0, 1.0, 4.0, 4.0, 3.0]\n",
            "390 [4.0, 3.0, 4.0, 1.0, 3.0, 5.0, 4.0, 2.0, 5.0, 3.0]\n",
            "286 [3.0, 5.0, 2.0, 2.0, 2.0, 2.0, 4.0, 2.0, 5.0, 3.0]\n",
            "393 [2.0, 4.0, 1.0, 2.0, 1.0, 5.0, 4.0, 2.0, 2.0, 4.0]\n",
            "487 [3.0, 5.0, 3.0, 4.0, 4.0, 3.0, 4.0, 1.0, 4.0, 3.0]\n",
            "189 [3.0, 2.0, 4.0, 2.0, 3.0, 5.0, 1.0, 2.0, 3.0, 2.0]\n",
            "265 [2.0, 1.0, 4.0, 4.0, 4.0, 5.0, 1.0, 2.0, 3.0, 4.0]\n",
            "485 [1.0, 3.0, 5.0, 1.0, 3.0, 5.0, 1.0, 3.0, 4.0, 3.0]\n",
            "835 [5.0, 2.0, 5.0, 4.0, 1.0, 1.0, 5.0, 4.0, 1.0, 5.0]\n",
            "663 [2.0, 2.0, 4.0, 1.0, 5.0, 2.0, 1.0, 5.0, 3.0, 5.0]\n",
            "517 [2.0, 2.0, 1.0, 3.0, 2.0, 3.0, 4.0, 3.0, 2.0, 2.0]\n",
            "514 [1.0, 3.0, 4.0, 4.0, 1.0, 3.0, 5.0, 2.0, 2.0, 5.0]\n",
            "420 [5.0, 4.0, 1.0, 4.0, 3.0, 3.0, 2.0, 5.0, 2.0, 5.0]\n",
            "725 [1.0, 1.0, 2.0, 2.0, 2.0, 4.0, 1.0, 2.0, 3.0, 3.0]\n",
            "99 [5.0, 5.0, 1.0, 4.0, 2.0, 3.0, 5.0, 5.0, 1.0, 2.0]\n",
            "257 [1.0, 3.0, 1.0, 2.0, 5.0, 5.0, 3.0, 4.0, 3.0, 1.0]\n",
            "624 [5.0, 2.0, 4.0, 1.0, 4.0, 2.0, 4.0, 4.0, 4.0, 3.0]\n",
            "269 [1.0, 4.0, 5.0, 4.0, 2.0, 3.0, 4.0, 2.0, 5.0, 1.0]\n",
            "162 [1.0, 3.0, 1.0, 2.0, 4.0, 3.0, 5.0, 5.0, 1.0, 1.0]\n",
            "746 [4.0, 4.0, 4.0, 3.0, 4.0, 3.0, 1.0, 2.0, 3.0, 1.0]\n",
            "532 [2.0, 1.0, 5.0, 1.0, 5.0, 1.0, 2.0, 1.0, 3.0, 3.0]\n",
            "646 [1.0, 4.0, 3.0, 3.0, 5.0, 4.0, 4.0, 5.0, 5.0, 3.0]\n",
            "516 [2.0, 4.0, 1.0, 2.0, 1.0, 5.0, 5.0, 3.0, 4.0, 5.0]\n",
            "83 [1.0, 1.0, 4.0, 3.0, 1.0, 2.0, 1.0, 4.0, 4.0, 1.0]\n",
            "262 [2.0, 5.0, 2.0, 4.0, 3.0, 5.0, 4.0, 1.0, 5.0, 2.0]\n",
            "117 [5.0, 3.0, 5.0, 1.0, 1.0, 3.0, 5.0, 5.0, 4.0, 1.0]\n",
            "554 [1.0, 4.0, 5.0, 3.0, 5.0, 4.0, 3.0, 5.0, 4.0, 2.0]\n",
            "941 [4.0, 3.0, 4.0, 4.0, 2.0, 5.0, 1.0, 2.0, 1.0, 1.0]\n",
            "799 [4.0, 4.0, 3.0, 2.0, 2.0, 3.0, 1.0, 5.0, 2.0, 5.0]\n",
            "412 [4.0, 5.0, 1.0, 2.0, 1.0, 2.0, 1.0, 3.0, 3.0, 4.0]\n",
            "636 [5.0, 2.0, 5.0, 3.0, 1.0, 3.0, 2.0, 5.0, 4.0, 1.0]\n",
            "78 [2.0, 4.0, 3.0, 2.0, 1.0, 4.0, 4.0, 2.0, 2.0, 3.0]\n",
            "500 [4.0, 4.0, 5.0, 4.0, 5.0, 5.0, 5.0, 4.0, 2.0, 3.0]\n",
            "199 [5.0, 3.0, 5.0, 2.0, 5.0, 3.0, 1.0, 5.0, 2.0, 2.0]\n",
            "792 [5.0, 1.0, 1.0, 2.0, 1.0, 3.0, 1.0, 4.0, 3.0, 1.0]\n",
            "122 [2.0, 3.0, 5.0, 4.0, 2.0, 3.0, 3.0, 3.0, 4.0, 2.0]\n",
            "893 [4.0, 1.0, 2.0, 2.0, 4.0, 4.0, 5.0, 5.0, 3.0, 1.0]\n",
            "979 [2.0, 1.0, 4.0, 4.0, 1.0, 5.0, 5.0, 3.0, 1.0, 1.0]\n",
            "781 [1.0, 2.0, 1.0, 3.0, 3.0, 4.0, 5.0, 3.0, 3.0, 5.0]\n",
            "316 [5.0, 2.0, 1.0, 5.0, 3.0, 2.0, 3.0, 5.0, 4.0, 4.0]\n",
            "643 [5.0, 5.0, 4.0, 2.0, 4.0, 4.0, 5.0, 3.0, 4.0, 2.0]\n",
            "196 [4.0, 1.0, 1.0, 2.0, 1.0, 5.0, 3.0, 2.0, 2.0, 4.0]\n",
            "773 [4.0, 1.0, 3.0, 4.0, 5.0, 1.0, 3.0, 5.0, 3.0, 1.0]\n",
            "7 [3.0, 1.0, 4.0, 4.0, 5.0, 2.0, 1.0, 3.0, 5.0, 1.0]\n",
            "686 [3.0, 1.0, 1.0, 2.0, 4.0, 1.0, 4.0, 5.0, 1.0, 1.0]\n",
            "456 [1.0, 2.0, 5.0, 2.0, 3.0, 1.0, 2.0, 4.0, 3.0, 1.0]\n",
            "589 [3.0, 3.0, 4.0, 1.0, 2.0, 1.0, 2.0, 5.0, 3.0, 4.0]\n",
            "597 [2.0, 5.0, 5.0, 2.0, 4.0, 2.0, 1.0, 3.0, 1.0, 2.0]\n",
            "507 [3.0, 1.0, 4.0, 3.0, 3.0, 3.0, 4.0, 2.0, 1.0, 1.0]\n",
            "824 [2.0, 1.0, 3.0, 2.0, 1.0, 1.0, 2.0, 5.0, 5.0, 5.0]\n",
            "895 [5.0, 4.0, 1.0, 4.0, 4.0, 1.0, 1.0, 4.0, 3.0, 3.0]\n",
            "736 [2.0, 5.0, 1.0, 1.0, 3.0, 1.0, 1.0, 1.0, 1.0, 1.0]\n",
            "661 [1.0, 1.0, 2.0, 3.0, 5.0, 5.0, 3.0, 5.0, 5.0, 4.0]\n",
            "242 [3.0, 1.0, 5.0, 5.0, 3.0, 4.0, 2.0, 2.0, 1.0, 4.0]\n",
            "832 [5.0, 3.0, 4.0, 1.0, 5.0, 2.0, 4.0, 4.0, 3.0, 4.0]\n",
            "897 [4.0, 2.0, 5.0, 3.0, 2.0, 3.0, 4.0, 5.0, 5.0, 1.0]\n",
            "145 [3.0, 4.0, 4.0, 1.0, 5.0, 2.0, 3.0, 3.0, 2.0, 3.0]\n",
            "428 [2.0, 1.0, 5.0, 2.0, 4.0, 3.0, 4.0, 1.0, 2.0, 1.0]\n",
            "983 [4.0, 2.0, 5.0, 4.0, 1.0, 5.0, 3.0, 1.0, 1.0, 3.0]\n",
            "641 [5.0, 4.0, 5.0, 5.0, 5.0, 5.0, 2.0, 5.0, 4.0, 1.0]\n",
            "656 [3.0, 1.0, 3.0, 4.0, 3.0, 2.0, 4.0, 5.0, 1.0, 3.0]\n",
            "231 [5.0, 5.0, 3.0, 5.0, 3.0, 1.0, 4.0, 4.0, 2.0, 1.0]\n",
            "622 [3.0, 4.0, 4.0, 3.0, 2.0, 2.0, 4.0, 3.0, 4.0, 5.0]\n",
            "550 [1.0, 5.0, 2.0, 1.0, 3.0, 2.0, 5.0, 3.0, 5.0, 5.0]\n",
            "75 [1.0, 1.0, 2.0, 1.0, 3.0, 3.0, 4.0, 3.0, 2.0, 5.0]\n",
            "385 [3.0, 2.0, 2.0, 3.0, 3.0, 3.0, 5.0, 1.0, 5.0, 2.0]\n",
            "855 [3.0, 5.0, 4.0, 5.0, 1.0, 2.0, 4.0, 1.0, 5.0, 2.0]\n",
            "672 [5.0, 4.0, 3.0, 4.0, 4.0, 5.0, 2.0, 4.0, 2.0, 3.0]\n",
            "294 [3.0, 2.0, 3.0, 5.0, 5.0, 5.0, 4.0, 1.0, 1.0, 4.0]\n",
            "251 [4.0, 4.0, 1.0, 3.0, 2.0, 5.0, 3.0, 2.0, 2.0, 2.0]\n",
            "52 [5.0, 3.0, 2.0, 1.0, 3.0, 1.0, 5.0, 4.0, 1.0, 2.0]\n",
            "508 [3.0, 5.0, 3.0, 2.0, 4.0, 5.0, 5.0, 5.0, 1.0, 3.0]\n",
            "648 [1.0, 5.0, 4.0, 1.0, 5.0, 4.0, 4.0, 3.0, 4.0, 5.0]\n",
            "560 [5.0, 2.0, 3.0, 2.0, 2.0, 5.0, 1.0, 1.0, 2.0, 5.0]\n",
            "621 [2.0, 4.0, 4.0, 3.0, 1.0, 3.0, 1.0, 3.0, 5.0, 1.0]\n",
            "166 [4.0, 4.0, 4.0, 1.0, 5.0, 5.0, 4.0, 2.0, 1.0, 4.0]\n",
            "155 [3.0, 1.0, 3.0, 3.0, 1.0, 1.0, 4.0, 3.0, 2.0, 4.0]\n",
            "741 [3.0, 2.0, 4.0, 1.0, 1.0, 5.0, 1.0, 2.0, 5.0, 4.0]\n",
            "839 [2.0, 3.0, 2.0, 1.0, 3.0, 2.0, 2.0, 1.0, 2.0, 2.0]\n",
            "267 [4.0, 5.0, 3.0, 1.0, 1.0, 1.0, 1.0, 4.0, 2.0, 2.0]\n",
            "370 [1.0, 1.0, 4.0, 5.0, 2.0, 4.0, 1.0, 3.0, 4.0, 1.0]\n",
            "868 [5.0, 1.0, 3.0, 1.0, 1.0, 1.0, 5.0, 1.0, 5.0, 1.0]\n",
            "910 [5.0, 4.0, 3.0, 2.0, 4.0, 1.0, 1.0, 3.0, 3.0, 1.0]\n",
            "172 [3.0, 3.0, 4.0, 2.0, 4.0, 2.0, 3.0, 5.0, 3.0, 4.0]\n",
            "762 [1.0, 5.0, 2.0, 4.0, 1.0, 5.0, 3.0, 4.0, 5.0, 4.0]\n",
            "712 [4.0, 5.0, 1.0, 3.0, 3.0, 1.0, 5.0, 4.0, 4.0, 5.0]\n",
            "46 [1.0, 3.0, 3.0, 3.0, 3.0, 5.0, 4.0, 4.0, 5.0, 3.0]\n",
            "16 [3.0, 1.0, 5.0, 3.0, 4.0, 4.0, 1.0, 1.0, 3.0, 3.0]\n",
            "747 [2.0, 3.0, 3.0, 3.0, 1.0, 2.0, 5.0, 3.0, 2.0, 1.0]\n",
            "797 [3.0, 2.0, 3.0, 2.0, 5.0, 3.0, 5.0, 5.0, 4.0, 2.0]\n",
            "263 [2.0, 5.0, 2.0, 3.0, 5.0, 2.0, 3.0, 3.0, 2.0, 4.0]\n",
            "360 [4.0, 2.0, 5.0, 4.0, 5.0, 2.0, 5.0, 2.0, 2.0, 3.0]\n",
            "924 [4.0, 4.0, 3.0, 2.0, 2.0, 1.0, 3.0, 2.0, 1.0, 5.0]\n",
            "949 [4.0, 4.0, 3.0, 5.0, 4.0, 3.0, 3.0, 5.0, 2.0, 3.0]\n",
            "968 [5.0, 2.0, 5.0, 1.0, 5.0, 3.0, 3.0, 1.0, 1.0, 2.0]\n",
            "811 [5.0, 1.0, 3.0, 5.0, 5.0, 5.0, 5.0, 1.0, 2.0, 5.0]\n",
            "27 [3.0, 2.0, 5.0, 2.0, 2.0, 1.0, 2.0, 2.0, 3.0, 5.0]\n",
            "119 [5.0, 1.0, 4.0, 1.0, 5.0, 5.0, 4.0, 2.0, 5.0, 4.0]\n",
            "66 [1.0, 2.0, 3.0, 4.0, 3.0, 2.0, 2.0, 1.0, 2.0, 1.0]\n",
            "136 [5.0, 3.0, 2.0, 5.0, 2.0, 5.0, 2.0, 2.0, 1.0, 1.0]\n",
            "163 [1.0, 1.0, 4.0, 1.0, 3.0, 2.0, 4.0, 5.0, 3.0, 1.0]\n",
            "540 [5.0, 4.0, 2.0, 2.0, 3.0, 1.0, 3.0, 1.0, 5.0, 2.0]\n",
            "459 [1.0, 3.0, 5.0, 1.0, 2.0, 3.0, 2.0, 4.0, 1.0, 4.0]\n",
            "920 [2.0, 5.0, 4.0, 3.0, 5.0, 2.0, 2.0, 5.0, 2.0, 4.0]\n",
            "185 [1.0, 4.0, 3.0, 1.0, 1.0, 2.0, 1.0, 4.0, 3.0, 5.0]\n",
            "707 [2.0, 4.0, 5.0, 2.0, 4.0, 5.0, 1.0, 2.0, 3.0, 4.0]\n",
            "217 [3.0, 3.0, 3.0, 3.0, 2.0, 5.0, 1.0, 5.0, 2.0, 1.0]\n",
            "411 [4.0, 2.0, 4.0, 3.0, 1.0, 3.0, 5.0, 4.0, 3.0, 2.0]\n",
            "146 [3.0, 4.0, 3.0, 5.0, 2.0, 4.0, 4.0, 4.0, 5.0, 5.0]\n",
            "376 [3.0, 5.0, 1.0, 5.0, 1.0, 5.0, 2.0, 1.0, 4.0, 4.0]\n",
            "208 [3.0, 1.0, 1.0, 1.0, 1.0, 2.0, 5.0, 4.0, 2.0, 3.0]\n",
            "465 [3.0, 4.0, 1.0, 1.0, 2.0, 2.0, 3.0, 2.0, 5.0, 1.0]\n",
            "653 [3.0, 4.0, 2.0, 3.0, 1.0, 1.0, 1.0, 2.0, 3.0, 5.0]\n",
            "899 [5.0, 4.0, 5.0, 5.0, 1.0, 3.0, 1.0, 4.0, 4.0, 2.0]\n",
            "901 [3.0, 4.0, 2.0, 4.0, 5.0, 1.0, 4.0, 2.0, 3.0, 5.0]\n",
            "800 [1.0, 2.0, 1.0, 1.0, 1.0, 5.0, 3.0, 1.0, 4.0, 5.0]\n",
            "346 [1.0, 4.0, 5.0, 3.0, 1.0, 5.0, 3.0, 3.0, 5.0, 5.0]\n",
            "505 [1.0, 4.0, 1.0, 3.0, 2.0, 1.0, 5.0, 2.0, 5.0, 1.0]\n",
            "137 [3.0, 4.0, 3.0, 1.0, 4.0, 3.0, 4.0, 1.0, 2.0, 1.0]\n",
            "881 [3.0, 3.0, 2.0, 1.0, 5.0, 1.0, 2.0, 2.0, 5.0, 5.0]\n",
            "806 [5.0, 5.0, 3.0, 2.0, 1.0, 3.0, 5.0, 4.0, 4.0, 1.0]\n",
            "97 [1.0, 2.0, 5.0, 1.0, 5.0, 3.0, 4.0, 1.0, 5.0, 5.0]\n",
            "461 [4.0, 5.0, 5.0, 4.0, 2.0, 2.0, 5.0, 2.0, 1.0, 1.0]\n",
            "637 [1.0, 1.0, 3.0, 5.0, 5.0, 4.0, 5.0, 3.0, 4.0, 4.0]\n",
            "950 [1.0, 3.0, 2.0, 4.0, 3.0, 1.0, 4.0, 2.0, 5.0, 4.0]\n",
            "885 [4.0, 1.0, 1.0, 2.0, 1.0, 3.0, 2.0, 3.0, 4.0, 2.0]\n",
            "972 [3.0, 4.0, 1.0, 3.0, 4.0, 5.0, 1.0, 1.0, 5.0, 4.0]\n",
            "63 [5.0, 1.0, 4.0, 1.0, 1.0, 2.0, 5.0, 2.0, 4.0, 1.0]\n",
            "310 [4.0, 1.0, 1.0, 2.0, 5.0, 5.0, 5.0, 5.0, 2.0, 2.0]\n",
            "307 [2.0, 2.0, 1.0, 5.0, 2.0, 4.0, 3.0, 2.0, 3.0, 4.0]\n",
            "400 [5.0, 4.0, 4.0, 3.0, 3.0, 4.0, 1.0, 3.0, 4.0, 4.0]\n",
            "917 [4.0, 2.0, 5.0, 1.0, 4.0, 5.0, 2.0, 5.0, 4.0, 2.0]\n",
            "843 [3.0, 3.0, 1.0, 4.0, 3.0, 5.0, 2.0, 5.0, 2.0, 1.0]\n",
            "796 [1.0, 2.0, 4.0, 4.0, 3.0, 2.0, 4.0, 4.0, 4.0, 3.0]\n",
            "365 [2.0, 5.0, 2.0, 4.0, 1.0, 2.0, 4.0, 3.0, 1.0, 4.0]\n",
            "405 [2.0, 3.0, 3.0, 1.0, 2.0, 4.0, 5.0, 3.0, 5.0, 4.0]\n",
            "606 [2.0, 1.0, 2.0, 2.0, 2.0, 3.0, 1.0, 2.0, 3.0, 5.0]\n",
            "68 [2.0, 1.0, 1.0, 3.0, 4.0, 1.0, 4.0, 4.0, 5.0, 3.0]\n",
            "266 [2.0, 1.0, 2.0, 1.0, 3.0, 4.0, 2.0, 1.0, 2.0, 3.0]\n",
            "971 [1.0, 4.0, 1.0, 1.0, 3.0, 3.0, 1.0, 5.0, 1.0, 5.0]\n",
            "100 [1.0, 1.0, 2.0, 4.0, 2.0, 2.0, 5.0, 5.0, 2.0, 3.0]\n",
            "954 [2.0, 2.0, 3.0, 5.0, 5.0, 2.0, 2.0, 1.0, 4.0, 4.0]\n",
            "610 [3.0, 3.0, 5.0, 5.0, 1.0, 4.0, 1.0, 1.0, 4.0, 4.0]\n",
            "493 [1.0, 1.0, 5.0, 4.0, 5.0, 5.0, 1.0, 1.0, 2.0, 5.0]\n",
            "798 [4.0, 3.0, 5.0, 3.0, 5.0, 1.0, 4.0, 1.0, 2.0, 5.0]\n",
            "952 [2.0, 1.0, 1.0, 4.0, 4.0, 1.0, 5.0, 1.0, 1.0, 3.0]\n",
            "750 [1.0, 1.0, 3.0, 1.0, 5.0, 5.0, 3.0, 1.0, 5.0, 3.0]\n",
            "157 [4.0, 4.0, 2.0, 1.0, 5.0, 4.0, 5.0, 5.0, 1.0, 5.0]\n",
            "869 [5.0, 1.0, 1.0, 1.0, 3.0, 2.0, 5.0, 2.0, 4.0, 3.0]\n",
            "546 [4.0, 3.0, 1.0, 4.0, 4.0, 1.0, 5.0, 4.0, 1.0, 1.0]\n",
            "873 [4.0, 5.0, 4.0, 1.0, 4.0, 5.0, 2.0, 1.0, 4.0, 1.0]\n",
            "62 [5.0, 3.0, 3.0, 1.0, 3.0, 4.0, 3.0, 1.0, 2.0, 5.0]\n",
            "49 [3.0, 1.0, 5.0, 5.0, 5.0, 2.0, 5.0, 2.0, 2.0, 5.0]\n",
            "570 [5.0, 5.0, 1.0, 1.0, 3.0, 5.0, 3.0, 3.0, 1.0, 1.0]\n",
            "253 [2.0, 2.0, 1.0, 4.0, 5.0, 5.0, 3.0, 5.0, 3.0, 5.0]\n",
            "722 [5.0, 1.0, 1.0, 1.0, 1.0, 1.0, 5.0, 1.0, 5.0, 5.0]\n",
            "933 [5.0, 2.0, 2.0, 4.0, 2.0, 4.0, 5.0, 2.0, 5.0, 2.0]\n",
            "255 [1.0, 1.0, 4.0, 5.0, 3.0, 1.0, 2.0, 1.0, 2.0, 1.0]\n",
            "999 [4.0, 5.0, 2.0, 1.0, 2.0, 3.0, 1.0, 5.0, 1.0, 4.0]\n",
            "674 [2.0, 2.0, 4.0, 5.0, 4.0, 4.0, 1.0, 1.0, 4.0, 1.0]\n",
            "574 [1.0, 5.0, 5.0, 2.0, 5.0, 1.0, 4.0, 2.0, 2.0, 2.0]\n",
            "504 [4.0, 4.0, 1.0, 5.0, 1.0, 1.0, 1.0, 2.0, 3.0, 4.0]\n",
            "321 [3.0, 2.0, 1.0, 3.0, 3.0, 4.0, 3.0, 4.0, 4.0, 4.0]\n",
            "214 [1.0, 3.0, 3.0, 3.0, 5.0, 4.0, 1.0, 5.0, 4.0, 1.0]\n",
            "424 [4.0, 2.0, 5.0, 2.0, 2.0, 2.0, 5.0, 3.0, 5.0, 3.0]\n",
            "728 [5.0, 2.0, 3.0, 3.0, 2.0, 5.0, 3.0, 3.0, 4.0, 3.0]\n",
            "569 [5.0, 3.0, 3.0, 1.0, 4.0, 1.0, 2.0, 4.0, 4.0, 2.0]\n",
            "802 [4.0, 2.0, 2.0, 4.0, 3.0, 3.0, 4.0, 4.0, 4.0, 5.0]\n",
            "72 [3.0, 5.0, 3.0, 5.0, 1.0, 5.0, 3.0, 3.0, 2.0, 2.0]\n",
            "460 [3.0, 5.0, 4.0, 5.0, 2.0, 5.0, 4.0, 1.0, 5.0, 4.0]\n",
            "787 [4.0, 5.0, 4.0, 2.0, 4.0, 5.0, 1.0, 4.0, 2.0, 4.0]\n",
            "439 [2.0, 2.0, 5.0, 2.0, 2.0, 1.0, 3.0, 3.0, 2.0, 5.0]\n",
            "564 [3.0, 2.0, 1.0, 3.0, 5.0, 4.0, 4.0, 4.0, 4.0, 5.0]\n",
            "446 [1.0, 1.0, 2.0, 5.0, 2.0, 2.0, 2.0, 1.0, 2.0, 5.0]\n",
            "24 [3.0, 1.0, 4.0, 4.0, 4.0, 4.0, 4.0, 4.0, 4.0, 5.0]\n",
            "433 [2.0, 1.0, 5.0, 2.0, 4.0, 1.0, 4.0, 3.0, 3.0, 1.0]\n",
            "186 [1.0, 2.0, 3.0, 2.0, 1.0, 4.0, 2.0, 5.0, 1.0, 5.0]\n",
            "990 [5.0, 5.0, 1.0, 5.0, 2.0, 3.0, 4.0, 1.0, 5.0, 5.0]\n",
            "426 [4.0, 5.0, 5.0, 1.0, 1.0, 5.0, 1.0, 3.0, 1.0, 3.0]\n",
            "977 [3.0, 5.0, 3.0, 3.0, 4.0, 5.0, 1.0, 2.0, 3.0, 5.0]\n",
            "164 [3.0, 5.0, 2.0, 2.0, 1.0, 4.0, 4.0, 1.0, 4.0, 3.0]\n",
            "535 [1.0, 4.0, 5.0, 2.0, 5.0, 5.0, 4.0, 5.0, 4.0, 3.0]\n",
            "876 [3.0, 4.0, 2.0, 4.0, 2.0, 5.0, 5.0, 4.0, 4.0, 1.0]\n",
            "794 [4.0, 5.0, 5.0, 4.0, 3.0, 5.0, 4.0, 5.0, 4.0, 2.0]\n",
            "368 [2.0, 5.0, 1.0, 2.0, 4.0, 5.0, 1.0, 4.0, 1.0, 4.0]\n",
            "476 [5.0, 2.0, 4.0, 3.0, 4.0, 2.0, 1.0, 1.0, 1.0, 1.0]\n",
            "21 [5.0, 3.0, 1.0, 2.0, 3.0, 5.0, 3.0, 2.0, 4.0, 1.0]\n",
            "849 [1.0, 5.0, 5.0, 1.0, 4.0, 2.0, 5.0, 4.0, 4.0, 1.0]\n",
            "6 [2.0, 1.0, 4.0, 1.0, 3.0, 5.0, 2.0, 4.0, 5.0, 2.0]\n",
            "84 [4.0, 3.0, 4.0, 4.0, 5.0, 5.0, 5.0, 2.0, 3.0, 5.0]\n",
            "74 [4.0, 1.0, 5.0, 3.0, 1.0, 4.0, 1.0, 4.0, 3.0, 2.0]\n",
            "358 [5.0, 1.0, 3.0, 2.0, 5.0, 5.0, 3.0, 4.0, 1.0, 1.0]\n",
            "587 [5.0, 3.0, 4.0, 5.0, 1.0, 5.0, 1.0, 1.0, 2.0, 4.0]\n",
            "105 [2.0, 3.0, 4.0, 5.0, 2.0, 3.0, 3.0, 2.0, 5.0, 5.0]\n",
            "11 [2.0, 2.0, 4.0, 3.0, 5.0, 4.0, 2.0, 2.0, 3.0, 5.0]\n",
            "150 [2.0, 2.0, 3.0, 5.0, 1.0, 2.0, 3.0, 2.0, 3.0, 3.0]\n",
            "427 [5.0, 1.0, 1.0, 1.0, 4.0, 5.0, 4.0, 3.0, 3.0, 2.0]\n",
            "709 [2.0, 2.0, 5.0, 1.0, 2.0, 5.0, 2.0, 5.0, 2.0, 1.0]\n",
            "357 [4.0, 2.0, 2.0, 3.0, 5.0, 3.0, 1.0, 2.0, 5.0, 4.0]\n",
            "274 [3.0, 2.0, 3.0, 5.0, 3.0, 3.0, 1.0, 4.0, 3.0, 3.0]\n",
            "959 [4.0, 5.0, 1.0, 2.0, 5.0, 2.0, 3.0, 1.0, 5.0, 3.0]\n",
            "406 [2.0, 2.0, 1.0, 4.0, 5.0, 2.0, 3.0, 5.0, 1.0, 2.0]\n",
            "764 [5.0, 3.0, 4.0, 3.0, 4.0, 5.0, 1.0, 4.0, 4.0, 5.0]\n",
            "912 [4.0, 4.0, 3.0, 1.0, 1.0, 4.0, 5.0, 3.0, 5.0, 2.0]\n",
            "200 [3.0, 4.0, 1.0, 3.0, 3.0, 5.0, 2.0, 3.0, 1.0, 4.0]\n",
            "563 [5.0, 5.0, 5.0, 1.0, 5.0, 1.0, 2.0, 1.0, 3.0, 2.0]\n",
            "244 [4.0, 5.0, 2.0, 1.0, 1.0, 1.0, 5.0, 5.0, 5.0, 1.0]\n",
            "879 [5.0, 5.0, 4.0, 5.0, 2.0, 1.0, 2.0, 4.0, 4.0, 1.0]\n",
            "565 [3.0, 3.0, 4.0, 4.0, 5.0, 2.0, 4.0, 4.0, 3.0, 2.0]\n",
            "165 [5.0, 5.0, 4.0, 4.0, 3.0, 2.0, 5.0, 1.0, 5.0, 3.0]\n",
            "5 [3.0, 3.0, 3.0, 3.0, 3.0, 2.0, 5.0, 3.0, 3.0, 3.0]\n",
            "851 [5.0, 4.0, 3.0, 1.0, 3.0, 4.0, 5.0, 4.0, 3.0, 5.0]\n",
            "745 [1.0, 1.0, 5.0, 1.0, 1.0, 3.0, 4.0, 3.0, 4.0, 3.0]\n",
            "431 [4.0, 2.0, 5.0, 4.0, 2.0, 4.0, 3.0, 1.0, 4.0, 3.0]\n",
            "30 [4.0, 1.0, 3.0, 1.0, 4.0, 3.0, 3.0, 2.0, 3.0, 3.0]\n",
            "612 [2.0, 4.0, 1.0, 2.0, 4.0, 3.0, 1.0, 5.0, 3.0, 1.0]\n",
            "828 [5.0, 3.0, 4.0, 2.0, 3.0, 2.0, 3.0, 2.0, 1.0, 4.0]\n",
            "937 [2.0, 3.0, 3.0, 4.0, 3.0, 2.0, 2.0, 3.0, 5.0, 4.0]\n",
            "443 [5.0, 1.0, 3.0, 2.0, 2.0, 1.0, 4.0, 2.0, 1.0, 4.0]\n",
            "861 [3.0, 1.0, 5.0, 1.0, 2.0, 4.0, 1.0, 3.0, 1.0, 5.0]\n",
            "32 [5.0, 4.0, 2.0, 3.0, 3.0, 4.0, 5.0, 1.0, 4.0, 5.0]\n",
            "878 [2.0, 3.0, 1.0, 2.0, 3.0, 2.0, 5.0, 4.0, 4.0, 3.0]\n",
            "528 [5.0, 3.0, 1.0, 5.0, 5.0, 3.0, 4.0, 3.0, 1.0, 5.0]\n",
            "894 [1.0, 5.0, 2.0, 3.0, 2.0, 2.0, 3.0, 3.0, 4.0, 4.0]\n",
            "326 [2.0, 5.0, 3.0, 3.0, 4.0, 3.0, 5.0, 2.0, 1.0, 1.0]\n",
            "215 [1.0, 2.0, 4.0, 2.0, 1.0, 2.0, 2.0, 5.0, 5.0, 3.0]\n",
            "947 [4.0, 5.0, 2.0, 2.0, 3.0, 5.0, 2.0, 5.0, 1.0, 3.0]\n",
            "98 [4.0, 3.0, 2.0, 4.0, 5.0, 3.0, 1.0, 5.0, 3.0, 1.0]\n",
            "123 [5.0, 2.0, 3.0, 2.0, 3.0, 2.0, 2.0, 3.0, 3.0, 5.0]\n",
            "958 [5.0, 5.0, 2.0, 2.0, 4.0, 4.0, 1.0, 4.0, 4.0, 4.0]\n",
            "453 [1.0, 1.0, 5.0, 4.0, 3.0, 3.0, 5.0, 1.0, 3.0, 5.0]\n",
            "615 [2.0, 2.0, 5.0, 2.0, 4.0, 4.0, 3.0, 1.0, 5.0, 1.0]\n",
            "226 [1.0, 3.0, 5.0, 3.0, 2.0, 2.0, 1.0, 1.0, 2.0, 1.0]\n",
            "466 [5.0, 4.0, 3.0, 5.0, 1.0, 4.0, 1.0, 4.0, 3.0, 2.0]\n",
            "414 [1.0, 4.0, 2.0, 1.0, 3.0, 3.0, 3.0, 1.0, 5.0, 2.0]\n",
            "295 [5.0, 4.0, 2.0, 4.0, 3.0, 3.0, 1.0, 2.0, 3.0, 5.0]\n",
            "124 [3.0, 5.0, 4.0, 4.0, 1.0, 4.0, 3.0, 5.0, 1.0, 5.0]\n",
            "440 [4.0, 2.0, 5.0, 4.0, 3.0, 4.0, 3.0, 5.0, 5.0, 3.0]\n",
            "721 [3.0, 1.0, 4.0, 3.0, 5.0, 2.0, 1.0, 5.0, 1.0, 4.0]\n",
            "108 [4.0, 2.0, 3.0, 3.0, 1.0, 5.0, 4.0, 3.0, 4.0, 4.0]\n",
            "64 [5.0, 3.0, 5.0, 2.0, 5.0, 1.0, 1.0, 4.0, 5.0, 1.0]\n",
            "786 [5.0, 2.0, 1.0, 3.0, 5.0, 3.0, 4.0, 2.0, 5.0, 3.0]\n",
            "756 [5.0, 2.0, 3.0, 1.0, 2.0, 2.0, 4.0, 3.0, 2.0, 2.0]\n",
            "940 [5.0, 2.0, 5.0, 4.0, 5.0, 2.0, 5.0, 5.0, 5.0, 5.0]\n",
            "178 [3.0, 4.0, 4.0, 2.0, 3.0, 1.0, 4.0, 1.0, 2.0, 3.0]\n",
            "132 [4.0, 3.0, 5.0, 4.0, 1.0, 3.0, 5.0, 1.0, 4.0, 1.0]\n",
            "58 [4.0, 2.0, 4.0, 4.0, 1.0, 2.0, 4.0, 5.0, 2.0, 4.0]\n",
            "76 [2.0, 5.0, 1.0, 2.0, 4.0, 5.0, 1.0, 4.0, 2.0, 1.0]\n",
            "418 [3.0, 4.0, 1.0, 3.0, 1.0, 4.0, 1.0, 1.0, 5.0, 2.0]\n",
            "524 [4.0, 2.0, 4.0, 2.0, 3.0, 1.0, 2.0, 5.0, 3.0, 5.0]\n",
            "948 [4.0, 3.0, 3.0, 5.0, 2.0, 4.0, 3.0, 2.0, 4.0, 5.0]\n",
            "211 [4.0, 4.0, 1.0, 2.0, 4.0, 3.0, 4.0, 1.0, 4.0, 1.0]\n",
            "909 [2.0, 2.0, 4.0, 2.0, 5.0, 3.0, 1.0, 1.0, 3.0, 1.0]\n",
            "59 [1.0, 5.0, 1.0, 3.0, 4.0, 3.0, 3.0, 4.0, 3.0, 4.0]\n",
            "841 [3.0, 1.0, 5.0, 2.0, 4.0, 4.0, 2.0, 2.0, 5.0, 4.0]\n",
            "247 [5.0, 3.0, 5.0, 5.0, 4.0, 3.0, 1.0, 5.0, 2.0, 5.0]\n",
            "629 [3.0, 5.0, 1.0, 3.0, 4.0, 5.0, 5.0, 5.0, 1.0, 1.0]\n",
            "245 [4.0, 3.0, 3.0, 1.0, 5.0, 1.0, 4.0, 1.0, 5.0, 2.0]\n",
            "813 [4.0, 4.0, 5.0, 5.0, 3.0, 3.0, 1.0, 1.0, 2.0, 1.0]\n",
            "886 [4.0, 3.0, 1.0, 3.0, 4.0, 4.0, 2.0, 4.0, 5.0, 3.0]\n",
            "202 [4.0, 1.0, 5.0, 1.0, 5.0, 3.0, 4.0, 4.0, 2.0, 4.0]\n",
            "844 [1.0, 5.0, 5.0, 4.0, 5.0, 2.0, 4.0, 5.0, 1.0, 3.0]\n",
            "812 [1.0, 5.0, 3.0, 3.0, 1.0, 4.0, 4.0, 4.0, 4.0, 1.0]\n",
            "916 [4.0, 1.0, 4.0, 1.0, 1.0, 3.0, 5.0, 5.0, 1.0, 1.0]\n",
            "138 [1.0, 4.0, 4.0, 1.0, 4.0, 5.0, 2.0, 3.0, 5.0, 3.0]\n",
            "749 [2.0, 3.0, 3.0, 4.0, 4.0, 1.0, 1.0, 1.0, 5.0, 5.0]\n",
            "572 [5.0, 3.0, 3.0, 2.0, 5.0, 4.0, 2.0, 2.0, 1.0, 2.0]\n",
            "598 [2.0, 3.0, 2.0, 3.0, 1.0, 1.0, 4.0, 3.0, 5.0, 2.0]\n",
            "282 [5.0, 1.0, 2.0, 4.0, 2.0, 2.0, 5.0, 4.0, 3.0, 3.0]\n",
            "240 [4.0, 2.0, 4.0, 4.0, 3.0, 4.0, 2.0, 4.0, 5.0, 2.0]\n",
            "241 [5.0, 3.0, 5.0, 2.0, 4.0, 1.0, 5.0, 4.0, 4.0, 4.0]\n",
            "918 [1.0, 4.0, 1.0, 5.0, 2.0, 1.0, 5.0, 1.0, 4.0, 1.0]\n",
            "619 [2.0, 1.0, 5.0, 2.0, 1.0, 4.0, 4.0, 2.0, 3.0, 4.0]\n",
            "506 [1.0, 2.0, 2.0, 2.0, 4.0, 5.0, 2.0, 3.0, 5.0, 1.0]\n",
            "630 [3.0, 2.0, 3.0, 3.0, 5.0, 1.0, 4.0, 2.0, 5.0, 3.0]\n",
            "603 [2.0, 1.0, 5.0, 1.0, 4.0, 2.0, 5.0, 5.0, 5.0, 5.0]\n",
            "300 [3.0, 3.0, 2.0, 4.0, 3.0, 4.0, 3.0, 1.0, 4.0, 5.0]\n",
            "842 [4.0, 1.0, 5.0, 5.0, 3.0, 3.0, 4.0, 4.0, 3.0, 3.0]\n",
            "497 [3.0, 5.0, 5.0, 4.0, 2.0, 3.0, 5.0, 3.0, 1.0, 5.0]\n",
            "846 [2.0, 4.0, 4.0, 2.0, 2.0, 5.0, 3.0, 2.0, 5.0, 3.0]\n",
            "60 [4.0, 3.0, 4.0, 4.0, 5.0, 2.0, 5.0, 2.0, 1.0, 4.0]\n",
            "41 [4.0, 5.0, 1.0, 2.0, 5.0, 1.0, 2.0, 4.0, 2.0, 5.0]\n",
            "510 [4.0, 4.0, 5.0, 4.0, 5.0, 5.0, 1.0, 5.0, 2.0, 2.0]\n",
            "566 [5.0, 4.0, 4.0, 1.0, 2.0, 4.0, 3.0, 3.0, 2.0, 3.0]\n",
            "706 [4.0, 5.0, 2.0, 5.0, 1.0, 5.0, 1.0, 5.0, 3.0, 3.0]\n",
            "871 [5.0, 1.0, 3.0, 3.0, 1.0, 4.0, 5.0, 3.0, 3.0, 2.0]\n",
            "109 [5.0, 2.0, 1.0, 5.0, 4.0, 1.0, 3.0, 5.0, 4.0, 5.0]\n",
            "730 [2.0, 2.0, 5.0, 4.0, 2.0, 2.0, 5.0, 3.0, 4.0, 2.0]\n",
            "298 [2.0, 5.0, 5.0, 2.0, 3.0, 3.0, 3.0, 4.0, 4.0, 3.0]\n",
            "111 [1.0, 1.0, 1.0, 4.0, 3.0, 5.0, 4.0, 4.0, 1.0, 2.0]\n",
            "134 [2.0, 5.0, 4.0, 4.0, 4.0, 3.0, 5.0, 3.0, 4.0, 2.0]\n",
            "236 [4.0, 2.0, 5.0, 4.0, 2.0, 4.0, 1.0, 1.0, 3.0, 4.0]\n",
            "654 [1.0, 1.0, 1.0, 3.0, 1.0, 3.0, 5.0, 4.0, 4.0, 3.0]\n",
            "463 [5.0, 4.0, 1.0, 2.0, 1.0, 4.0, 3.0, 5.0, 2.0, 3.0]\n",
            "970 [5.0, 3.0, 1.0, 3.0, 5.0, 4.0, 4.0, 4.0, 4.0, 2.0]\n",
            "567 [4.0, 1.0, 3.0, 4.0, 2.0, 4.0, 3.0, 2.0, 2.0, 1.0]\n",
            "996 [3.0, 3.0, 5.0, 3.0, 3.0, 3.0, 4.0, 3.0, 4.0, 3.0]\n",
            "579 [2.0, 1.0, 5.0, 4.0, 1.0, 1.0, 2.0, 4.0, 3.0, 1.0]\n",
            "380 [1.0, 2.0, 4.0, 5.0, 4.0, 1.0, 3.0, 3.0, 4.0, 4.0]\n",
            "577 [4.0, 3.0, 2.0, 1.0, 2.0, 5.0, 2.0, 2.0, 5.0, 2.0]\n",
            "913 [2.0, 5.0, 1.0, 3.0, 1.0, 2.0, 2.0, 5.0, 1.0, 2.0]\n",
            "651 [3.0, 5.0, 3.0, 5.0, 1.0, 2.0, 3.0, 2.0, 5.0, 4.0]\n",
            "369 [4.0, 2.0, 2.0, 5.0, 4.0, 1.0, 1.0, 1.0, 2.0, 5.0]\n",
            "582 [4.0, 3.0, 1.0, 4.0, 3.0, 5.0, 5.0, 5.0, 1.0, 2.0]\n",
            "93 [1.0, 4.0, 2.0, 3.0, 5.0, 3.0, 1.0, 3.0, 3.0, 5.0]\n",
            "814 [5.0, 1.0, 1.0, 4.0, 2.0, 4.0, 2.0, 5.0, 5.0, 1.0]\n",
            "113 [5.0, 2.0, 4.0, 4.0, 2.0, 3.0, 2.0, 2.0, 4.0, 5.0]\n",
            "18 [2.0, 1.0, 5.0, 4.0, 1.0, 2.0, 5.0, 3.0, 4.0, 1.0]\n",
            "838 [5.0, 1.0, 4.0, 5.0, 3.0, 2.0, 1.0, 4.0, 4.0, 1.0]\n",
            "349 [4.0, 2.0, 2.0, 4.0, 1.0, 5.0, 2.0, 5.0, 3.0, 2.0]\n",
            "906 [4.0, 3.0, 3.0, 1.0, 2.0, 3.0, 4.0, 1.0, 1.0, 2.0]\n",
            "783 [1.0, 3.0, 4.0, 5.0, 1.0, 3.0, 4.0, 3.0, 2.0, 2.0]\n",
            "264 [1.0, 2.0, 4.0, 3.0, 1.0, 2.0, 1.0, 1.0, 5.0, 1.0]\n",
            "12 [1.0, 1.0, 4.0, 2.0, 1.0, 4.0, 4.0, 4.0, 2.0, 1.0]\n",
            "556 [4.0, 5.0, 4.0, 3.0, 2.0, 5.0, 5.0, 3.0, 4.0, 3.0]\n",
            "209 [1.0, 1.0, 2.0, 1.0, 5.0, 1.0, 5.0, 1.0, 4.0, 3.0]\n",
            "484 [4.0, 2.0, 3.0, 5.0, 2.0, 5.0, 4.0, 5.0, 2.0, 1.0]\n",
            "31 [4.0, 1.0, 3.0, 4.0, 5.0, 4.0, 4.0, 5.0, 4.0, 1.0]\n",
            "252 [3.0, 5.0, 1.0, 5.0, 4.0, 4.0, 3.0, 3.0, 3.0, 1.0]\n",
            "403 [4.0, 2.0, 5.0, 5.0, 5.0, 3.0, 2.0, 5.0, 2.0, 3.0]\n",
            "617 [5.0, 3.0, 4.0, 5.0, 3.0, 3.0, 2.0, 1.0, 5.0, 5.0]\n",
            "573 [4.0, 2.0, 4.0, 3.0, 4.0, 3.0, 4.0, 1.0, 4.0, 5.0]\n",
            "962 [3.0, 2.0, 5.0, 2.0, 2.0, 1.0, 3.0, 1.0, 2.0, 3.0]\n",
            "594 [5.0, 2.0, 4.0, 1.0, 2.0, 1.0, 2.0, 5.0, 3.0, 2.0]\n",
            "785 [2.0, 5.0, 2.0, 3.0, 3.0, 1.0, 1.0, 5.0, 2.0, 4.0]\n",
            "351 [2.0, 5.0, 1.0, 5.0, 4.0, 3.0, 2.0, 2.0, 2.0, 2.0]\n",
            "791 [2.0, 4.0, 5.0, 2.0, 3.0, 3.0, 1.0, 5.0, 1.0, 2.0]\n",
            "552 [3.0, 2.0, 4.0, 1.0, 3.0, 1.0, 5.0, 5.0, 1.0, 4.0]\n",
            "727 [3.0, 2.0, 2.0, 4.0, 4.0, 5.0, 5.0, 2.0, 1.0, 4.0]\n",
            "57 [5.0, 3.0, 2.0, 5.0, 4.0, 4.0, 1.0, 3.0, 1.0, 2.0]\n",
            "795 [2.0, 1.0, 3.0, 5.0, 5.0, 5.0, 5.0, 3.0, 2.0, 1.0]\n",
            "847 [4.0, 3.0, 3.0, 5.0, 5.0, 1.0, 2.0, 4.0, 1.0, 4.0]\n",
            "79 [4.0, 5.0, 1.0, 1.0, 4.0, 5.0, 2.0, 1.0, 4.0, 4.0]\n",
            "827 [5.0, 4.0, 4.0, 2.0, 4.0, 3.0, 3.0, 3.0, 3.0, 3.0]\n",
            "171 [5.0, 4.0, 5.0, 4.0, 5.0, 5.0, 2.0, 5.0, 2.0, 5.0]\n",
            "892 [1.0, 1.0, 2.0, 2.0, 1.0, 1.0, 5.0, 5.0, 1.0, 2.0]\n",
            "354 [5.0, 4.0, 5.0, 2.0, 3.0, 2.0, 2.0, 3.0, 3.0, 2.0]\n",
            "980 [1.0, 5.0, 1.0, 4.0, 4.0, 3.0, 1.0, 3.0, 1.0, 1.0]\n",
            "90 [3.0, 3.0, 3.0, 5.0, 1.0, 1.0, 3.0, 2.0, 2.0, 4.0]\n",
            "268 [3.0, 3.0, 4.0, 3.0, 4.0, 1.0, 1.0, 3.0, 4.0, 2.0]\n",
            "480 [1.0, 1.0, 2.0, 5.0, 3.0, 4.0, 3.0, 2.0, 4.0, 4.0]\n",
            "919 [3.0, 4.0, 5.0, 5.0, 5.0, 4.0, 5.0, 4.0, 1.0, 4.0]\n",
            "784 [5.0, 1.0, 3.0, 1.0, 5.0, 2.0, 5.0, 5.0, 4.0, 1.0]\n",
            "647 [4.0, 1.0, 1.0, 4.0, 5.0, 2.0, 4.0, 4.0, 4.0, 2.0]\n",
            "92 [1.0, 1.0, 2.0, 5.0, 1.0, 1.0, 4.0, 3.0, 1.0, 3.0]\n",
            "639 [3.0, 4.0, 4.0, 1.0, 3.0, 5.0, 2.0, 1.0, 2.0, 5.0]\n",
            "285 [3.0, 1.0, 4.0, 4.0, 3.0, 2.0, 4.0, 1.0, 5.0, 3.0]\n",
            "789 [4.0, 5.0, 3.0, 5.0, 2.0, 1.0, 1.0, 4.0, 5.0, 1.0]\n",
            "774 [3.0, 4.0, 5.0, 1.0, 1.0, 3.0, 4.0, 4.0, 4.0, 5.0]\n",
            "807 [4.0, 4.0, 2.0, 3.0, 4.0, 5.0, 4.0, 2.0, 4.0, 4.0]\n",
            "276 [2.0, 4.0, 3.0, 4.0, 3.0, 2.0, 1.0, 5.0, 4.0, 3.0]\n",
            "925 [1.0, 1.0, 4.0, 1.0, 2.0, 5.0, 3.0, 2.0, 4.0, 4.0]\n",
            "823 [3.0, 5.0, 2.0, 2.0, 4.0, 5.0, 5.0, 2.0, 3.0, 4.0]\n",
            "395 [5.0, 3.0, 3.0, 1.0, 4.0, 2.0, 4.0, 4.0, 3.0, 4.0]\n",
            "55 [2.0, 5.0, 3.0, 4.0, 3.0, 5.0, 3.0, 4.0, 5.0, 5.0]\n",
            "988 [1.0, 4.0, 3.0, 5.0, 3.0, 5.0, 1.0, 5.0, 1.0, 1.0]\n",
            "992 [1.0, 2.0, 1.0, 1.0, 1.0, 1.0, 3.0, 1.0, 2.0, 5.0]\n",
            "738 [3.0, 5.0, 5.0, 5.0, 3.0, 1.0, 4.0, 4.0, 1.0, 3.0]\n",
            "997 [4.0, 2.0, 3.0, 1.0, 2.0, 5.0, 5.0, 4.0, 3.0, 3.0]\n",
            "845 [4.0, 5.0, 4.0, 1.0, 2.0, 5.0, 3.0, 3.0, 2.0, 1.0]\n",
            "372 [4.0, 3.0, 4.0, 2.0, 3.0, 4.0, 3.0, 3.0, 1.0, 3.0]\n",
            "417 [2.0, 5.0, 2.0, 1.0, 1.0, 4.0, 2.0, 1.0, 3.0, 2.0]\n",
            "277 [2.0, 4.0, 4.0, 2.0, 3.0, 5.0, 3.0, 2.0, 2.0, 4.0]\n",
            "187 [5.0, 3.0, 3.0, 5.0, 4.0, 4.0, 5.0, 2.0, 5.0, 5.0]\n",
            "147 [5.0, 1.0, 1.0, 2.0, 1.0, 2.0, 3.0, 5.0, 4.0, 1.0]\n",
            "356 [2.0, 2.0, 2.0, 3.0, 1.0, 5.0, 5.0, 4.0, 3.0, 3.0]\n",
            "857 [1.0, 2.0, 4.0, 5.0, 5.0, 5.0, 5.0, 4.0, 1.0, 4.0]\n",
            "312 [5.0, 4.0, 2.0, 1.0, 4.0, 4.0, 1.0, 1.0, 5.0, 5.0]\n",
            "642 [3.0, 3.0, 1.0, 2.0, 4.0, 1.0, 2.0, 2.0, 1.0, 5.0]\n",
            "541 [2.0, 2.0, 1.0, 5.0, 5.0, 1.0, 2.0, 2.0, 2.0, 1.0]\n",
            "518 [1.0, 5.0, 1.0, 5.0, 5.0, 1.0, 2.0, 4.0, 3.0, 2.0]\n",
            "720 [1.0, 4.0, 2.0, 5.0, 5.0, 5.0, 4.0, 4.0, 1.0, 4.0]\n",
            "515 [2.0, 1.0, 3.0, 1.0, 4.0, 5.0, 3.0, 4.0, 2.0, 5.0]\n",
            "65 [3.0, 1.0, 5.0, 4.0, 2.0, 2.0, 3.0, 4.0, 4.0, 3.0]\n",
            "216 [5.0, 4.0, 2.0, 3.0, 4.0, 3.0, 2.0, 4.0, 4.0, 2.0]\n",
            "319 [4.0, 5.0, 3.0, 1.0, 1.0, 2.0, 3.0, 1.0, 2.0, 5.0]\n",
            "665 [4.0, 2.0, 5.0, 1.0, 4.0, 3.0, 1.0, 3.0, 1.0, 3.0]\n",
            "946 [4.0, 4.0, 5.0, 1.0, 2.0, 3.0, 1.0, 4.0, 4.0, 5.0]\n",
            "788 [3.0, 2.0, 3.0, 3.0, 4.0, 4.0, 5.0, 1.0, 1.0, 2.0]\n",
            "419 [4.0, 3.0, 3.0, 3.0, 3.0, 3.0, 3.0, 1.0, 5.0, 1.0]\n",
            "699 [4.0, 1.0, 1.0, 4.0, 2.0, 5.0, 1.0, 3.0, 5.0, 4.0]\n",
            "911 [2.0, 4.0, 5.0, 5.0, 1.0, 1.0, 3.0, 3.0, 2.0, 5.0]\n",
            "719 [2.0, 4.0, 1.0, 1.0, 2.0, 1.0, 2.0, 4.0, 3.0, 3.0]\n",
            "698 [4.0, 3.0, 4.0, 5.0, 2.0, 5.0, 4.0, 2.0, 1.0, 3.0]\n",
            "469 [2.0, 5.0, 5.0, 1.0, 5.0, 2.0, 5.0, 4.0, 2.0, 5.0]\n",
            "222 [2.0, 2.0, 1.0, 1.0, 1.0, 4.0, 2.0, 4.0, 5.0, 4.0]\n",
            "288 [3.0, 4.0, 4.0, 3.0, 5.0, 1.0, 3.0, 1.0, 5.0, 3.0]\n",
            "503 [3.0, 3.0, 2.0, 1.0, 4.0, 5.0, 4.0, 1.0, 3.0, 2.0]\n",
            "44 [4.0, 1.0, 4.0, 3.0, 5.0, 4.0, 3.0, 5.0, 5.0, 2.0]\n",
            "927 [5.0, 4.0, 2.0, 1.0, 5.0, 3.0, 5.0, 3.0, 3.0, 4.0]\n",
            "512 [1.0, 5.0, 2.0, 2.0, 2.0, 4.0, 2.0, 4.0, 4.0, 5.0]\n",
            "538 [5.0, 2.0, 3.0, 3.0, 5.0, 2.0, 1.0, 1.0, 5.0, 3.0]\n",
            "734 [4.0, 3.0, 3.0, 4.0, 1.0, 4.0, 2.0, 4.0, 5.0, 3.0]\n",
            "367 [2.0, 4.0, 4.0, 5.0, 5.0, 3.0, 5.0, 4.0, 3.0, 4.0]\n",
            "592 [1.0, 4.0, 5.0, 5.0, 5.0, 2.0, 3.0, 4.0, 4.0, 2.0]\n",
            "575 [5.0, 3.0, 4.0, 2.0, 5.0, 3.0, 2.0, 3.0, 3.0, 1.0]\n",
            "660 [3.0, 3.0, 3.0, 4.0, 2.0, 4.0, 5.0, 5.0, 5.0, 3.0]\n",
            "775 [4.0, 2.0, 4.0, 5.0, 2.0, 4.0, 3.0, 5.0, 5.0, 3.0]\n",
            "501 [5.0, 1.0, 4.0, 5.0, 2.0, 5.0, 1.0, 3.0, 1.0, 3.0]\n",
            "903 [5.0, 2.0, 5.0, 5.0, 3.0, 5.0, 4.0, 5.0, 5.0, 5.0]\n",
            "870 [4.0, 2.0, 2.0, 1.0, 5.0, 2.0, 4.0, 1.0, 2.0, 2.0]\n",
            "106 [3.0, 2.0, 4.0, 3.0, 3.0, 3.0, 5.0, 3.0, 3.0, 4.0]\n",
            "224 [1.0, 2.0, 2.0, 3.0, 3.0, 2.0, 1.0, 5.0, 5.0, 5.0]\n",
            "364 [3.0, 2.0, 1.0, 1.0, 5.0, 2.0, 3.0, 5.0, 1.0, 3.0]\n",
            "88 [1.0, 1.0, 4.0, 3.0, 3.0, 3.0, 2.0, 1.0, 5.0, 5.0]\n",
            "69 [1.0, 1.0, 2.0, 4.0, 1.0, 5.0, 5.0, 3.0, 4.0, 3.0]\n",
            "498 [5.0, 2.0, 1.0, 4.0, 1.0, 3.0, 2.0, 3.0, 1.0, 4.0]\n",
            "470 [5.0, 4.0, 5.0, 4.0, 2.0, 5.0, 3.0, 4.0, 4.0, 3.0]\n",
            "131 [2.0, 5.0, 4.0, 3.0, 4.0, 1.0, 5.0, 1.0, 4.0, 4.0]\n",
            "452 [4.0, 5.0, 4.0, 3.0, 3.0, 5.0, 4.0, 2.0, 5.0, 2.0]\n",
            "218 [3.0, 1.0, 1.0, 2.0, 4.0, 2.0, 3.0, 5.0, 3.0, 3.0]\n",
            "889 [1.0, 4.0, 1.0, 4.0, 2.0, 4.0, 2.0, 2.0, 1.0, 1.0]\n",
            "704 [2.0, 2.0, 4.0, 4.0, 1.0, 2.0, 2.0, 3.0, 2.0, 4.0]\n",
            "148 [1.0, 2.0, 4.0, 5.0, 4.0, 3.0, 3.0, 3.0, 5.0, 1.0]\n",
            "717 [3.0, 1.0, 3.0, 3.0, 5.0, 1.0, 2.0, 1.0, 3.0, 2.0]\n",
            "770 [3.0, 3.0, 5.0, 3.0, 4.0, 3.0, 4.0, 3.0, 3.0, 2.0]\n",
            "292 [2.0, 5.0, 4.0, 4.0, 2.0, 2.0, 2.0, 1.0, 1.0, 2.0]\n",
            "810 [5.0, 2.0, 4.0, 1.0, 5.0, 5.0, 4.0, 2.0, 4.0, 2.0]\n",
            "866 [2.0, 4.0, 3.0, 2.0, 2.0, 2.0, 2.0, 3.0, 1.0, 4.0]\n",
            "328 [1.0, 4.0, 5.0, 4.0, 3.0, 2.0, 5.0, 1.0, 3.0, 5.0]\n",
            "140 [3.0, 2.0, 5.0, 1.0, 4.0, 4.0, 3.0, 1.0, 5.0, 2.0]\n",
            "618 [4.0, 2.0, 3.0, 5.0, 2.0, 1.0, 3.0, 3.0, 3.0, 4.0]\n",
            "421 [5.0, 2.0, 4.0, 1.0, 3.0, 1.0, 3.0, 1.0, 2.0, 4.0]\n",
            "711 [3.0, 3.0, 1.0, 1.0, 5.0, 2.0, 3.0, 3.0, 4.0, 5.0]\n",
            "805 [3.0, 1.0, 1.0, 3.0, 3.0, 3.0, 2.0, 3.0, 5.0, 3.0]\n",
            "767 [1.0, 3.0, 3.0, 3.0, 5.0, 3.0, 4.0, 3.0, 5.0, 1.0]\n",
            "338 [1.0, 5.0, 2.0, 2.0, 2.0, 5.0, 1.0, 1.0, 1.0, 5.0]\n",
            "45 [4.0, 3.0, 5.0, 1.0, 2.0, 4.0, 3.0, 2.0, 2.0, 2.0]\n",
            "880 [5.0, 1.0, 5.0, 2.0, 5.0, 3.0, 5.0, 3.0, 5.0, 3.0]\n",
            "963 [1.0, 1.0, 2.0, 5.0, 2.0, 3.0, 3.0, 3.0, 1.0, 1.0]\n",
            "533 [2.0, 3.0, 5.0, 4.0, 3.0, 3.0, 2.0, 4.0, 2.0, 2.0]\n",
            "413 [5.0, 5.0, 1.0, 5.0, 1.0, 4.0, 1.0, 3.0, 2.0, 4.0]\n",
            "776 [5.0, 4.0, 1.0, 3.0, 2.0, 1.0, 4.0, 5.0, 5.0, 5.0]\n",
            "766 [3.0, 2.0, 5.0, 2.0, 1.0, 5.0, 1.0, 3.0, 2.0, 3.0]\n",
            "430 [2.0, 1.0, 2.0, 4.0, 2.0, 2.0, 3.0, 2.0, 4.0, 4.0]\n",
            "509 [3.0, 3.0, 5.0, 2.0, 3.0, 3.0, 3.0, 1.0, 4.0, 3.0]\n",
            "502 [2.0, 2.0, 5.0, 4.0, 2.0, 2.0, 4.0, 2.0, 5.0, 2.0]\n",
            "675 [2.0, 5.0, 3.0, 2.0, 2.0, 2.0, 2.0, 4.0, 3.0, 2.0]\n",
            "923 [4.0, 1.0, 1.0, 1.0, 5.0, 2.0, 2.0, 4.0, 2.0, 1.0]\n",
            "462 [1.0, 1.0, 1.0, 5.0, 4.0, 2.0, 4.0, 3.0, 3.0, 1.0]\n",
            "297 [3.0, 3.0, 5.0, 5.0, 2.0, 5.0, 1.0, 5.0, 2.0, 5.0]\n",
            "50 [3.0, 2.0, 4.0, 2.0, 1.0, 5.0, 4.0, 4.0, 1.0, 1.0]\n",
            "584 [4.0, 4.0, 3.0, 4.0, 5.0, 3.0, 2.0, 5.0, 2.0, 1.0]\n",
            "551 [1.0, 2.0, 4.0, 2.0, 5.0, 3.0, 3.0, 2.0, 4.0, 5.0]\n",
            "960 [3.0, 2.0, 1.0, 3.0, 2.0, 3.0, 4.0, 4.0, 4.0, 1.0]\n",
            "296 [2.0, 5.0, 3.0, 1.0, 1.0, 3.0, 5.0, 3.0, 1.0, 3.0]\n",
            "156 [3.0, 2.0, 5.0, 4.0, 3.0, 2.0, 4.0, 4.0, 3.0, 3.0]\n",
            "859 [1.0, 5.0, 4.0, 2.0, 4.0, 2.0, 1.0, 4.0, 3.0, 5.0]\n",
            "213 [3.0, 1.0, 1.0, 5.0, 5.0, 3.0, 5.0, 2.0, 3.0, 2.0]\n",
            "39 [1.0, 1.0, 3.0, 3.0, 1.0, 4.0, 1.0, 2.0, 5.0, 2.0]\n",
            "753 [3.0, 2.0, 3.0, 3.0, 1.0, 4.0, 3.0, 4.0, 1.0, 3.0]\n",
            "188 [4.0, 4.0, 2.0, 4.0, 4.0, 1.0, 1.0, 5.0, 3.0, 2.0]\n",
            "220 [4.0, 5.0, 1.0, 3.0, 4.0, 4.0, 1.0, 4.0, 1.0, 5.0]\n",
            "822 [5.0, 3.0, 5.0, 2.0, 1.0, 5.0, 1.0, 2.0, 3.0, 2.0]\n",
            "114 [1.0, 5.0, 5.0, 4.0, 1.0, 4.0, 3.0, 5.0, 4.0, 3.0]\n",
            "205 [2.0, 1.0, 1.0, 1.0, 3.0, 4.0, 3.0, 3.0, 3.0, 4.0]\n",
            "435 [3.0, 4.0, 1.0, 2.0, 1.0, 4.0, 5.0, 4.0, 5.0, 2.0]\n",
            "491 [4.0, 2.0, 5.0, 5.0, 2.0, 4.0, 5.0, 1.0, 1.0, 3.0]\n",
            "303 [2.0, 2.0, 5.0, 1.0, 5.0, 1.0, 4.0, 5.0, 4.0, 4.0]\n",
            "867 [1.0, 2.0, 4.0, 4.0, 3.0, 4.0, 1.0, 4.0, 1.0, 4.0]\n",
            "311 [5.0, 5.0, 2.0, 3.0, 2.0, 3.0, 3.0, 2.0, 1.0, 2.0]\n",
            "141 [2.0, 1.0, 1.0, 3.0, 4.0, 3.0, 5.0, 5.0, 2.0, 2.0]\n",
            "96 [1.0, 3.0, 2.0, 3.0, 3.0, 1.0, 3.0, 4.0, 1.0, 3.0]\n",
            "334 [5.0, 4.0, 5.0, 3.0, 4.0, 5.0, 2.0, 2.0, 2.0, 3.0]\n",
            "804 [4.0, 2.0, 1.0, 3.0, 1.0, 4.0, 1.0, 2.0, 5.0, 1.0]\n",
            "600 [5.0, 3.0, 3.0, 4.0, 1.0, 4.0, 1.0, 4.0, 5.0, 4.0]\n",
            "961 [3.0, 1.0, 2.0, 4.0, 2.0, 3.0, 4.0, 2.0, 3.0, 3.0]\n",
            "882 [3.0, 1.0, 4.0, 2.0, 5.0, 5.0, 3.0, 3.0, 2.0, 5.0]\n",
            "891 [3.0, 2.0, 1.0, 3.0, 4.0, 3.0, 4.0, 5.0, 3.0, 5.0]\n",
            "479 [3.0, 3.0, 4.0, 4.0, 1.0, 1.0, 1.0, 2.0, 3.0, 4.0]\n",
            "902 [2.0, 5.0, 3.0, 4.0, 4.0, 4.0, 2.0, 5.0, 5.0, 3.0]\n",
            "464 [4.0, 2.0, 5.0, 3.0, 4.0, 3.0, 4.0, 5.0, 3.0, 5.0]\n",
            "40 [2.0, 3.0, 4.0, 2.0, 3.0, 4.0, 1.0, 1.0, 1.0, 3.0]\n",
            "331 [3.0, 3.0, 1.0, 3.0, 4.0, 2.0, 1.0, 1.0, 3.0, 3.0]\n",
            "94 [1.0, 1.0, 3.0, 3.0, 1.0, 4.0, 4.0, 4.0, 4.0, 3.0]\n",
            "513 [2.0, 1.0, 1.0, 4.0, 1.0, 4.0, 5.0, 1.0, 3.0, 2.0]\n",
            "616 [2.0, 4.0, 3.0, 3.0, 2.0, 4.0, 5.0, 5.0, 2.0, 5.0]\n",
            "448 [4.0, 2.0, 1.0, 3.0, 3.0, 4.0, 4.0, 1.0, 2.0, 5.0]\n",
            "232 [3.0, 3.0, 5.0, 4.0, 5.0, 1.0, 3.0, 5.0, 1.0, 1.0]\n",
            "705 [2.0, 1.0, 1.0, 4.0, 1.0, 2.0, 1.0, 5.0, 5.0, 4.0]\n",
            "754 [5.0, 2.0, 1.0, 2.0, 3.0, 4.0, 3.0, 3.0, 2.0, 5.0]\n",
            "482 [5.0, 5.0, 5.0, 3.0, 3.0, 3.0, 1.0, 1.0, 1.0, 2.0]\n",
            "102 [5.0, 5.0, 5.0, 4.0, 4.0, 1.0, 2.0, 1.0, 5.0, 1.0]\n",
            "324 [1.0, 4.0, 3.0, 3.0, 2.0, 3.0, 5.0, 5.0, 4.0, 1.0]\n",
            "735 [2.0, 2.0, 3.0, 1.0, 2.0, 2.0, 5.0, 5.0, 1.0, 3.0]\n",
            "680 [4.0, 3.0, 3.0, 4.0, 5.0, 4.0, 5.0, 2.0, 5.0, 3.0]\n",
            "206 [2.0, 2.0, 4.0, 4.0, 3.0, 3.0, 2.0, 2.0, 1.0, 3.0]\n",
            "548 [3.0, 1.0, 2.0, 4.0, 2.0, 3.0, 5.0, 5.0, 4.0, 2.0]\n",
            "679 [2.0, 4.0, 5.0, 1.0, 5.0, 3.0, 3.0, 5.0, 1.0, 1.0]\n",
            "20 [3.0, 3.0, 5.0, 2.0, 5.0, 1.0, 4.0, 3.0, 3.0, 2.0]\n",
            "330 [3.0, 2.0, 3.0, 4.0, 1.0, 4.0, 1.0, 1.0, 1.0, 1.0]\n",
            "840 [4.0, 5.0, 3.0, 5.0, 4.0, 2.0, 5.0, 4.0, 1.0, 5.0]\n",
            "10 [1.0, 1.0, 4.0, 1.0, 3.0, 4.0, 5.0, 1.0, 3.0, 2.0]\n",
            "129 [1.0, 2.0, 5.0, 1.0, 5.0, 1.0, 2.0, 1.0, 3.0, 2.0]\n",
            "965 [1.0, 3.0, 4.0, 5.0, 5.0, 3.0, 5.0, 3.0, 3.0, 2.0]\n",
            "190 [3.0, 2.0, 5.0, 3.0, 1.0, 2.0, 4.0, 4.0, 5.0, 5.0]\n",
            "471 [5.0, 5.0, 1.0, 1.0, 5.0, 2.0, 3.0, 5.0, 1.0, 3.0]\n",
            "631 [5.0, 1.0, 5.0, 2.0, 5.0, 2.0, 4.0, 2.0, 5.0, 3.0]\n",
            "488 [5.0, 1.0, 3.0, 2.0, 4.0, 1.0, 1.0, 4.0, 2.0, 2.0]\n",
            "691 [4.0, 1.0, 4.0, 4.0, 1.0, 4.0, 4.0, 2.0, 3.0, 3.0]\n",
            "529 [5.0, 1.0, 5.0, 4.0, 1.0, 1.0, 5.0, 5.0, 1.0, 4.0]\n",
            "432 [5.0, 4.0, 2.0, 1.0, 4.0, 4.0, 4.0, 1.0, 4.0, 2.0]\n",
            "305 [4.0, 1.0, 1.0, 4.0, 4.0, 1.0, 3.0, 5.0, 3.0, 1.0]\n",
            "260 [3.0, 1.0, 1.0, 2.0, 2.0, 1.0, 2.0, 2.0, 3.0, 4.0]\n",
            "149 [5.0, 3.0, 4.0, 3.0, 2.0, 5.0, 2.0, 3.0, 5.0, 3.0]\n",
            "625 [1.0, 5.0, 2.0, 2.0, 3.0, 1.0, 3.0, 2.0, 5.0, 3.0]\n",
            "944 [3.0, 4.0, 4.0, 2.0, 3.0, 5.0, 3.0, 4.0, 4.0, 4.0]\n",
            "436 [2.0, 3.0, 3.0, 2.0, 5.0, 4.0, 3.0, 5.0, 3.0, 5.0]\n",
            "739 [2.0, 5.0, 5.0, 1.0, 2.0, 3.0, 2.0, 1.0, 3.0, 4.0]\n",
            "477 [2.0, 1.0, 5.0, 4.0, 5.0, 5.0, 1.0, 2.0, 5.0, 2.0]\n",
            "15 [3.0, 1.0, 1.0, 2.0, 3.0, 2.0, 2.0, 3.0, 1.0, 1.0]\n",
            "973 [4.0, 5.0, 5.0, 2.0, 4.0, 5.0, 4.0, 1.0, 4.0, 5.0]\n",
            "658 [1.0, 5.0, 2.0, 5.0, 5.0, 1.0, 5.0, 3.0, 2.0, 1.0]\n",
            "347 [3.0, 1.0, 3.0, 1.0, 5.0, 5.0, 1.0, 1.0, 4.0, 4.0]\n",
            "401 [3.0, 4.0, 5.0, 1.0, 5.0, 2.0, 4.0, 5.0, 1.0, 4.0]\n",
            "416 [5.0, 5.0, 1.0, 5.0, 2.0, 3.0, 4.0, 5.0, 5.0, 3.0]\n",
            "542 [1.0, 2.0, 4.0, 3.0, 4.0, 3.0, 4.0, 1.0, 3.0, 1.0]\n",
            "133 [5.0, 3.0, 1.0, 2.0, 5.0, 5.0, 2.0, 2.0, 5.0, 5.0]\n",
            "668 [2.0, 5.0, 3.0, 3.0, 5.0, 1.0, 5.0, 5.0, 2.0, 2.0]\n",
            "907 [1.0, 1.0, 1.0, 1.0, 2.0, 4.0, 3.0, 2.0, 4.0, 1.0]\n",
            "153 [3.0, 2.0, 5.0, 2.0, 3.0, 2.0, 5.0, 4.0, 1.0, 3.0]\n",
            "678 [1.0, 3.0, 1.0, 1.0, 2.0, 1.0, 1.0, 2.0, 2.0, 1.0]\n",
            "694 [5.0, 1.0, 3.0, 5.0, 4.0, 1.0, 1.0, 2.0, 3.0, 3.0]\n",
            "194 [5.0, 3.0, 1.0, 3.0, 4.0, 3.0, 3.0, 3.0, 3.0, 1.0]\n",
            "434 [1.0, 5.0, 1.0, 4.0, 5.0, 3.0, 2.0, 1.0, 5.0, 4.0]\n",
            "455 [2.0, 3.0, 4.0, 2.0, 2.0, 4.0, 3.0, 2.0, 2.0, 4.0]\n",
            "152 [2.0, 2.0, 3.0, 3.0, 4.0, 5.0, 1.0, 4.0, 4.0, 1.0]\n",
            "104 [3.0, 1.0, 1.0, 1.0, 5.0, 5.0, 3.0, 2.0, 3.0, 3.0]\n",
            "475 [5.0, 5.0, 1.0, 4.0, 3.0, 1.0, 4.0, 4.0, 3.0, 3.0]\n",
            "836 [2.0, 5.0, 2.0, 4.0, 4.0, 3.0, 2.0, 1.0, 1.0, 4.0]\n",
            "872 [1.0, 3.0, 3.0, 2.0, 1.0, 2.0, 1.0, 5.0, 4.0, 4.0]\n",
            "355 [5.0, 4.0, 3.0, 3.0, 3.0, 2.0, 1.0, 3.0, 4.0, 3.0]\n",
            "700 [3.0, 3.0, 2.0, 2.0, 3.0, 5.0, 4.0, 1.0, 4.0, 2.0]\n",
            "601 [1.0, 3.0, 1.0, 5.0, 2.0, 3.0, 4.0, 1.0, 3.0, 1.0]\n",
            "384 [2.0, 1.0, 3.0, 1.0, 4.0, 3.0, 5.0, 2.0, 2.0, 3.0]\n",
            "974 [4.0, 1.0, 2.0, 1.0, 2.0, 3.0, 3.0, 5.0, 2.0, 1.0]\n",
            "757 [3.0, 5.0, 4.0, 3.0, 2.0, 4.0, 1.0, 1.0, 5.0, 2.0]\n",
            "768 [1.0, 5.0, 4.0, 2.0, 4.0, 5.0, 4.0, 2.0, 5.0, 1.0]\n",
            "1000 [1.0, 1.0, 5.0, 1.0, 2.0, 2.0, 5.0, 1.0, 5.0, 4.0]\n",
            "29 [4.0, 4.0, 4.0, 3.0, 5.0, 1.0, 1.0, 3.0, 2.0, 1.0]\n",
            "115 [1.0, 3.0, 4.0, 3.0, 3.0, 1.0, 2.0, 4.0, 1.0, 2.0]\n",
            "449 [2.0, 1.0, 3.0, 4.0, 1.0, 1.0, 1.0, 1.0, 3.0, 5.0]\n",
            "604 [4.0, 5.0, 2.0, 2.0, 2.0, 5.0, 1.0, 1.0, 4.0, 5.0]\n",
            "180 [3.0, 4.0, 4.0, 4.0, 2.0, 2.0, 2.0, 1.0, 4.0, 3.0]\n",
            "107 [2.0, 1.0, 1.0, 5.0, 4.0, 3.0, 4.0, 3.0, 2.0, 3.0]\n",
            "221 [2.0, 3.0, 5.0, 4.0, 1.0, 3.0, 2.0, 4.0, 3.0, 4.0]\n",
            "568 [3.0, 2.0, 2.0, 1.0, 5.0, 4.0, 5.0, 4.0, 3.0, 5.0]\n",
            "820 [2.0, 5.0, 5.0, 4.0, 1.0, 1.0, 4.0, 3.0, 2.0, 2.0]\n",
            "339 [1.0, 2.0, 4.0, 1.0, 4.0, 1.0, 5.0, 5.0, 1.0, 5.0]\n",
            "167 [4.0, 2.0, 2.0, 1.0, 4.0, 4.0, 2.0, 2.0, 2.0, 2.0]\n",
            "314 [3.0, 5.0, 3.0, 3.0, 5.0, 2.0, 1.0, 3.0, 3.0, 1.0]\n",
            "82 [3.0, 1.0, 4.0, 2.0, 4.0, 2.0, 2.0, 3.0, 5.0, 2.0]\n",
            "571 [4.0, 3.0, 2.0, 3.0, 5.0, 1.0, 5.0, 4.0, 5.0, 3.0]\n",
            "818 [2.0, 1.0, 3.0, 1.0, 4.0, 5.0, 1.0, 3.0, 3.0, 1.0]\n",
            "718 [1.0, 1.0, 5.0, 1.0, 3.0, 3.0, 3.0, 1.0, 5.0, 1.0]\n",
            "408 [3.0, 2.0, 2.0, 1.0, 3.0, 1.0, 4.0, 4.0, 2.0, 5.0]\n",
            "623 [5.0, 3.0, 2.0, 4.0, 1.0, 2.0, 2.0, 3.0, 2.0, 4.0]\n",
            "396 [1.0, 1.0, 2.0, 3.0, 2.0, 2.0, 1.0, 3.0, 4.0, 5.0]\n",
            "14 [3.0, 3.0, 2.0, 4.0, 3.0, 4.0, 2.0, 3.0, 4.0, 2.0]\n",
            "381 [4.0, 5.0, 1.0, 5.0, 5.0, 4.0, 3.0, 4.0, 2.0, 3.0]\n",
            "121 [5.0, 1.0, 1.0, 3.0, 2.0, 3.0, 4.0, 5.0, 5.0, 4.0]\n",
            "748 [1.0, 4.0, 1.0, 3.0, 5.0, 5.0, 5.0, 5.0, 4.0, 1.0]\n",
            "273 [4.0, 4.0, 3.0, 4.0, 2.0, 3.0, 1.0, 4.0, 1.0, 3.0]\n",
            "374 [1.0, 1.0, 4.0, 5.0, 3.0, 3.0, 5.0, 3.0, 4.0, 3.0]\n",
            "534 [3.0, 2.0, 4.0, 5.0, 2.0, 3.0, 5.0, 4.0, 1.0, 4.0]\n",
            "161 [2.0, 1.0, 4.0, 2.0, 3.0, 5.0, 1.0, 5.0, 4.0, 1.0]\n",
            "900 [2.0, 3.0, 2.0, 1.0, 5.0, 1.0, 3.0, 1.0, 2.0, 1.0]\n",
            "336 [2.0, 1.0, 2.0, 2.0, 5.0, 3.0, 5.0, 5.0, 4.0, 3.0]\n",
            "634 [5.0, 2.0, 5.0, 3.0, 3.0, 1.0, 2.0, 2.0, 5.0, 2.0]\n",
            "928 [1.0, 3.0, 5.0, 3.0, 2.0, 5.0, 2.0, 5.0, 5.0, 2.0]\n",
            "87 [5.0, 2.0, 1.0, 2.0, 1.0, 2.0, 3.0, 5.0, 5.0, 1.0]\n",
            "239 [3.0, 5.0, 2.0, 2.0, 2.0, 5.0, 1.0, 2.0, 3.0, 5.0]\n",
            "667 [1.0, 3.0, 3.0, 2.0, 2.0, 4.0, 2.0, 5.0, 4.0, 4.0]\n",
            "967 [1.0, 3.0, 2.0, 1.0, 4.0, 4.0, 1.0, 5.0, 4.0, 5.0]\n",
            "130 [5.0, 4.0, 2.0, 3.0, 4.0, 4.0, 3.0, 4.0, 5.0, 4.0]\n",
            "225 [3.0, 2.0, 4.0, 1.0, 3.0, 5.0, 2.0, 1.0, 4.0, 3.0]\n",
            "681 [1.0, 3.0, 4.0, 4.0, 5.0, 4.0, 4.0, 2.0, 1.0, 5.0]\n",
            "56 [5.0, 1.0, 5.0, 1.0, 2.0, 5.0, 5.0, 4.0, 2.0, 4.0]\n",
            "183 [2.0, 4.0, 2.0, 5.0, 3.0, 4.0, 3.0, 2.0, 5.0, 3.0]\n",
            "195 [4.0, 2.0, 5.0, 4.0, 2.0, 2.0, 5.0, 1.0, 5.0, 3.0]\n",
            "278 [5.0, 4.0, 3.0, 1.0, 4.0, 3.0, 4.0, 4.0, 1.0, 5.0]\n",
            "936 [3.0, 1.0, 2.0, 4.0, 4.0, 4.0, 5.0, 2.0, 3.0, 3.0]\n",
            "580 [2.0, 2.0, 1.0, 4.0, 4.0, 1.0, 1.0, 2.0, 1.0, 5.0]\n",
            "177 [3.0, 4.0, 4.0, 2.0, 1.0, 1.0, 2.0, 4.0, 2.0, 1.0]\n",
            "348 [5.0, 2.0, 2.0, 4.0, 1.0, 3.0, 4.0, 4.0, 1.0, 2.0]\n",
            "425 [4.0, 5.0, 4.0, 2.0, 4.0, 2.0, 3.0, 1.0, 3.0, 4.0]\n",
            "291 [4.0, 4.0, 1.0, 4.0, 4.0, 2.0, 4.0, 5.0, 3.0, 5.0]\n",
            "51 [1.0, 2.0, 2.0, 2.0, 3.0, 4.0, 5.0, 1.0, 4.0, 4.0]\n",
            "737 [1.0, 4.0, 1.0, 4.0, 4.0, 5.0, 2.0, 3.0, 4.0, 4.0]\n",
            "536 [4.0, 4.0, 4.0, 5.0, 1.0, 2.0, 1.0, 3.0, 3.0, 2.0]\n",
            "953 [5.0, 1.0, 4.0, 1.0, 5.0, 4.0, 4.0, 1.0, 3.0, 4.0]\n",
            "366 [2.0, 5.0, 4.0, 3.0, 1.0, 2.0, 4.0, 4.0, 2.0, 2.0]\n",
            "48 [3.0, 3.0, 2.0, 3.0, 4.0, 1.0, 5.0, 5.0, 4.0, 3.0]\n",
            "815 [1.0, 4.0, 2.0, 2.0, 5.0, 1.0, 1.0, 3.0, 3.0, 2.0]\n",
            "299 [3.0, 5.0, 4.0, 2.0, 5.0, 5.0, 3.0, 4.0, 5.0, 1.0]\n",
            "447 [2.0, 1.0, 2.0, 5.0, 3.0, 2.0, 3.0, 5.0, 3.0, 1.0]\n",
            "151 [1.0, 4.0, 5.0, 3.0, 3.0, 1.0, 1.0, 1.0, 1.0, 1.0]\n",
            "914 [1.0, 1.0, 2.0, 4.0, 3.0, 1.0, 3.0, 2.0, 2.0, 2.0]\n",
            "650 [1.0, 4.0, 1.0, 1.0, 4.0, 4.0, 4.0, 2.0, 3.0, 5.0]\n",
            "539 [5.0, 2.0, 5.0, 2.0, 5.0, 4.0, 3.0, 2.0, 5.0, 4.0]\n",
            "808 [4.0, 4.0, 4.0, 4.0, 1.0, 5.0, 2.0, 4.0, 3.0, 5.0]\n",
            "761 [4.0, 3.0, 2.0, 5.0, 2.0, 1.0, 3.0, 4.0, 1.0, 2.0]\n",
            "248 [2.0, 3.0, 1.0, 1.0, 2.0, 4.0, 3.0, 2.0, 3.0, 3.0]\n",
            "86 [4.0, 3.0, 2.0, 2.0, 4.0, 2.0, 3.0, 1.0, 2.0, 1.0]\n",
            "831 [1.0, 3.0, 3.0, 5.0, 4.0, 1.0, 1.0, 3.0, 1.0, 2.0]\n",
            "905 [3.0, 1.0, 1.0, 2.0, 3.0, 2.0, 5.0, 3.0, 1.0, 5.0]\n",
            "135 [4.0, 3.0, 4.0, 4.0, 1.0, 2.0, 1.0, 3.0, 2.0, 1.0]\n",
            "457 [3.0, 4.0, 2.0, 4.0, 3.0, 2.0, 5.0, 5.0, 3.0, 5.0]\n",
            "445 [1.0, 5.0, 5.0, 1.0, 2.0, 5.0, 1.0, 1.0, 3.0, 4.0]\n",
            "302 [4.0, 1.0, 4.0, 4.0, 5.0, 1.0, 2.0, 1.0, 4.0, 2.0]\n",
            "585 [5.0, 4.0, 4.0, 2.0, 4.0, 2.0, 4.0, 1.0, 2.0, 2.0]\n",
            "945 [5.0, 5.0, 1.0, 4.0, 4.0, 3.0, 4.0, 1.0, 1.0, 1.0]\n",
            "531 [5.0, 2.0, 1.0, 5.0, 3.0, 1.0, 3.0, 4.0, 5.0, 4.0]\n",
            "645 [3.0, 4.0, 4.0, 4.0, 2.0, 5.0, 5.0, 5.0, 5.0, 4.0]\n",
            "345 [4.0, 5.0, 4.0, 2.0, 1.0, 1.0, 5.0, 1.0, 2.0, 4.0]\n",
            "743 [4.0, 2.0, 4.0, 1.0, 3.0, 5.0, 5.0, 2.0, 2.0, 5.0]\n",
            "73 [4.0, 1.0, 5.0, 1.0, 5.0, 1.0, 3.0, 4.0, 5.0, 2.0]\n",
            "530 [4.0, 2.0, 2.0, 1.0, 2.0, 2.0, 5.0, 3.0, 2.0, 2.0]\n",
            "677 [4.0, 3.0, 5.0, 1.0, 3.0, 1.0, 1.0, 2.0, 5.0, 2.0]\n",
            "689 [4.0, 1.0, 1.0, 5.0, 2.0, 5.0, 3.0, 2.0, 5.0, 3.0]\n",
            "309 [4.0, 3.0, 3.0, 1.0, 4.0, 1.0, 4.0, 5.0, 4.0, 1.0]\n",
            "126 [1.0, 1.0, 2.0, 3.0, 2.0, 3.0, 4.0, 1.0, 5.0, 5.0]\n",
            "995 [1.0, 1.0, 5.0, 2.0, 4.0, 3.0, 1.0, 4.0, 3.0, 3.0]\n",
            "281 [5.0, 5.0, 4.0, 5.0, 3.0, 2.0, 5.0, 2.0, 1.0, 5.0]\n",
            "595 [1.0, 3.0, 5.0, 2.0, 1.0, 2.0, 5.0, 5.0, 2.0, 2.0]\n",
            "337 [3.0, 5.0, 5.0, 3.0, 1.0, 1.0, 4.0, 3.0, 3.0, 5.0]\n",
            "578 [2.0, 4.0, 2.0, 5.0, 3.0, 3.0, 5.0, 1.0, 1.0, 5.0]\n",
            "921 [4.0, 3.0, 1.0, 3.0, 5.0, 1.0, 1.0, 1.0, 3.0, 1.0]\n",
            "608 [1.0, 2.0, 3.0, 5.0, 1.0, 1.0, 3.0, 3.0, 5.0, 2.0]\n",
            "588 [4.0, 3.0, 3.0, 5.0, 4.0, 2.0, 3.0, 3.0, 5.0, 1.0]\n",
            "176 [1.0, 2.0, 1.0, 5.0, 2.0, 4.0, 5.0, 3.0, 1.0, 3.0]\n",
            "684 [1.0, 5.0, 4.0, 2.0, 5.0, 3.0, 4.0, 4.0, 1.0, 1.0]\n",
            "724 [5.0, 2.0, 1.0, 4.0, 5.0, 3.0, 2.0, 5.0, 5.0, 1.0]\n",
            "378 [1.0, 5.0, 2.0, 5.0, 1.0, 3.0, 5.0, 5.0, 2.0, 4.0]\n",
            "159 [5.0, 4.0, 3.0, 2.0, 4.0, 4.0, 2.0, 4.0, 1.0, 1.0]\n",
            "583 [2.0, 5.0, 1.0, 1.0, 2.0, 1.0, 2.0, 3.0, 2.0, 2.0]\n",
            "341 [4.0, 5.0, 4.0, 2.0, 5.0, 1.0, 5.0, 4.0, 3.0, 1.0]\n",
            "473 [2.0, 5.0, 3.0, 5.0, 3.0, 3.0, 2.0, 4.0, 4.0, 5.0]\n",
            "662 [5.0, 3.0, 4.0, 5.0, 2.0, 2.0, 4.0, 3.0, 3.0, 3.0]\n",
            "402 [4.0, 3.0, 4.0, 3.0, 3.0, 4.0, 4.0, 5.0, 4.0, 3.0]\n",
            "549 [5.0, 1.0, 2.0, 3.0, 4.0, 4.0, 1.0, 1.0, 3.0, 1.0]\n",
            "53 [5.0, 1.0, 1.0, 1.0, 1.0, 2.0, 2.0, 5.0, 3.0, 5.0]\n",
            "858 [1.0, 3.0, 1.0, 4.0, 5.0, 5.0, 4.0, 3.0, 3.0, 2.0]\n",
            "394 [5.0, 4.0, 5.0, 3.0, 5.0, 4.0, 5.0, 4.0, 2.0, 3.0]\n",
            "605 [3.0, 1.0, 5.0, 4.0, 4.0, 2.0, 1.0, 5.0, 2.0, 3.0]\n",
            "496 [2.0, 3.0, 3.0, 5.0, 4.0, 3.0, 2.0, 3.0, 4.0, 1.0]\n",
            "233 [3.0, 5.0, 4.0, 4.0, 1.0, 2.0, 1.0, 4.0, 2.0, 1.0]\n",
            "732 [4.0, 4.0, 2.0, 1.0, 5.0, 5.0, 2.0, 2.0, 1.0, 2.0]\n",
            "729 [2.0, 2.0, 5.0, 2.0, 5.0, 3.0, 4.0, 1.0, 1.0, 3.0]\n",
            "250 [5.0, 2.0, 3.0, 5.0, 3.0, 1.0, 5.0, 4.0, 3.0, 1.0]\n",
            "525 [5.0, 1.0, 3.0, 3.0, 2.0, 3.0, 2.0, 2.0, 3.0, 4.0]\n",
            "160 [1.0, 4.0, 3.0, 5.0, 2.0, 2.0, 5.0, 5.0, 1.0, 2.0]\n",
            "377 [2.0, 2.0, 1.0, 4.0, 3.0, 4.0, 2.0, 2.0, 5.0, 3.0]\n",
            "657 [3.0, 5.0, 3.0, 4.0, 1.0, 3.0, 1.0, 1.0, 5.0, 5.0]\n",
            "957 [1.0, 5.0, 2.0, 2.0, 4.0, 1.0, 3.0, 1.0, 2.0, 5.0]\n",
            "778 [4.0, 4.0, 3.0, 2.0, 4.0, 4.0, 4.0, 4.0, 1.0, 2.0]\n",
            "329 [4.0, 3.0, 5.0, 5.0, 5.0, 5.0, 1.0, 1.0, 2.0, 2.0]\n",
            "386 [1.0, 3.0, 2.0, 5.0, 4.0, 4.0, 1.0, 5.0, 3.0, 4.0]\n",
            "442 [1.0, 2.0, 1.0, 5.0, 1.0, 1.0, 1.0, 1.0, 5.0, 3.0]\n",
            "801 [5.0, 4.0, 5.0, 1.0, 2.0, 3.0, 2.0, 2.0, 5.0, 2.0]\n",
            "790 [2.0, 1.0, 1.0, 2.0, 5.0, 1.0, 1.0, 4.0, 1.0, 1.0]\n",
            "769 [5.0, 5.0, 1.0, 1.0, 1.0, 3.0, 5.0, 2.0, 1.0, 3.0]\n",
            "865 [2.0, 2.0, 3.0, 2.0, 4.0, 2.0, 4.0, 3.0, 2.0, 3.0]\n",
            "887 [3.0, 4.0, 4.0, 5.0, 5.0, 1.0, 1.0, 1.0, 1.0, 2.0]\n",
            "410 [2.0, 4.0, 4.0, 3.0, 4.0, 1.0, 5.0, 4.0, 2.0, 3.0]\n",
            "47 [1.0, 5.0, 1.0, 4.0, 4.0, 4.0, 2.0, 4.0, 2.0, 2.0]\n",
            "142 [3.0, 4.0, 4.0, 3.0, 4.0, 5.0, 5.0, 5.0, 4.0, 2.0]\n",
            "169 [1.0, 2.0, 5.0, 2.0, 5.0, 3.0, 1.0, 5.0, 2.0, 2.0]\n",
            "744 [3.0, 1.0, 5.0, 2.0, 2.0, 4.0, 2.0, 4.0, 4.0, 3.0]\n",
            "690 [1.0, 5.0, 5.0, 1.0, 1.0, 3.0, 1.0, 3.0, 2.0, 3.0]\n",
            "362 [5.0, 4.0, 3.0, 2.0, 2.0, 5.0, 5.0, 2.0, 4.0, 5.0]\n",
            "964 [1.0, 3.0, 5.0, 3.0, 2.0, 5.0, 5.0, 3.0, 4.0, 1.0]\n",
            "547 [3.0, 1.0, 2.0, 4.0, 3.0, 5.0, 2.0, 5.0, 1.0, 5.0]\n",
            "943 [5.0, 1.0, 1.0, 2.0, 1.0, 1.0, 2.0, 2.0, 4.0, 4.0]\n",
            "472 [4.0, 3.0, 2.0, 4.0, 1.0, 3.0, 3.0, 2.0, 3.0, 3.0]\n",
            "301 [1.0, 4.0, 1.0, 2.0, 4.0, 3.0, 2.0, 3.0, 4.0, 2.0]\n",
            "154 [2.0, 3.0, 1.0, 5.0, 5.0, 3.0, 2.0, 3.0, 1.0, 1.0]\n",
            "989 [5.0, 4.0, 1.0, 2.0, 4.0, 4.0, 1.0, 4.0, 5.0, 2.0]\n",
            "423 [3.0, 4.0, 2.0, 5.0, 1.0, 3.0, 4.0, 3.0, 3.0, 4.0]\n",
            "607 [4.0, 2.0, 3.0, 5.0, 1.0, 2.0, 4.0, 3.0, 4.0, 1.0]\n",
            "33 [1.0, 5.0, 2.0, 3.0, 1.0, 1.0, 4.0, 1.0, 1.0, 5.0]\n",
            "614 [5.0, 5.0, 1.0, 5.0, 1.0, 3.0, 4.0, 4.0, 1.0, 4.0]\n",
            "890 [1.0, 1.0, 5.0, 1.0, 1.0, 4.0, 3.0, 2.0, 1.0, 4.0]\n",
            "36 [3.0, 5.0, 5.0, 4.0, 4.0, 3.0, 2.0, 2.0, 4.0, 1.0]\n",
            "283 [1.0, 4.0, 5.0, 3.0, 3.0, 3.0, 3.0, 4.0, 5.0, 4.0]\n",
            "38 [2.0, 4.0, 4.0, 4.0, 1.0, 1.0, 2.0, 4.0, 1.0, 1.0]\n",
            "344 [5.0, 4.0, 5.0, 2.0, 3.0, 5.0, 3.0, 1.0, 3.0, 1.0]\n",
            "284 [2.0, 4.0, 4.0, 5.0, 3.0, 1.0, 2.0, 3.0, 3.0, 2.0]\n",
            "877 [1.0, 3.0, 1.0, 3.0, 1.0, 1.0, 4.0, 2.0, 5.0, 1.0]\n"
          ],
          "name": "stdout"
        }
      ]
    },
    {
      "cell_type": "code",
      "metadata": {
        "id": "77fI-eFgwEVa"
      },
      "source": [
        ""
      ],
      "execution_count": null,
      "outputs": []
    }
  ]
}